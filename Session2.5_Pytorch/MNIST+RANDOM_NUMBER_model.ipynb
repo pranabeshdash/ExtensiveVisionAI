{
  "nbformat": 4,
  "nbformat_minor": 0,
  "metadata": {
    "colab": {
      "name": "MNIST+RANDOM_NUMBER model.ipynb",
      "provenance": [],
      "collapsed_sections": []
    },
    "kernelspec": {
      "name": "python3",
      "display_name": "Python 3"
    },
    "language_info": {
      "name": "python"
    },
    "accelerator": "GPU",
    "widgets": {
      "application/vnd.jupyter.widget-state+json": {
        "356c2be33b974e78956c433e0fc9ab8f": {
          "model_module": "@jupyter-widgets/controls",
          "model_name": "HBoxModel",
          "model_module_version": "1.5.0",
          "state": {
            "_view_name": "HBoxView",
            "_dom_classes": [],
            "_model_name": "HBoxModel",
            "_view_module": "@jupyter-widgets/controls",
            "_model_module_version": "1.5.0",
            "_view_count": null,
            "_view_module_version": "1.5.0",
            "box_style": "",
            "layout": "IPY_MODEL_c44befc271774bdaa5549866fa8fd1e0",
            "_model_module": "@jupyter-widgets/controls",
            "children": [
              "IPY_MODEL_59661b604cfa4ae49c7c67b456467462",
              "IPY_MODEL_17418fd278a5487eaa2ce56220de58bb",
              "IPY_MODEL_af9ded5760a14a0c89383f37064f70bf"
            ]
          }
        },
        "c44befc271774bdaa5549866fa8fd1e0": {
          "model_module": "@jupyter-widgets/base",
          "model_name": "LayoutModel",
          "model_module_version": "1.2.0",
          "state": {
            "_view_name": "LayoutView",
            "grid_template_rows": null,
            "right": null,
            "justify_content": null,
            "_view_module": "@jupyter-widgets/base",
            "overflow": null,
            "_model_module_version": "1.2.0",
            "_view_count": null,
            "flex_flow": null,
            "width": null,
            "min_width": null,
            "border": null,
            "align_items": null,
            "bottom": null,
            "_model_module": "@jupyter-widgets/base",
            "top": null,
            "grid_column": null,
            "overflow_y": null,
            "overflow_x": null,
            "grid_auto_flow": null,
            "grid_area": null,
            "grid_template_columns": null,
            "flex": null,
            "_model_name": "LayoutModel",
            "justify_items": null,
            "grid_row": null,
            "max_height": null,
            "align_content": null,
            "visibility": null,
            "align_self": null,
            "height": null,
            "min_height": null,
            "padding": null,
            "grid_auto_rows": null,
            "grid_gap": null,
            "max_width": null,
            "order": null,
            "_view_module_version": "1.2.0",
            "grid_template_areas": null,
            "object_position": null,
            "object_fit": null,
            "grid_auto_columns": null,
            "margin": null,
            "display": null,
            "left": null
          }
        },
        "59661b604cfa4ae49c7c67b456467462": {
          "model_module": "@jupyter-widgets/controls",
          "model_name": "HTMLModel",
          "model_module_version": "1.5.0",
          "state": {
            "_view_name": "HTMLView",
            "style": "IPY_MODEL_87e2f6d9ba1243fc85ee3115da21ca04",
            "_dom_classes": [],
            "description": "",
            "_model_name": "HTMLModel",
            "placeholder": "​",
            "_view_module": "@jupyter-widgets/controls",
            "_model_module_version": "1.5.0",
            "value": "",
            "_view_count": null,
            "_view_module_version": "1.5.0",
            "description_tooltip": null,
            "_model_module": "@jupyter-widgets/controls",
            "layout": "IPY_MODEL_9bc745bc58664e7db596fe40a6248c73"
          }
        },
        "17418fd278a5487eaa2ce56220de58bb": {
          "model_module": "@jupyter-widgets/controls",
          "model_name": "FloatProgressModel",
          "model_module_version": "1.5.0",
          "state": {
            "_view_name": "ProgressView",
            "style": "IPY_MODEL_e210cb9885494114b30ae505e6539a45",
            "_dom_classes": [],
            "description": "",
            "_model_name": "FloatProgressModel",
            "bar_style": "success",
            "max": 9912422,
            "_view_module": "@jupyter-widgets/controls",
            "_model_module_version": "1.5.0",
            "value": 9912422,
            "_view_count": null,
            "_view_module_version": "1.5.0",
            "orientation": "horizontal",
            "min": 0,
            "description_tooltip": null,
            "_model_module": "@jupyter-widgets/controls",
            "layout": "IPY_MODEL_2da28bd2bf7842a497aa96535c1a78d6"
          }
        },
        "af9ded5760a14a0c89383f37064f70bf": {
          "model_module": "@jupyter-widgets/controls",
          "model_name": "HTMLModel",
          "model_module_version": "1.5.0",
          "state": {
            "_view_name": "HTMLView",
            "style": "IPY_MODEL_376fa5c3a7484f278b213d56b01766e9",
            "_dom_classes": [],
            "description": "",
            "_model_name": "HTMLModel",
            "placeholder": "​",
            "_view_module": "@jupyter-widgets/controls",
            "_model_module_version": "1.5.0",
            "value": " 9913344/? [00:00&lt;00:00, 42170960.73it/s]",
            "_view_count": null,
            "_view_module_version": "1.5.0",
            "description_tooltip": null,
            "_model_module": "@jupyter-widgets/controls",
            "layout": "IPY_MODEL_bd37550c2790484cb3ec62d69fd660ab"
          }
        },
        "87e2f6d9ba1243fc85ee3115da21ca04": {
          "model_module": "@jupyter-widgets/controls",
          "model_name": "DescriptionStyleModel",
          "model_module_version": "1.5.0",
          "state": {
            "_view_name": "StyleView",
            "_model_name": "DescriptionStyleModel",
            "description_width": "",
            "_view_module": "@jupyter-widgets/base",
            "_model_module_version": "1.5.0",
            "_view_count": null,
            "_view_module_version": "1.2.0",
            "_model_module": "@jupyter-widgets/controls"
          }
        },
        "9bc745bc58664e7db596fe40a6248c73": {
          "model_module": "@jupyter-widgets/base",
          "model_name": "LayoutModel",
          "model_module_version": "1.2.0",
          "state": {
            "_view_name": "LayoutView",
            "grid_template_rows": null,
            "right": null,
            "justify_content": null,
            "_view_module": "@jupyter-widgets/base",
            "overflow": null,
            "_model_module_version": "1.2.0",
            "_view_count": null,
            "flex_flow": null,
            "width": null,
            "min_width": null,
            "border": null,
            "align_items": null,
            "bottom": null,
            "_model_module": "@jupyter-widgets/base",
            "top": null,
            "grid_column": null,
            "overflow_y": null,
            "overflow_x": null,
            "grid_auto_flow": null,
            "grid_area": null,
            "grid_template_columns": null,
            "flex": null,
            "_model_name": "LayoutModel",
            "justify_items": null,
            "grid_row": null,
            "max_height": null,
            "align_content": null,
            "visibility": null,
            "align_self": null,
            "height": null,
            "min_height": null,
            "padding": null,
            "grid_auto_rows": null,
            "grid_gap": null,
            "max_width": null,
            "order": null,
            "_view_module_version": "1.2.0",
            "grid_template_areas": null,
            "object_position": null,
            "object_fit": null,
            "grid_auto_columns": null,
            "margin": null,
            "display": null,
            "left": null
          }
        },
        "e210cb9885494114b30ae505e6539a45": {
          "model_module": "@jupyter-widgets/controls",
          "model_name": "ProgressStyleModel",
          "model_module_version": "1.5.0",
          "state": {
            "_view_name": "StyleView",
            "_model_name": "ProgressStyleModel",
            "description_width": "",
            "_view_module": "@jupyter-widgets/base",
            "_model_module_version": "1.5.0",
            "_view_count": null,
            "_view_module_version": "1.2.0",
            "bar_color": null,
            "_model_module": "@jupyter-widgets/controls"
          }
        },
        "2da28bd2bf7842a497aa96535c1a78d6": {
          "model_module": "@jupyter-widgets/base",
          "model_name": "LayoutModel",
          "model_module_version": "1.2.0",
          "state": {
            "_view_name": "LayoutView",
            "grid_template_rows": null,
            "right": null,
            "justify_content": null,
            "_view_module": "@jupyter-widgets/base",
            "overflow": null,
            "_model_module_version": "1.2.0",
            "_view_count": null,
            "flex_flow": null,
            "width": null,
            "min_width": null,
            "border": null,
            "align_items": null,
            "bottom": null,
            "_model_module": "@jupyter-widgets/base",
            "top": null,
            "grid_column": null,
            "overflow_y": null,
            "overflow_x": null,
            "grid_auto_flow": null,
            "grid_area": null,
            "grid_template_columns": null,
            "flex": null,
            "_model_name": "LayoutModel",
            "justify_items": null,
            "grid_row": null,
            "max_height": null,
            "align_content": null,
            "visibility": null,
            "align_self": null,
            "height": null,
            "min_height": null,
            "padding": null,
            "grid_auto_rows": null,
            "grid_gap": null,
            "max_width": null,
            "order": null,
            "_view_module_version": "1.2.0",
            "grid_template_areas": null,
            "object_position": null,
            "object_fit": null,
            "grid_auto_columns": null,
            "margin": null,
            "display": null,
            "left": null
          }
        },
        "376fa5c3a7484f278b213d56b01766e9": {
          "model_module": "@jupyter-widgets/controls",
          "model_name": "DescriptionStyleModel",
          "model_module_version": "1.5.0",
          "state": {
            "_view_name": "StyleView",
            "_model_name": "DescriptionStyleModel",
            "description_width": "",
            "_view_module": "@jupyter-widgets/base",
            "_model_module_version": "1.5.0",
            "_view_count": null,
            "_view_module_version": "1.2.0",
            "_model_module": "@jupyter-widgets/controls"
          }
        },
        "bd37550c2790484cb3ec62d69fd660ab": {
          "model_module": "@jupyter-widgets/base",
          "model_name": "LayoutModel",
          "model_module_version": "1.2.0",
          "state": {
            "_view_name": "LayoutView",
            "grid_template_rows": null,
            "right": null,
            "justify_content": null,
            "_view_module": "@jupyter-widgets/base",
            "overflow": null,
            "_model_module_version": "1.2.0",
            "_view_count": null,
            "flex_flow": null,
            "width": null,
            "min_width": null,
            "border": null,
            "align_items": null,
            "bottom": null,
            "_model_module": "@jupyter-widgets/base",
            "top": null,
            "grid_column": null,
            "overflow_y": null,
            "overflow_x": null,
            "grid_auto_flow": null,
            "grid_area": null,
            "grid_template_columns": null,
            "flex": null,
            "_model_name": "LayoutModel",
            "justify_items": null,
            "grid_row": null,
            "max_height": null,
            "align_content": null,
            "visibility": null,
            "align_self": null,
            "height": null,
            "min_height": null,
            "padding": null,
            "grid_auto_rows": null,
            "grid_gap": null,
            "max_width": null,
            "order": null,
            "_view_module_version": "1.2.0",
            "grid_template_areas": null,
            "object_position": null,
            "object_fit": null,
            "grid_auto_columns": null,
            "margin": null,
            "display": null,
            "left": null
          }
        },
        "9449f54f7b97461094b46e1bb124b41b": {
          "model_module": "@jupyter-widgets/controls",
          "model_name": "HBoxModel",
          "model_module_version": "1.5.0",
          "state": {
            "_view_name": "HBoxView",
            "_dom_classes": [],
            "_model_name": "HBoxModel",
            "_view_module": "@jupyter-widgets/controls",
            "_model_module_version": "1.5.0",
            "_view_count": null,
            "_view_module_version": "1.5.0",
            "box_style": "",
            "layout": "IPY_MODEL_322d18c0d51a40fd9ae0f966d4b84c5b",
            "_model_module": "@jupyter-widgets/controls",
            "children": [
              "IPY_MODEL_8934b45a124a482c93e43e3672f0938c",
              "IPY_MODEL_a3aa6bbb20a949b18371bd6b729c3dc9",
              "IPY_MODEL_1ce8ab8974b14b529a8b1dd171184811"
            ]
          }
        },
        "322d18c0d51a40fd9ae0f966d4b84c5b": {
          "model_module": "@jupyter-widgets/base",
          "model_name": "LayoutModel",
          "model_module_version": "1.2.0",
          "state": {
            "_view_name": "LayoutView",
            "grid_template_rows": null,
            "right": null,
            "justify_content": null,
            "_view_module": "@jupyter-widgets/base",
            "overflow": null,
            "_model_module_version": "1.2.0",
            "_view_count": null,
            "flex_flow": null,
            "width": null,
            "min_width": null,
            "border": null,
            "align_items": null,
            "bottom": null,
            "_model_module": "@jupyter-widgets/base",
            "top": null,
            "grid_column": null,
            "overflow_y": null,
            "overflow_x": null,
            "grid_auto_flow": null,
            "grid_area": null,
            "grid_template_columns": null,
            "flex": null,
            "_model_name": "LayoutModel",
            "justify_items": null,
            "grid_row": null,
            "max_height": null,
            "align_content": null,
            "visibility": null,
            "align_self": null,
            "height": null,
            "min_height": null,
            "padding": null,
            "grid_auto_rows": null,
            "grid_gap": null,
            "max_width": null,
            "order": null,
            "_view_module_version": "1.2.0",
            "grid_template_areas": null,
            "object_position": null,
            "object_fit": null,
            "grid_auto_columns": null,
            "margin": null,
            "display": null,
            "left": null
          }
        },
        "8934b45a124a482c93e43e3672f0938c": {
          "model_module": "@jupyter-widgets/controls",
          "model_name": "HTMLModel",
          "model_module_version": "1.5.0",
          "state": {
            "_view_name": "HTMLView",
            "style": "IPY_MODEL_e8ee68e91af44a208e4b31124f909d70",
            "_dom_classes": [],
            "description": "",
            "_model_name": "HTMLModel",
            "placeholder": "​",
            "_view_module": "@jupyter-widgets/controls",
            "_model_module_version": "1.5.0",
            "value": "",
            "_view_count": null,
            "_view_module_version": "1.5.0",
            "description_tooltip": null,
            "_model_module": "@jupyter-widgets/controls",
            "layout": "IPY_MODEL_9c4dea35e66f402296438f99c65d5563"
          }
        },
        "a3aa6bbb20a949b18371bd6b729c3dc9": {
          "model_module": "@jupyter-widgets/controls",
          "model_name": "FloatProgressModel",
          "model_module_version": "1.5.0",
          "state": {
            "_view_name": "ProgressView",
            "style": "IPY_MODEL_165058afa62042e1a7f11ec82937693f",
            "_dom_classes": [],
            "description": "",
            "_model_name": "FloatProgressModel",
            "bar_style": "success",
            "max": 28881,
            "_view_module": "@jupyter-widgets/controls",
            "_model_module_version": "1.5.0",
            "value": 28881,
            "_view_count": null,
            "_view_module_version": "1.5.0",
            "orientation": "horizontal",
            "min": 0,
            "description_tooltip": null,
            "_model_module": "@jupyter-widgets/controls",
            "layout": "IPY_MODEL_8f628cfcc9a244a8848bb9267bfdc849"
          }
        },
        "1ce8ab8974b14b529a8b1dd171184811": {
          "model_module": "@jupyter-widgets/controls",
          "model_name": "HTMLModel",
          "model_module_version": "1.5.0",
          "state": {
            "_view_name": "HTMLView",
            "style": "IPY_MODEL_7cd247d6f43f4cac8a4813b0994d6bfe",
            "_dom_classes": [],
            "description": "",
            "_model_name": "HTMLModel",
            "placeholder": "​",
            "_view_module": "@jupyter-widgets/controls",
            "_model_module_version": "1.5.0",
            "value": " 29696/? [00:00&lt;00:00, 568472.60it/s]",
            "_view_count": null,
            "_view_module_version": "1.5.0",
            "description_tooltip": null,
            "_model_module": "@jupyter-widgets/controls",
            "layout": "IPY_MODEL_215b946a50a948d2a81e3101f22ba962"
          }
        },
        "e8ee68e91af44a208e4b31124f909d70": {
          "model_module": "@jupyter-widgets/controls",
          "model_name": "DescriptionStyleModel",
          "model_module_version": "1.5.0",
          "state": {
            "_view_name": "StyleView",
            "_model_name": "DescriptionStyleModel",
            "description_width": "",
            "_view_module": "@jupyter-widgets/base",
            "_model_module_version": "1.5.0",
            "_view_count": null,
            "_view_module_version": "1.2.0",
            "_model_module": "@jupyter-widgets/controls"
          }
        },
        "9c4dea35e66f402296438f99c65d5563": {
          "model_module": "@jupyter-widgets/base",
          "model_name": "LayoutModel",
          "model_module_version": "1.2.0",
          "state": {
            "_view_name": "LayoutView",
            "grid_template_rows": null,
            "right": null,
            "justify_content": null,
            "_view_module": "@jupyter-widgets/base",
            "overflow": null,
            "_model_module_version": "1.2.0",
            "_view_count": null,
            "flex_flow": null,
            "width": null,
            "min_width": null,
            "border": null,
            "align_items": null,
            "bottom": null,
            "_model_module": "@jupyter-widgets/base",
            "top": null,
            "grid_column": null,
            "overflow_y": null,
            "overflow_x": null,
            "grid_auto_flow": null,
            "grid_area": null,
            "grid_template_columns": null,
            "flex": null,
            "_model_name": "LayoutModel",
            "justify_items": null,
            "grid_row": null,
            "max_height": null,
            "align_content": null,
            "visibility": null,
            "align_self": null,
            "height": null,
            "min_height": null,
            "padding": null,
            "grid_auto_rows": null,
            "grid_gap": null,
            "max_width": null,
            "order": null,
            "_view_module_version": "1.2.0",
            "grid_template_areas": null,
            "object_position": null,
            "object_fit": null,
            "grid_auto_columns": null,
            "margin": null,
            "display": null,
            "left": null
          }
        },
        "165058afa62042e1a7f11ec82937693f": {
          "model_module": "@jupyter-widgets/controls",
          "model_name": "ProgressStyleModel",
          "model_module_version": "1.5.0",
          "state": {
            "_view_name": "StyleView",
            "_model_name": "ProgressStyleModel",
            "description_width": "",
            "_view_module": "@jupyter-widgets/base",
            "_model_module_version": "1.5.0",
            "_view_count": null,
            "_view_module_version": "1.2.0",
            "bar_color": null,
            "_model_module": "@jupyter-widgets/controls"
          }
        },
        "8f628cfcc9a244a8848bb9267bfdc849": {
          "model_module": "@jupyter-widgets/base",
          "model_name": "LayoutModel",
          "model_module_version": "1.2.0",
          "state": {
            "_view_name": "LayoutView",
            "grid_template_rows": null,
            "right": null,
            "justify_content": null,
            "_view_module": "@jupyter-widgets/base",
            "overflow": null,
            "_model_module_version": "1.2.0",
            "_view_count": null,
            "flex_flow": null,
            "width": null,
            "min_width": null,
            "border": null,
            "align_items": null,
            "bottom": null,
            "_model_module": "@jupyter-widgets/base",
            "top": null,
            "grid_column": null,
            "overflow_y": null,
            "overflow_x": null,
            "grid_auto_flow": null,
            "grid_area": null,
            "grid_template_columns": null,
            "flex": null,
            "_model_name": "LayoutModel",
            "justify_items": null,
            "grid_row": null,
            "max_height": null,
            "align_content": null,
            "visibility": null,
            "align_self": null,
            "height": null,
            "min_height": null,
            "padding": null,
            "grid_auto_rows": null,
            "grid_gap": null,
            "max_width": null,
            "order": null,
            "_view_module_version": "1.2.0",
            "grid_template_areas": null,
            "object_position": null,
            "object_fit": null,
            "grid_auto_columns": null,
            "margin": null,
            "display": null,
            "left": null
          }
        },
        "7cd247d6f43f4cac8a4813b0994d6bfe": {
          "model_module": "@jupyter-widgets/controls",
          "model_name": "DescriptionStyleModel",
          "model_module_version": "1.5.0",
          "state": {
            "_view_name": "StyleView",
            "_model_name": "DescriptionStyleModel",
            "description_width": "",
            "_view_module": "@jupyter-widgets/base",
            "_model_module_version": "1.5.0",
            "_view_count": null,
            "_view_module_version": "1.2.0",
            "_model_module": "@jupyter-widgets/controls"
          }
        },
        "215b946a50a948d2a81e3101f22ba962": {
          "model_module": "@jupyter-widgets/base",
          "model_name": "LayoutModel",
          "model_module_version": "1.2.0",
          "state": {
            "_view_name": "LayoutView",
            "grid_template_rows": null,
            "right": null,
            "justify_content": null,
            "_view_module": "@jupyter-widgets/base",
            "overflow": null,
            "_model_module_version": "1.2.0",
            "_view_count": null,
            "flex_flow": null,
            "width": null,
            "min_width": null,
            "border": null,
            "align_items": null,
            "bottom": null,
            "_model_module": "@jupyter-widgets/base",
            "top": null,
            "grid_column": null,
            "overflow_y": null,
            "overflow_x": null,
            "grid_auto_flow": null,
            "grid_area": null,
            "grid_template_columns": null,
            "flex": null,
            "_model_name": "LayoutModel",
            "justify_items": null,
            "grid_row": null,
            "max_height": null,
            "align_content": null,
            "visibility": null,
            "align_self": null,
            "height": null,
            "min_height": null,
            "padding": null,
            "grid_auto_rows": null,
            "grid_gap": null,
            "max_width": null,
            "order": null,
            "_view_module_version": "1.2.0",
            "grid_template_areas": null,
            "object_position": null,
            "object_fit": null,
            "grid_auto_columns": null,
            "margin": null,
            "display": null,
            "left": null
          }
        },
        "a06969a575494de891d2015a822bf2c4": {
          "model_module": "@jupyter-widgets/controls",
          "model_name": "HBoxModel",
          "model_module_version": "1.5.0",
          "state": {
            "_view_name": "HBoxView",
            "_dom_classes": [],
            "_model_name": "HBoxModel",
            "_view_module": "@jupyter-widgets/controls",
            "_model_module_version": "1.5.0",
            "_view_count": null,
            "_view_module_version": "1.5.0",
            "box_style": "",
            "layout": "IPY_MODEL_878c79df07c24002b4ceb57a499a35e7",
            "_model_module": "@jupyter-widgets/controls",
            "children": [
              "IPY_MODEL_f9ec26a545a945da90a1dc8fc0d86e1b",
              "IPY_MODEL_f2571aff9f684cfbac39185f00a08578",
              "IPY_MODEL_938bf4194d6d44fcb0e4ff1781a99693"
            ]
          }
        },
        "878c79df07c24002b4ceb57a499a35e7": {
          "model_module": "@jupyter-widgets/base",
          "model_name": "LayoutModel",
          "model_module_version": "1.2.0",
          "state": {
            "_view_name": "LayoutView",
            "grid_template_rows": null,
            "right": null,
            "justify_content": null,
            "_view_module": "@jupyter-widgets/base",
            "overflow": null,
            "_model_module_version": "1.2.0",
            "_view_count": null,
            "flex_flow": null,
            "width": null,
            "min_width": null,
            "border": null,
            "align_items": null,
            "bottom": null,
            "_model_module": "@jupyter-widgets/base",
            "top": null,
            "grid_column": null,
            "overflow_y": null,
            "overflow_x": null,
            "grid_auto_flow": null,
            "grid_area": null,
            "grid_template_columns": null,
            "flex": null,
            "_model_name": "LayoutModel",
            "justify_items": null,
            "grid_row": null,
            "max_height": null,
            "align_content": null,
            "visibility": null,
            "align_self": null,
            "height": null,
            "min_height": null,
            "padding": null,
            "grid_auto_rows": null,
            "grid_gap": null,
            "max_width": null,
            "order": null,
            "_view_module_version": "1.2.0",
            "grid_template_areas": null,
            "object_position": null,
            "object_fit": null,
            "grid_auto_columns": null,
            "margin": null,
            "display": null,
            "left": null
          }
        },
        "f9ec26a545a945da90a1dc8fc0d86e1b": {
          "model_module": "@jupyter-widgets/controls",
          "model_name": "HTMLModel",
          "model_module_version": "1.5.0",
          "state": {
            "_view_name": "HTMLView",
            "style": "IPY_MODEL_c4f24d2375064b8e90ebabe6488f9f6b",
            "_dom_classes": [],
            "description": "",
            "_model_name": "HTMLModel",
            "placeholder": "​",
            "_view_module": "@jupyter-widgets/controls",
            "_model_module_version": "1.5.0",
            "value": "",
            "_view_count": null,
            "_view_module_version": "1.5.0",
            "description_tooltip": null,
            "_model_module": "@jupyter-widgets/controls",
            "layout": "IPY_MODEL_6ddb67a3f7b242198b65cff45c76f705"
          }
        },
        "f2571aff9f684cfbac39185f00a08578": {
          "model_module": "@jupyter-widgets/controls",
          "model_name": "FloatProgressModel",
          "model_module_version": "1.5.0",
          "state": {
            "_view_name": "ProgressView",
            "style": "IPY_MODEL_f81e37f147964c8183e70ec3ecbb3ced",
            "_dom_classes": [],
            "description": "",
            "_model_name": "FloatProgressModel",
            "bar_style": "success",
            "max": 1648877,
            "_view_module": "@jupyter-widgets/controls",
            "_model_module_version": "1.5.0",
            "value": 1648877,
            "_view_count": null,
            "_view_module_version": "1.5.0",
            "orientation": "horizontal",
            "min": 0,
            "description_tooltip": null,
            "_model_module": "@jupyter-widgets/controls",
            "layout": "IPY_MODEL_ad8873e7ed0c4fbcb9b10273e40c38fd"
          }
        },
        "938bf4194d6d44fcb0e4ff1781a99693": {
          "model_module": "@jupyter-widgets/controls",
          "model_name": "HTMLModel",
          "model_module_version": "1.5.0",
          "state": {
            "_view_name": "HTMLView",
            "style": "IPY_MODEL_776a5f79b7394632841d347bd960c172",
            "_dom_classes": [],
            "description": "",
            "_model_name": "HTMLModel",
            "placeholder": "​",
            "_view_module": "@jupyter-widgets/controls",
            "_model_module_version": "1.5.0",
            "value": " 1649664/? [00:00&lt;00:00, 8368989.19it/s]",
            "_view_count": null,
            "_view_module_version": "1.5.0",
            "description_tooltip": null,
            "_model_module": "@jupyter-widgets/controls",
            "layout": "IPY_MODEL_4c79cfd927ca439ebbe49621e2324c67"
          }
        },
        "c4f24d2375064b8e90ebabe6488f9f6b": {
          "model_module": "@jupyter-widgets/controls",
          "model_name": "DescriptionStyleModel",
          "model_module_version": "1.5.0",
          "state": {
            "_view_name": "StyleView",
            "_model_name": "DescriptionStyleModel",
            "description_width": "",
            "_view_module": "@jupyter-widgets/base",
            "_model_module_version": "1.5.0",
            "_view_count": null,
            "_view_module_version": "1.2.0",
            "_model_module": "@jupyter-widgets/controls"
          }
        },
        "6ddb67a3f7b242198b65cff45c76f705": {
          "model_module": "@jupyter-widgets/base",
          "model_name": "LayoutModel",
          "model_module_version": "1.2.0",
          "state": {
            "_view_name": "LayoutView",
            "grid_template_rows": null,
            "right": null,
            "justify_content": null,
            "_view_module": "@jupyter-widgets/base",
            "overflow": null,
            "_model_module_version": "1.2.0",
            "_view_count": null,
            "flex_flow": null,
            "width": null,
            "min_width": null,
            "border": null,
            "align_items": null,
            "bottom": null,
            "_model_module": "@jupyter-widgets/base",
            "top": null,
            "grid_column": null,
            "overflow_y": null,
            "overflow_x": null,
            "grid_auto_flow": null,
            "grid_area": null,
            "grid_template_columns": null,
            "flex": null,
            "_model_name": "LayoutModel",
            "justify_items": null,
            "grid_row": null,
            "max_height": null,
            "align_content": null,
            "visibility": null,
            "align_self": null,
            "height": null,
            "min_height": null,
            "padding": null,
            "grid_auto_rows": null,
            "grid_gap": null,
            "max_width": null,
            "order": null,
            "_view_module_version": "1.2.0",
            "grid_template_areas": null,
            "object_position": null,
            "object_fit": null,
            "grid_auto_columns": null,
            "margin": null,
            "display": null,
            "left": null
          }
        },
        "f81e37f147964c8183e70ec3ecbb3ced": {
          "model_module": "@jupyter-widgets/controls",
          "model_name": "ProgressStyleModel",
          "model_module_version": "1.5.0",
          "state": {
            "_view_name": "StyleView",
            "_model_name": "ProgressStyleModel",
            "description_width": "",
            "_view_module": "@jupyter-widgets/base",
            "_model_module_version": "1.5.0",
            "_view_count": null,
            "_view_module_version": "1.2.0",
            "bar_color": null,
            "_model_module": "@jupyter-widgets/controls"
          }
        },
        "ad8873e7ed0c4fbcb9b10273e40c38fd": {
          "model_module": "@jupyter-widgets/base",
          "model_name": "LayoutModel",
          "model_module_version": "1.2.0",
          "state": {
            "_view_name": "LayoutView",
            "grid_template_rows": null,
            "right": null,
            "justify_content": null,
            "_view_module": "@jupyter-widgets/base",
            "overflow": null,
            "_model_module_version": "1.2.0",
            "_view_count": null,
            "flex_flow": null,
            "width": null,
            "min_width": null,
            "border": null,
            "align_items": null,
            "bottom": null,
            "_model_module": "@jupyter-widgets/base",
            "top": null,
            "grid_column": null,
            "overflow_y": null,
            "overflow_x": null,
            "grid_auto_flow": null,
            "grid_area": null,
            "grid_template_columns": null,
            "flex": null,
            "_model_name": "LayoutModel",
            "justify_items": null,
            "grid_row": null,
            "max_height": null,
            "align_content": null,
            "visibility": null,
            "align_self": null,
            "height": null,
            "min_height": null,
            "padding": null,
            "grid_auto_rows": null,
            "grid_gap": null,
            "max_width": null,
            "order": null,
            "_view_module_version": "1.2.0",
            "grid_template_areas": null,
            "object_position": null,
            "object_fit": null,
            "grid_auto_columns": null,
            "margin": null,
            "display": null,
            "left": null
          }
        },
        "776a5f79b7394632841d347bd960c172": {
          "model_module": "@jupyter-widgets/controls",
          "model_name": "DescriptionStyleModel",
          "model_module_version": "1.5.0",
          "state": {
            "_view_name": "StyleView",
            "_model_name": "DescriptionStyleModel",
            "description_width": "",
            "_view_module": "@jupyter-widgets/base",
            "_model_module_version": "1.5.0",
            "_view_count": null,
            "_view_module_version": "1.2.0",
            "_model_module": "@jupyter-widgets/controls"
          }
        },
        "4c79cfd927ca439ebbe49621e2324c67": {
          "model_module": "@jupyter-widgets/base",
          "model_name": "LayoutModel",
          "model_module_version": "1.2.0",
          "state": {
            "_view_name": "LayoutView",
            "grid_template_rows": null,
            "right": null,
            "justify_content": null,
            "_view_module": "@jupyter-widgets/base",
            "overflow": null,
            "_model_module_version": "1.2.0",
            "_view_count": null,
            "flex_flow": null,
            "width": null,
            "min_width": null,
            "border": null,
            "align_items": null,
            "bottom": null,
            "_model_module": "@jupyter-widgets/base",
            "top": null,
            "grid_column": null,
            "overflow_y": null,
            "overflow_x": null,
            "grid_auto_flow": null,
            "grid_area": null,
            "grid_template_columns": null,
            "flex": null,
            "_model_name": "LayoutModel",
            "justify_items": null,
            "grid_row": null,
            "max_height": null,
            "align_content": null,
            "visibility": null,
            "align_self": null,
            "height": null,
            "min_height": null,
            "padding": null,
            "grid_auto_rows": null,
            "grid_gap": null,
            "max_width": null,
            "order": null,
            "_view_module_version": "1.2.0",
            "grid_template_areas": null,
            "object_position": null,
            "object_fit": null,
            "grid_auto_columns": null,
            "margin": null,
            "display": null,
            "left": null
          }
        },
        "61ccb0bcee1449b4bf9fe85f4de6faf2": {
          "model_module": "@jupyter-widgets/controls",
          "model_name": "HBoxModel",
          "model_module_version": "1.5.0",
          "state": {
            "_view_name": "HBoxView",
            "_dom_classes": [],
            "_model_name": "HBoxModel",
            "_view_module": "@jupyter-widgets/controls",
            "_model_module_version": "1.5.0",
            "_view_count": null,
            "_view_module_version": "1.5.0",
            "box_style": "",
            "layout": "IPY_MODEL_b47a014d228844588692bafea047d326",
            "_model_module": "@jupyter-widgets/controls",
            "children": [
              "IPY_MODEL_94b07a4f3c0249ecb7948c6e0f285a15",
              "IPY_MODEL_d67dd10df8d04eb2a8e4778ad5f6f378",
              "IPY_MODEL_d92f31bc31584d4188a13265699a9d87"
            ]
          }
        },
        "b47a014d228844588692bafea047d326": {
          "model_module": "@jupyter-widgets/base",
          "model_name": "LayoutModel",
          "model_module_version": "1.2.0",
          "state": {
            "_view_name": "LayoutView",
            "grid_template_rows": null,
            "right": null,
            "justify_content": null,
            "_view_module": "@jupyter-widgets/base",
            "overflow": null,
            "_model_module_version": "1.2.0",
            "_view_count": null,
            "flex_flow": null,
            "width": null,
            "min_width": null,
            "border": null,
            "align_items": null,
            "bottom": null,
            "_model_module": "@jupyter-widgets/base",
            "top": null,
            "grid_column": null,
            "overflow_y": null,
            "overflow_x": null,
            "grid_auto_flow": null,
            "grid_area": null,
            "grid_template_columns": null,
            "flex": null,
            "_model_name": "LayoutModel",
            "justify_items": null,
            "grid_row": null,
            "max_height": null,
            "align_content": null,
            "visibility": null,
            "align_self": null,
            "height": null,
            "min_height": null,
            "padding": null,
            "grid_auto_rows": null,
            "grid_gap": null,
            "max_width": null,
            "order": null,
            "_view_module_version": "1.2.0",
            "grid_template_areas": null,
            "object_position": null,
            "object_fit": null,
            "grid_auto_columns": null,
            "margin": null,
            "display": null,
            "left": null
          }
        },
        "94b07a4f3c0249ecb7948c6e0f285a15": {
          "model_module": "@jupyter-widgets/controls",
          "model_name": "HTMLModel",
          "model_module_version": "1.5.0",
          "state": {
            "_view_name": "HTMLView",
            "style": "IPY_MODEL_f8e6a63d8d994c139e0f1083bd54d14e",
            "_dom_classes": [],
            "description": "",
            "_model_name": "HTMLModel",
            "placeholder": "​",
            "_view_module": "@jupyter-widgets/controls",
            "_model_module_version": "1.5.0",
            "value": "",
            "_view_count": null,
            "_view_module_version": "1.5.0",
            "description_tooltip": null,
            "_model_module": "@jupyter-widgets/controls",
            "layout": "IPY_MODEL_ba08a5489b6e480588ccbfeb3fd46522"
          }
        },
        "d67dd10df8d04eb2a8e4778ad5f6f378": {
          "model_module": "@jupyter-widgets/controls",
          "model_name": "FloatProgressModel",
          "model_module_version": "1.5.0",
          "state": {
            "_view_name": "ProgressView",
            "style": "IPY_MODEL_9b59fa8966c44f9488457720931e6dc2",
            "_dom_classes": [],
            "description": "",
            "_model_name": "FloatProgressModel",
            "bar_style": "success",
            "max": 4542,
            "_view_module": "@jupyter-widgets/controls",
            "_model_module_version": "1.5.0",
            "value": 4542,
            "_view_count": null,
            "_view_module_version": "1.5.0",
            "orientation": "horizontal",
            "min": 0,
            "description_tooltip": null,
            "_model_module": "@jupyter-widgets/controls",
            "layout": "IPY_MODEL_78b95e920a8a4a318434a04aa0c1acdc"
          }
        },
        "d92f31bc31584d4188a13265699a9d87": {
          "model_module": "@jupyter-widgets/controls",
          "model_name": "HTMLModel",
          "model_module_version": "1.5.0",
          "state": {
            "_view_name": "HTMLView",
            "style": "IPY_MODEL_78ba821c8a3c4fb48458af022fb27b08",
            "_dom_classes": [],
            "description": "",
            "_model_name": "HTMLModel",
            "placeholder": "​",
            "_view_module": "@jupyter-widgets/controls",
            "_model_module_version": "1.5.0",
            "value": " 5120/? [00:00&lt;00:00, 116598.90it/s]",
            "_view_count": null,
            "_view_module_version": "1.5.0",
            "description_tooltip": null,
            "_model_module": "@jupyter-widgets/controls",
            "layout": "IPY_MODEL_97ee5119e025473aa3789e53f1d3a6ab"
          }
        },
        "f8e6a63d8d994c139e0f1083bd54d14e": {
          "model_module": "@jupyter-widgets/controls",
          "model_name": "DescriptionStyleModel",
          "model_module_version": "1.5.0",
          "state": {
            "_view_name": "StyleView",
            "_model_name": "DescriptionStyleModel",
            "description_width": "",
            "_view_module": "@jupyter-widgets/base",
            "_model_module_version": "1.5.0",
            "_view_count": null,
            "_view_module_version": "1.2.0",
            "_model_module": "@jupyter-widgets/controls"
          }
        },
        "ba08a5489b6e480588ccbfeb3fd46522": {
          "model_module": "@jupyter-widgets/base",
          "model_name": "LayoutModel",
          "model_module_version": "1.2.0",
          "state": {
            "_view_name": "LayoutView",
            "grid_template_rows": null,
            "right": null,
            "justify_content": null,
            "_view_module": "@jupyter-widgets/base",
            "overflow": null,
            "_model_module_version": "1.2.0",
            "_view_count": null,
            "flex_flow": null,
            "width": null,
            "min_width": null,
            "border": null,
            "align_items": null,
            "bottom": null,
            "_model_module": "@jupyter-widgets/base",
            "top": null,
            "grid_column": null,
            "overflow_y": null,
            "overflow_x": null,
            "grid_auto_flow": null,
            "grid_area": null,
            "grid_template_columns": null,
            "flex": null,
            "_model_name": "LayoutModel",
            "justify_items": null,
            "grid_row": null,
            "max_height": null,
            "align_content": null,
            "visibility": null,
            "align_self": null,
            "height": null,
            "min_height": null,
            "padding": null,
            "grid_auto_rows": null,
            "grid_gap": null,
            "max_width": null,
            "order": null,
            "_view_module_version": "1.2.0",
            "grid_template_areas": null,
            "object_position": null,
            "object_fit": null,
            "grid_auto_columns": null,
            "margin": null,
            "display": null,
            "left": null
          }
        },
        "9b59fa8966c44f9488457720931e6dc2": {
          "model_module": "@jupyter-widgets/controls",
          "model_name": "ProgressStyleModel",
          "model_module_version": "1.5.0",
          "state": {
            "_view_name": "StyleView",
            "_model_name": "ProgressStyleModel",
            "description_width": "",
            "_view_module": "@jupyter-widgets/base",
            "_model_module_version": "1.5.0",
            "_view_count": null,
            "_view_module_version": "1.2.0",
            "bar_color": null,
            "_model_module": "@jupyter-widgets/controls"
          }
        },
        "78b95e920a8a4a318434a04aa0c1acdc": {
          "model_module": "@jupyter-widgets/base",
          "model_name": "LayoutModel",
          "model_module_version": "1.2.0",
          "state": {
            "_view_name": "LayoutView",
            "grid_template_rows": null,
            "right": null,
            "justify_content": null,
            "_view_module": "@jupyter-widgets/base",
            "overflow": null,
            "_model_module_version": "1.2.0",
            "_view_count": null,
            "flex_flow": null,
            "width": null,
            "min_width": null,
            "border": null,
            "align_items": null,
            "bottom": null,
            "_model_module": "@jupyter-widgets/base",
            "top": null,
            "grid_column": null,
            "overflow_y": null,
            "overflow_x": null,
            "grid_auto_flow": null,
            "grid_area": null,
            "grid_template_columns": null,
            "flex": null,
            "_model_name": "LayoutModel",
            "justify_items": null,
            "grid_row": null,
            "max_height": null,
            "align_content": null,
            "visibility": null,
            "align_self": null,
            "height": null,
            "min_height": null,
            "padding": null,
            "grid_auto_rows": null,
            "grid_gap": null,
            "max_width": null,
            "order": null,
            "_view_module_version": "1.2.0",
            "grid_template_areas": null,
            "object_position": null,
            "object_fit": null,
            "grid_auto_columns": null,
            "margin": null,
            "display": null,
            "left": null
          }
        },
        "78ba821c8a3c4fb48458af022fb27b08": {
          "model_module": "@jupyter-widgets/controls",
          "model_name": "DescriptionStyleModel",
          "model_module_version": "1.5.0",
          "state": {
            "_view_name": "StyleView",
            "_model_name": "DescriptionStyleModel",
            "description_width": "",
            "_view_module": "@jupyter-widgets/base",
            "_model_module_version": "1.5.0",
            "_view_count": null,
            "_view_module_version": "1.2.0",
            "_model_module": "@jupyter-widgets/controls"
          }
        },
        "97ee5119e025473aa3789e53f1d3a6ab": {
          "model_module": "@jupyter-widgets/base",
          "model_name": "LayoutModel",
          "model_module_version": "1.2.0",
          "state": {
            "_view_name": "LayoutView",
            "grid_template_rows": null,
            "right": null,
            "justify_content": null,
            "_view_module": "@jupyter-widgets/base",
            "overflow": null,
            "_model_module_version": "1.2.0",
            "_view_count": null,
            "flex_flow": null,
            "width": null,
            "min_width": null,
            "border": null,
            "align_items": null,
            "bottom": null,
            "_model_module": "@jupyter-widgets/base",
            "top": null,
            "grid_column": null,
            "overflow_y": null,
            "overflow_x": null,
            "grid_auto_flow": null,
            "grid_area": null,
            "grid_template_columns": null,
            "flex": null,
            "_model_name": "LayoutModel",
            "justify_items": null,
            "grid_row": null,
            "max_height": null,
            "align_content": null,
            "visibility": null,
            "align_self": null,
            "height": null,
            "min_height": null,
            "padding": null,
            "grid_auto_rows": null,
            "grid_gap": null,
            "max_width": null,
            "order": null,
            "_view_module_version": "1.2.0",
            "grid_template_areas": null,
            "object_position": null,
            "object_fit": null,
            "grid_auto_columns": null,
            "margin": null,
            "display": null,
            "left": null
          }
        }
      }
    }
  },
  "cells": [
    {
      "cell_type": "markdown",
      "metadata": {
        "id": "gPqZwuo6jxn7"
      },
      "source": [
        "## Custom Neural Network design for detecing MNIST data and SUM of Random Number + MNIST detected Data \n"
      ]
    },
    {
      "cell_type": "markdown",
      "metadata": {
        "id": "lh1Nt9ODkfye"
      },
      "source": [
        "**Neural Network to be designed**\n",
        "\n",
        "**Inputs**  : MNIST data and Random Number (0-9)\n",
        "\n",
        "**Outputs** : MNIST data and SUM of MNIST + Random Number\n",
        "\n",
        "![assign-1.png](data:x/png;base64,iVBORw0KGgoAAAANSUhEUgAAAZ8AAACzCAYAAABW+xFtAAAAAXNSR0IArs4c6QAAAARnQU1BAACxjwv8YQUAAAAJcEhZcwAAFiUAABYlAUlSJPAAAH0sSURBVHhe7Z0FYJXVG8afdW9sY0lt1KjR3d3dAgIqKCIGoggKiAKCKIL1pxRBRLq7u0eO7tgYNdZd//Ocez+5jG0s7pLvpx/37qv75fuc95z3vMcgSQAVFRUVFZUcxFD7qaKioqKikmOo4qOioqKikuOo4qOioqKikuOo4qOioqKikuOo4qOioqKikuOo4qOioqKikuOo4qOioqKikuOo4qOioqKikuNkupOp2jc18xgYGGi/qaioqLyepFt8dFfjd10DqgpR+kh+zZS/VTFSUVF53UiX+HAVxVgqq+tupjtPNaSpo3ttdIWH183QUK0BVVFReX14pfhwsSIqyndlE93vRPc7Sf7360JyAdYVGt1PRXCUa6sKkIqKyutCmuKjLOJnSlNiYqJcrnxynu4n0f1ekEkuOITz0jspqAKkoqLyOpCq+CizdYWF3/mpfFcmkpCQII2oso6C7veCjK6AEOVvRVwoKoqwGBkZ/TdP91NBFSAVFZWCToriw1nKbOW7rthQaHQ/lUlZV3d6ndAVEOU7hUZXZPi3Mi/5xHU48brxbxUVFZWCSoriQyFRjKCuuFBsOMXHx7/wXVmmrM9PZbcp7L7AogiO8qkrLIroGBsb//epzNddTxUgFRWV14FUPR+KCKGoKOJCoeEUFxcnP2NjY18QImU9oojQ64YiHkQRFwqNIjqmpqby08TERE78rky64qNsr6KiolIQSbPaTREURWAoOpwoOsqk/K0rQIrw8PN1QhENfirCw0kRHwoPJ4oOP5V5ijAp2xBFiFRUVFQKIml6PoqgUGD4SZGJiYlBdHQ0HBwc5Cf/VuYn94K4H2Uq6KQlPBQbc3Pz/6bg4GA5z8zM7D8x4sRtFRHid1V8VFRUCioviY8iFhSP5B6PIjyFChWCk5OTdguVjHLy5Ekp3skFSBEeRbxU8ckcBy/6i+kBLvkHwe9JBMKiY8WDDZgYG8HZzgIlXWxQq4wTmlcuBjcHa+1WKioqOclL4qNUlSniw0mpYouMjJQCZGtri6JFi8r1VDLO0aNHpYBTcCwtLaX4pCRARBWg9HHsagB+2XgeBy74IclAiLeBeKwT2TlaLNS5honaeUkwRFxCIooUtsagZuXwQQdvGGmvuYqKSvaToudD4VHER2nToccTFRUlBYgGs2zZstotVDLKvn37YG9v/181nIWFxX/iw2o63Wo3RYRUUubI5QcYvegobgWEwNRII9YO1mbwcBEFpMI2sBffLU2NQfmJE890WGQcHgZH4O7jMPgHhiMmLkEIkQFY5Hq7ZQV806+O3K+Kikr2kqr4sLpN8XwoOvR4KDwRERHSWFasWFG7hUpG2bFjh6x243WkkCsiRPHhRAOqVLtxUkmZgTN3YOcZP5ibAGYmxqhZ2llOhe0skCA8nLh4UYgSz7PyhPNScjIWgm4srm+ceLav+gfh8OUAKUSJQoTMTU0wd3hTNPVWPXsVlewkTfGhx0PxUbweCg8nGsqqVatqt1DJKJs3b4ajo6MUHisrKylCuuKjBh2kzVX/Z+g2ZSsiY2Jl9Vr98kXQrHJRGIprFRMXz9o2+RxTaVK6esojz2trYmQoBMcItx+FYv3xW3gWGoWoOOCdVuUx+c16cj0VFRX9k2KdDsWHLyhfTn4qgqQrSiqZh9dQmZTrqlxnZVJJmcOXH6DV+PWIEc+gk405RnSsilZVi8nqs8iYOCk8RAq35utL6Ip6bEIiQiPj4GpviY87VUGDCkVgYWqAv3ZfwuBZu+Q6Kioq+idF8VFezORGUddoqmQeepMpiY6C7neV55y49hB9f9gGY/F4lnYvhA+EWFiZmyA8WrgqAuW5zQjcgpvFxSeJ/cSjtRCyvo3LwsrECLvO3sM7v6gCpKKSHaTamk0DqLzMugaSBlMVn6yheDzK9UxOZoxoQSfgWTj6/7QDJuLaVCjhgP6NvRAdGy/bdvRxvZRdhAkBKiOEbUDzcsIDMsS203cx8d/jmoUqKip6I81QKkVwlO/Kp/I9r5DfjDWvX3KvR3dSeZm3ftmL+Lh4FHe2Qc/6ZRAphCc7LhUfpaiYBBQvbIMe9UvDXHhAC3Zdwj5ff+0aKioq+iDFgAOWzHXDrJUQ67CwMISGhsoG8SZNmmi3yH0oPgxVZsN9asab89mo36VLF/nJv7k+RYDblyhRQp4X+zCNHz8ez549k9v16NED1atXR3h4OJo3bw47Ozs5n9vz2tjY2MjQ6cOHD8sAggcPHmDVqlVyndRYvny57KRrbW0tt+d2nHTDrdVot+f8ttkX3686ATtLUwxvXwXGhgaIF9c/u68Mq/R2CM+H7UyF7axw/MfeMBS/raKiknUy1YkkNQOf09AwKx0yOdFgpzZxOQ27s7MzXF1d4ebmJj85ubu7o2TJkvDw8EDx4sVl1gGKAUWAyzmPy9i3SZm8vLzg7e0t55cqVUqKCddl/530oHsN88r1zIsEhUfjf5vPwUTcv/Y1PGFmYpgjwkMiouPQvHJRONtZIiAoAj+uPa1doqKiklXSLT6KgcxLhpLHorRB0TsLDAyUHktKE/Op+fv749GjR3jy5Imcnj59KrfhxOX0bujd8e/Hjx/LT66jbE/vT4G/S89QgQKndBDNKKp3kzq/bjqPsMhYlHC2QfniDoiNZ2+cnIHPF2WuRdViMDMywOJ91xAepUZ6qqjog3RXu7F/D41zSEiINLRNmzbVbqEfaIDZ90XXENOY8xg8PT1ldRf7G9HD4N88LlZT0Uvh8dLroFfD4+Y+eB7KpwKPm16LIhDcP5crf3M/rJJbtmyZ/M7fa9u2rdyGnWxdXFzkb3J9Vq/xerCabv369di+fbs8Rorbnj175P5Sg9VuhQsXllVuarVb6sTExqPe6FUIDotC/6blhABZC/HhfdWukEOYmRjhr52XcOtxKL7tXw/vtKqgXaKiopJZ8oz40KAXK1ZMftKrUIwwjX6VKlWk4edxsG2GVV48Lhp7rsPjZcYFikRmoVfEc+e5nTt3Tu6ff1erVk1WuxFeA/4Wj/H69esICgqS1Wzr1q3Dpk2bpBDRSzp//rxcPzVU8UkfW0/dwbu/7UERB0u807oi4hNy3uvmM2Buaoyzt55gw/FbqORRGJsmdNYuVVFRySyZavPJDig4d+/exe3bt+XnnTt3cPPmTfn3vXv34OfnJ70NioRu9RoFgFVjrBYjNBZpTfwdZaKQcB6FlsJBz4tiQgHgRJGhOCgwGwHXY6AA24k4UZgoJBQPBjBwUtEPW07dA7uKerkXgrGRobhX2gU5CMU/Nj4BpdwKwcrMBDcfhspUPCoqKlkjVz0flvTLlCkjf4fVXfPmzZMGn8fAZXzxKRI0+hQDfudyGnp+p4egeEpch/OTnU6qKOfJ/fK8vvzyS7kvnhsFjfskPC6lao8ix+vCdSh8vDZcdv/+fSmYnM/1eL3SQvV8NDDDdFrRY42+WAk/YegHNS8vvB8rxLFPj3ZZTsNAh7/3XMU1/2DM+6AZOtYpqV2ioqKSGXLV86GBpWjQwNPgVqhQQeaMYxQZP1ndxmovVqexnYdRZfxkFRyj1dj+Q2+Fn4ogvQpdcaLYEG7HAAN6VQEBATIYQQlEoLDcunVLemD0xFjddu3aNSk29MjoobGdh4JDEXuV8Kg8h8Lz2YLDKUaRPQ6KQEhUgsxI7WhjjgRx33JLePjIMG+cu70ljIwNcP6eJgxfRUUl8+Sq+OiKBUVBGayOn0qbCz2J5BO3Sz6P6+p6CYrXkHxSBIfrK0LEeaxu48RxduiNKH1w2K7ET1a36U6Kx6J4ZRmBhX0aMzmJP/hpxM9kE4+3oDO2Vw3M3HgeXsMWY8HOS9q5QnxCoxERFQNrCxOYGedOlZsuFD8HWwsYiuO4/ShEO1dFRSWz5Gq1G70dDkrH36ChZZQYjTl/X4ksS05q3o0iKtwPBYweilJVx/PgJ4+b1Xz8Xf4G53E7hlfXrVtXnjO34adyWbg/rsdPHqeyDa8Jv3NfyiB76WXxkn/hVNgJ1jbWQsiE0FlawVIrYppqNyP5KeQHBkKEJOJwKEgFkZ83nMOsDafF9QQszU0xvk9NOdpon+nb4OFsi4HNvWSUW27BR8HUxAA3HoRg2YHrqFXWGSvHdNAuVVFRyQy5Kj404vQi+Hs07sePH5dGl38XKVLkv6o0RVjSA/fD4zx27JjcnsfPv7lP7rtBgwYyKEA5P4oHz4mdTDMiIFnBrtF7wppZCfU1F5MZEg2NYWBkKoTGWJyAofjfCIlJFB7ej7QFR968pETN5wu8vJ280+Kfl9YVq/K6vYBYid6YLtyO6yUXQe7XyCjZPRIzKZyGPAldxHw+P8pRUGAdrE2EC67xXBPE/X4WESe3s7MwgruDNd5oQvHJvXyCPFJTcS63H4dh+aFrcLa1xJwRzVDZQx1KXkUls+Sq+HA/rOrib1EYTp48+Z9Xwkgyfk8JChJRDCaPWVeg6Pn4+vpKkeE5MCUQt6EnVb9+/f+243kpng8zFfAcU0P3t3Th/OTzXsWGtavg4uwsvR7d6jtTUxMhRqzCS/m88wLy+VDGLdAhpXkcyI1iQolR4Lf4BE1eO1LIyhy/bT6PWevPiHvBxJ4JaF+rBBp4uWDSch94OlvLPj7sXJpb8FDp+dwMCMXqw9dFqckIQeExKO5kg76NyuD9dpVgbfGyl66iopI6uSo+NNwUCP4e9zlnzhz5+/zt8uXLS6PM+Yws4zFwPjuT1qhRQ26jKzhK7jmu//DhQ8yaNUsGInA9Hjs/KXAMZuBv8DuDGrg+z6t169byN1JDEZ+USHYJX4lutJutmCyk+FgKA6cT7WZsJL0C8cParQoulT9aioBnEWhbvQQm96+NEi52uHA3EJ2+3QhXews5vHV8CuKWU/D2MtrNVxzThmO3UK+8mxx2+/bDEDT1Lob5Oy+jqqcTPu1cCR1qqVFwKirpIVfFJzktW7aUgkIvhUk86RXREF+8eFFGnrFarHHjxvjggw9eMviMVGNfIIY+MzqtZ8+e2iUvwig5/gar+0aMGCG/0zNiMlGea2pkl/gong+n1y3UmkxYcgznbgfi1/caCU/CVjsX8HsahtYTNwofMAnvta0krgc9TO3CHIa/a2FmhH3n/bD3gj/eaVUJX79RG+/8uhsPg6KxeUIHbD99F5NXnsGFO49laPgnnSvDQ4ioiopKyiSrkM89aGwVY6xrkCkmyjwKBqunSHLDTINN4831ORFlewWuw2g2RrBxotfF5dznq4w8BSa1KaMUfF8mfbCfz7B2lbB+XIcXhIe4FLKErbkRIqPjEBoVk6siLH9a3OaHwVGiYJaEUm4aUfnzwxao6+UMz6H/oJ6XCw5O7Ypb89+Eg7UZ6o1Zi0ofLcMfOy7IdVVUVF4kz4gPoXfFqjNO9EaUzAX8zo6frH6j50VPjH1r6AkpIkSvjH11uA7XJ8nFgR4Vt2GbEPfBfXG/3Jbil1PwiKzNTV5q0H/dYOACAwpSwsTYCKXd7RErBOr+k3CYiHUzLvP6gXcpKjZB9j0yNTVG7TLOmgWC8X1q4fvBdVBiyBKcvP4Q9tYWmCC8ooC/BmP+8MbYfsYf1r3nou8PO+RIrK8bO07fwZd/H0XHSZtQ5cNlKDV0EUq8/Zf4XAjvEUvQ+usN+PTPQ1h39IYcCl3l9SFPVbulB+Z1Y3UZhWnw4MEyUIAsWrQIc+fOld4R238OHjwo5+dFLOu/i/b1K+DDLrXg5eGGRAMTmJiZv5bVbmnBsObPFxxEaTdbvNm8gjBO8dolOQffDlNjQ9m3598D11C0sC0OTO3+0n05eeMRWk/YhNnDGslhuHXhOzV/+0XM2uyL0PAYvN+2AkZ0qAw7a3PtGgWLMzefYOaGs9h9/r4QbkMYJmlExdCIf/GZ1hTAGJBC75ckiiUsHNYu64qPOlZG8yrF5HyVgkueFR9WhSkGmL/PY+GxMVpt2LBh0iPq3r27DMkmK1aswD///CO347Jt27bJ+XmRRYuXYNuFIKz18UOzaqUxvl9d1KtYAjEJBvIlfJ3E52loFKat8kFhW3PYW5nBytwUVmbGsLU0RURMPL5afBTR4t4PbVUJhazNZOBBTl8RS1MjLDt4HRfuPcO7bSsJb6e2dsmLBASGy+q2d1qUw/i+tbRzX+RmQDB+2nAO/+y9hmolnTGqcyV0qltKuzR/c9X/GT6aexDn7jyFuTHD7AFHWwuUKWKP4oWt4WhjAUtz8WyLZ5qiEyU8nWfhUfB/GoHrD4IQEBQp58cmQkYS/jC4PhpV1LzfKmlDK55VU0H7mpP2Js+KD9trGAygiA+PicfGzqCK+HCUUXZSJRw9lEMhMDMBq942btwo5+dFVq5cgRJFXGFqbonlx+7jf9uvo6KnGya/WQfNqpeW62huy+vh+VzzD0KXKVsREhkFM2Mj+SLJUrE4f7b9hIZFymzSXeuUlMNn5xQ8DmNhRIPDYvDHzgvieIywe1IXlHB+sX1KFx53vc/XoKy7LRZ/2ko7N2U2Hr+Fnzaex2nhKbzZpCw+7lwZZdzTNxhhXmPsoiP4a/cVWJoYwFh4ONVLO6Oul6sUn4SERMSJiVH3SfR5NI82n24pUEwaayK8y9DIWJy4/hjHrwSIAkc8YuIN0LJqEfw9srXmR1TSZOfl5QiPCpHPbUasRmJSIqzNCqFZ6Z4wNtMMzJkT5FnxScno8thq1qyJgQMHSoFhtRuHWCDMscaJVVcMtaYwZdRwJ7sU2YYS7WZnawuXwvawsbHCmuN3MWn1eZiZmGHygNro0bCcdu3XhxZfrZYh1zRGIZFxeEMY5BHtK6PJV2vFg5qAIW28RenZDHE5OKaPlakxluy/iiv+wWhX0wNzhjfTLkmbXtO34UFgJA5/3038lfbB0uj+tvkc/rf1MmwsTPBJJ2+827qi7KSb14kShYF2Ezfg1sNgObx5FVFIaFezhHiOjREtlrFWje9VWu+i5r0TQiRsHrfj3/t8/XDo0gO5vZ2VBbZ83QFFHJ9nmFdJRgIwYnVzxCVGC0HPWPt1QlI8Cpm44ePqs+Fc1EFW/ecEeSrgQBc+gMknwiopJiKlyPC7ApczkIBiqYw4mnzbvAJLeYSl5HBGc0XEok+jcrj152D8/m4DzNhwAa6DFuD3TefkegWdRbsvo+z7/yI8JkEan8jYBFTydMK0QQ1Q1MkGrasWR2xCEjaduA0Op50TwsNHxtzECOfvBeK6MKym4lljcEF6WTm6LZpUdEOp9/5FYGjayWZZxfhlr1rwWzAQf3/SDPsuPIB133no8f12HL7kr10r78HzqjlyOe4+DoWNmTEGt6iA7g1KSw+HQ5BTOMirCoFczlV4zaNi4mTgQYsqxWS7mL2VKcIjo9FozFrZ90slZdisFhUfDgsTG/HcWmVoshCTYZIm00tO2so8Kz6pwQt0+fJlmcGA4/vQA2KUGxsr6U1Ij8LOTqo3O6Tyb5KXBOiwKNExYabySvLIIsVLFype5mbipTsyvScOTOmKPcII2faZL6OF4nIxvUx2wKqYKStOwqH/n/j34A2sGdMaO77pggghPBZmpsJ4t9GuCcx4uwFsLczlODo7zt6DlXn2ZoDgo2LC6jZRKNh88pYwhon4qHNlUfJOOTIvNb4bWA/je1dD2Q+WwvfOU+3ctKlVxhVLP2uNiBXvoUO1ohg+5xBcBy/EN0tP4FlY3smYHhEVh2bCI42KjZPe6IhOVcT1sUKY8Fj5PGe01kFB2S4iOl54gab4SOy3mJO47qJ03nnyZtlmpvIyt59d5MWT108UtxGdFI6IhGCExwela4pODM8xj0ch30W76TJ9+nSZ7YCeDqPgmDSUsLNphw4d5BAMDLtmwlKe16teiJwSKPsmw9GjiTdG96mHJCNzmFtYvNTJVHkQgsKj8fW/J/DHzkvo3bAspg2sA1d7TV+n/Mjj4AiMW3ICS/ZfxxuNSmNyf3E+DprzuXI/EE3GbcTeyZ1QoZijnKew19cPA2fugolBItrV8EQdLxcZkKBvFOFhuqB5Wy/gWUQMapZxw6oxbbVrZJzDlx+g/bebseTTluhYy1M7N/3Qs5i54RwW7rmCSsUL49NOlYSHoXnWc4tWX6/HDf9nKGxjLjsB08vhSLOZ1JwU4dvImkeOJLtYnPvth6GwtbbAqZm9YJRD7RL5hcPXtmLR6UmwNLVBXFIM2iR+AVcXN1iIQtsr7Zq4xmbmprBzspKFdd0apewk391BNoaxwylhh1EabQYZUBAVFLFUJuXi8zP5lBvMfr8xdp67jy8WHZF1/Cllq6Ynx+OztzbHL+82RqQoCZcrYgev4f+i7cRNOH/niXbN/MHZ24+FAd6Esu8vhbuDJYKXvoM/Pmz+n/CQgKAoTB9Y+yXhIc28i2L64AYwEi8Gh9c+cvURbMw1Aq2vu8jHgWl04uITMX/bBQRFxsDF3gbLPk87cOBVNCjvDt9ZffDe7IMpjl30KhjgMGtIIwT/OxRf9ayK2dsvwabPPLz3v3246pfzVVHj/zmGy3cDZVTiWy0raIRH/KNP4SHcHe8J2476NykLRzszBIdFot+P2zUrqPxHSPRTmYyXF8wk0VwIjys8yxdB2cqeKOPtkfZUyQMeZYvmqPCQfFl8oGdG6Jkp3phuRmoKEYWJosR+P2wjYgg2/+Z3ChY/pYuaCwLENp/ln7eB39MI9J2xE2xbUNqBUkUc65ieNRCydCj6Ny6FDpO2otrIFdh2+o52hbzJZp87qPrJcnSZsh0963kK0RmCiW/UgYlOYUGhYQU3DGpRQfvXc44Iz+Hrf49h4e5LmnGPxLbbT9/G2mO3YCkMoClT72jXzQx8BmjoWBB48CwCv206jyDh8TDp6faJHWGcwrFmlOIutrg15w38s+8Ghv66Vzs347Sr6Ymd33bBw0WDUcrVBq0nbpbtZb9tOidFM7u5cC9QRrVZCJHuUa+0EGsjjcejXZ4dUNzoifZrUk4meD165SHWHbupXapCHoffl4EGjBE1hx0shYfIQjozuDCTy6smrpeTwkPyZbWbIhoODg7yWHhc7733HmbOnCmzI/DY6TlQYLiMHU5ZjcX5Z86ckefFqrrff/9dY3i0RbZklyLbYLSbs7MTijg7YMw/Z3DpYQT2f98bhawtkZCBfj47z9zF2MUn8Tg0Et/0rSFKoRW1S3KfuVvP45sVZ1DU0QpTB9RBi6rp7zR44IIf9p33x9Frj+ArPDwOMWEm7D/DrBd90gZPQqPw2YJDwgAawM7KDN3rlYKHMO6RMfHSSOne09TQ3Ook8cIayGodZt/eJq7nqWuPES8WlnZ3wJavO4qCgf5fyI7CA2SU2O7JXbVzssaZm4/x04bzWHP0JlpVLY6RnSqhiXf2dNLs+t0WnL35CNVLOaFb3VIIi4oT11q7MBvh7bIQQndMCM92cZ+cClnj5E+9NQtfd8TFmbR1MB5H3qdFhxsqoFf5T1GidFFZlZ9XyZeejyISVGxlpFEmIeV8ZRlFSEnJw+8UTX6nkDIqjuKT06KjCzvTMZx47oim6FCjBLw/XIaHQRGw0FYlpYdW1UrA56ee2DyuHVYeuQ37fn9g8vKTYknOnw9hBgIGR9j2nY8tZ/yx59uOOPFjzwwJD3FzsEak2NfNgBBZtWZvaSxL2O6Otmha2V2UgMti4/gO4sUyQWBYDP7ceRELdl3C4+BIGYxgaaZJXZSSUeQsCg6r19igzXDmAxf8ZXXYKSF2kcJ76NWwDPYIYcgO4SGbJnREpRIOqDBiGcKjsj6GVLVSzlg8sqUMUughvMuRfx2Dy5sLZAfdxyGayE99wPRAnFjdxmrQiJicER7Cn4mOS0AtLxc42JjjkXhXGAKvIkgAgrXVbvR8nE08YCIKVDnVXyez5EvxUaB40EOgp0Ah4t+sZqMY0fMh/KTYcGLVHAWIQkRBUtYhuSFA/M3A0GhMGlAb3/SrJY3ROVGKzWjUibeHE7YIg3b59zdw53EYLHvPx/DZ+xGUQ9FRfk9C8ebMnXAc8BdComJxb/4ArP+yHcql0HaTHsq4F5Jh1tfmDJBVbBxILlqIQnsh0kp1XY3SLrj8vwHo36wcYsTLd+thKP7ccQk/rTuDbafvwu9pOOKEB29qbCQEyUTm0rMQLySrxUMiY2THzr+EYP2w+hT2+t5HcGQ83BztsHVCJ8x4u5H8jezk56GN8WH7iij1/jLcePBMOzfrvCmux+mfeuH0rN7yupV7fynqfL4aKw5e066ReeZuuyAH1fP2cJTh4TqvT47AN5QGq0EFd/GuJ+GP7Rfl/Ncdmq7QmKdCoDncfBIsjW1hbmmeZjVabti75OTraDdCweExlytXTka80aPhQHQLFy6UWRB4rLrtOxQcGneuN2nSJLmc58vUPDxn/s3QbaVdKTtIaUiFYi4O2H7WDz1/3INVo9ugba1S8ngV7ywjMCx70gof/LT+PFpVKSoj5LyKOmiX6o8T1wLwxeIT8L0diNHdq4ipupirn6Iwc6k1GLMO3/StiRWHruKqXwj2T+0GT9dC2jWeExIRI1P0LD+kSU5pJA8hSUZEmQoPx4iKI/7mg852EYqSfOrFfIZRyzQ3XaqgVfXi3DBH2XXmHrp9vx1rv2iDltWy5/d3nr0rngVfHLzoL/POjezsjYrFNV0QUoLrJU9rExYZi7qjVyNO2IO3W1eUqZDYTy2n4etA0ftt0xnEJhlh07j2KJcNz3Z+4u7j6/h2V3/YmNvLTqbtbT9Fk+rtEGX8DFcenRIFqydifowUJ3tzZ7hae6KcS2UkUZuMMmdj9EG+Fx8FCk/lypWlqBQrVgyzZ8+WYwCxzpOBBoTnpriiFKbvvvtOngvPlYJA70jJkJDT4sOpcCFrXLofjAZfbcS0N+vgvXaVtVtknjlbffH1Mh+UdLEV+6ytl7aA1UdvYNw/J2RD86R+NYVB89Iu0Q+HhfFrP3krlo5qifY1PfDBnH249yRCVrW9ikNi200+d+Bz8ylu+j+T+cOYxoVWK0lYLd5+J1trVC5ZGE0ruqFbvZJwsLHQbp07XPcPQv2xa4XQ1sLw9t7aufqHKWsYTPH7lkvSA/y4Q0UMa+ctO/bq8v7sfajm6YR32z5vQ9x++h4Gz9ohniMbDGlTCdGx2fd+vApWma4+fFPmkBvTqyZGdKiiXfJ6cvz6Lvx5aoIMs4YQ5sYWQ3AqcQX8Q2/C1MhcVsfxHaChZ7VcXEIcrE3s0NpjMJqV7gVza2MYGqfdvpwdFBjxqVixouzzw+Nkyp0ZM2bI+fR0FMHhuSkCxOq3MWPGyCgPrvP333/Li89lPMfsJDXxofCxH0NQeCyqfrpGRrV9N7C+dqussfHYTXyx5IS4n4mYTMFoknHBmLn+DL5bdVaUNAth6oDaaJgNSR+XHriG9+ccwIEpXVBZGEDy956rsu/NG8myRacHtkuER8WJe5wkowrtbfJmJumwyBjUGb1WeKpF8PPQ7K/2YyAHgxRWCm+xiXdRjBLeUPMqGs9r9hZfjF18HEs/a4l2NTRZ4ycsOY6Fuy6hQQVXtBEeWmSMEPXcKTDLyNDzt59i3bFb4hksin8/y1+538KiYmV7o77Ycn4xNlyeK7MVGIr/opMiYJxkKm1ZYlKCkBtRUBBW3tBAiAwYyCTsYlIiouLDYGvkjPerz0RRt+Iws8hYdX9WKTDiw/pNCgmPnWHVtWrVksMuMMsBRYbnw+o2CpQiOFyueD5LliyR58ltGQWnnCfbhnju+iQt8eExWlhwADxDVB+5HOWL2WPJp/p7uU5ee4gv/j6O83cD8WWPavi0azXtkpQJi4rBxKU+mLvtIjrW8cR3/WujpGv2jNA5ecVJzN1+CT4zesmEogpso2HCUUalFXRaTdgAUyG0myd00s7JfpYfvIof11+Q+dk4nIGbvTmmrTwFRm6v/KIN6ni5ofe0rThxPQA96pdGhWIOsroyt8SHwSRPQ6Lwx46LcLKzxPGf+miX5A9CxfPcbNx6/PRWPb3URPx15Duc9Nsu3hELbeVyEmKTomCcYAEHwyIobOIhhMgA/rGX8SzeD4ZM5GqgaYqIT4xFTHw0PvSeg9IeXrCwej74ZnajcQkKABQQigSrzigcrDrjp26EGwMOFO+HODs7w9HRUU4UAScnJzlxOUsNOR33rhAXp6nSOD2zD8Ij49D0q3Xyb31Qq6wr9kzuglM/9sCpm09h1WuuDFsOj35xCPEbAUHo/f12uA9eJFPgP1r8FpaNapVtwjPk191Yc/QObs8d8ILwEDtLs9dCeMjObzvD3dEKVT9egdgcGr+oTyMvnBTPw4Vf+kA4h8LDPQ8rMyPYmBuh/4yduP4gGJHimeSAfhzWguHsuSU8hG1NtlbM7WiICOHJ05PIT9iK5/nNJmXQYfJWNBqzGvt872uXZAJhyvyCrwtB1rwfiUnxogCeiJqGfTDAZTreKDcOnb3fQdcq72F49Vn4sNx8VLRuhoh4TR43Y0NT4TFZYs6Fj/HAz184G3FyPzlBgREfXSgc9FooHvQklOG3GRGnBB9Il1R4P7wBFC62FVGg6N3R46NQcR6X5QY8NsIhpqt6OMLr/SWyp7e+KOFihyVCTB79PViWhDyHLMaIOftl36H232xEy683oVEFV4QtfxfT36ovjFH2ueQtx69DQFC0ENte4p5lvUNnfmf+B83Rv2lpeL77L+4+zt4qYF0Y4u5dwpHVIcKIaWpBDJISZb+kgKdhMBL3xsKEWae1G+QW4vcZTMJqVDbncWjz/MYnXarBy80Wj4PC0U8IPEVo/wU/7dIMIMzEvZDLQkyCERr3FCYJNuhqOw4NvdqitHdxeJQpiqIe7nAr5gy3Ek4oXa4kBtYeiz6eXyIiTiNARuycapiArTcWISwoQtYe5QQFptpNFx4f+/3wHFjF1qRJE/mdYtSgQQMpPBSjQYMGSSGi0Ny4cUOuQ4FaunSpPG9+X79+PU6dOiX3m7xBLtmlSzevqnbjcfIc+HvKb/688Rwmr/DBuVl9RMk4Ywku08PiPZfw0R+HpdNub2GCzV93QoXimQuVTi9x4npX/3QVGpVzwf/SOVTB68SG47fw5qw92Dy+HRpWyP5B1UYvOipD1Z1sTORw4M6FrFDY1gIONqY4diUACfEJeKdNJdnPh+KUW2jeCAPM2+GLqOg4PAqJFl6iZryv/AKFs0jh5+8xC5b3g2JQp5Qj9k3rqZ37ahKFlxMdloAA/wBpo03EvbFxsEBhp8KyoJ0a8VHASp9fcCBgJcyNrcS1S0RsQgw+8JqDUl4lxbbZX/1WIMUnOTTq9CT42aJFC2ncWdU2Z84cKUREV1h8fHzkefPmMRx73brn1V666+Wk+JB1R29igDBG+yd3Ro0yLtq5mYfH//3qU5i+9hxqlXHG9EF1UcXTCWuP3MBnC4/D3NQQUwbUQte6mgHu9MmDwDDU+nwtPulYCZ/LEG2VlLhw5ykaj1uPmcL7HNSivHau/nkUHIHr/sEoX8xBDgCXnLqfr8Kz0Ai8K8SHjeW5EWatwDeCvz57y3kkGBiL96ELCtvlbsRiZqj16XKERUYjPCZRJgv+9o3aaF9LE+CRXvgO07bRVvOTdkOxH68iIjgGo7Y1F0IoRFBc1JiESLRyGIbm1TqhkEPqAybqiwJZ7aaL4uUw3JrZEOgRMe8bjT4NO28YxZafvJGcKLDMjsBPCq8umRUcfdC1Xinsn9IZTcdvxBohEJklMCwKw+fsh3XvebjqH4ILv/TG9omdpPCQbvVL4+a8/pg9rCGmrTkPt8EL8T/xouuLk9cfouJHK/DLkAaq8LwCjuB6Y3Z/TFpxWmaPyC5chJfD6MWUhIdCY2lKb0eUsmNzL8rtP8TvMx0Sgx4MxTGZmea/qtp52y7gyoMQWFuYY/4HzeDzU+8MCw+hDaPQsKDMAixretIjPMTK2gxFbLzkYHK8pQYGhgiJfoyYaE3beHZT4MWHosKINXpt7Pezfft2bNiwQU66gqM7MSKuTp06cshub29vGcbN6Dmlv1Buwp79137vi+FzD+Gn9RnLkHzx3lN0mrwFnkP+gZOtGUKWDsFfH7eAeyojRDauVAzHpnfHPuFp7TznL9PmjP/nqOw5n1mYf6zl+E3YObEjetQvpZ2rkhZMJ3Njbj8cuPQQPadt1c7NOZiOyNHGVPbrYodeRpuJ1yTXoMFlkAE7U1uaadIk5Sc40N6crRexZGQL+MzsI0fIzRWMAXe7ksIO8n2WveEQmRiGmJhYaRuzmwIvPoRViJxYlfbo0SMpQk+ePJHuqYLuxWYJgt4R23yU7wxa0F0/N3FztMb9PwdgzrbL+HDefu3c1Nlx5g5qfLoSbSZuQdfaJRC6fCi+6VdXnE/6SkjMjrB2bDvcnjcAz8JjYd/vTwz5dQ8eBYVr10gfM9adwQdzD+Lib31QUw/Vhq8iJCJaCG6g7LHPYZlPXnuE+09CtUvzGwY4NK2bzHFXe9RKuuDa+TlDuaL24h0B/J+Fy8Z+TcVX7sDoy4dBkXIYh5Ku+S+7AQtvp3/ug8519FP4YoE5s7BjKjueau6nAYyTTLK0v4zwWohPSlCIKDjJ21V44Skyyjwlco5tMXkJE3GM12b3x9lbgeg+dYt27oss2HkRxd7+G2P+PoGpAzTDNL/TOvOZr1kl8/uwJggT4uXpYgOv4UvlIGnssPgqRsw9gL/2XMXNuf1RtHD2jMUfLErl87adl5mXS7/7t4wQbD1hA/r+sEOGDHcR82t/thpFBv+BOp+txGd/HpYN6fmJJaNao33N4vB4d0mGxf9VMIiAHXJTon45d8QlJOLukzCNmdJ5Z3Iael63AkJldWDdcq7aufkHjtGlTwwSxb1gtHm8ZpiZjIjHrWfnxfUUgiP/SoKFoW2OJSUtkAEHFIoiRYrIY6f3UrNmTTmf5+bh4SHPjXWjDCZQTp+fPC++VP7+jHePlV7PuHHjsGbNGrkfekyMjFNevGSXLt1kNuAgNfrN2IFbj8JwbHoPcUyJ+GbZSZnXrUlFd5nXrWKJ1PN4ZZUFOy9hwtITMjJqWv9aaK3tEa9Lh283idJeEnZ+mz0dJ8/ceoxJy3xw5PJDOd4Lw4PZqc5UeAnW5iYwY0JRsV5iQhLCo+PkkOXx0tM1ALPE2FuZ4t22lfBJ56pyf/mB5YeuYdjsg9j1TSfUKO2snZt1lu6/KtMxtalaFA2EYa9R1hll3OzlsmqfLEdEdDSGtKoEOyYWzeTznxX4OvBnOX4RE8pu/Ko9ymdzVGaeRTzCPf7yhLUZ8x2y75Uhfm5xGOb2htK+vRJxHT9Y0VTYG1NpZ2ISItDebhTqVW2Mws7Zf00LpPjQkLOthsfN6rLOnTvL+TTunE9V53e26fB8lUvA+ZzOnz8vz5ttPF999ZUUHwVdMUh26dKNvsWHfPLHfqw/fleWCjvV9sC4XjWEp/JiZ83sZPupOzLJaFBYDL55ozoGa8cWqjlqJSoXt8eCj1vKv/XJs7AoDP1trxQddkNidUwJZxuZ5dvD2RaFrE1lFZG4JBLerSRRvGe+t4BnEbjiF4QLdwNFaV94wUKITE2MMal/nUyl8ckNfG48RItxGzF/RFP0bqi/YbUX7r6MLxYegYWZkfB2kmAsrl/Vks64/zRMDgFBsWtbvYQQonjxfGo3ygF4/8yNDXHuTqAcTM7DpRD2T+2uWfi6IS5GovB0Rm/shNjEaJm/LSYxEh2dRqJhlZaws391tNqha1vk0NvWpnaiIJEAwwQTDCg6DWW9PaVdym4KZLUbO4eybYftOkobj9LOw09GsjGxKMWDxl0RHQUaf04UA4qAQnqFICc5df0RWn+9EeuP3UGnmiWEAQa+6lUzR4WHtBEez9lZvbH+yzZYd/IeKn2wBKXe/VuOXpodwvPP3suo/NEynL75CJamBqjr5YpR3arhrVYVUdnDEZbCcDIyi427oZGxcmJm5oiYeClA7g5WaFujBEb3qI43mnjB2dZMvMxx+PSPg+j6HT21nOlolxVqlnbF1dn9MGrhMe04TvrhzaZeaFzRFRbC0DtamchsB6eFd9m8chHZ7uMrjH9EdKx4Z7Qb5BB8+yhAHNk2KckA77R+edTb1wZxMQyFaargVE948ZraGGYrOBG4HlHBCbLwnBZxwm1cfnYGLE2sxTVNQhyiUc6kCewcrdPnNemBfO35MBCAngKPlZmsPT095TGziqxevXpShHghlWo33iCm1OEnhYXrK4LC8+bEcztx4oSsXmOI9pQpU7B27Vq5jr7Qh+ez8fhNjP3nBCKFgZ30Rg30b6rpA8L0+d2+247NEzqgSaXs75iYEn6ihNx83HphHJ2x/+IDdKtTEt/2r6W37NGf/nkQyw5ch7mJATxd7NC9XklYW5jK0UGZQJRvZiqX7QV4v3l9TYwMZbjuiWuPpAcXJ/ZhbmaKzeM7Zls6IX0SL97XeqPXolwROyz+tJV2bvrhddt19h42n7qHLT73hPDGy2fnwu1HUmyihffD5J31vNzQadImXLjzRNxbF3Sq4ynbiNJzrbMK7ypHMj0pCltbxD1yEIWr0zP7aha+xtwLuIkJe3qhkLmTFCT21Sln1QADq4+TQmKYQlN1fEwipu97D34h12Q+OKbkMUgwRS+niShbyVOmGMsJ8rX4UDxYNca0OI0bN5YdSHmsHF67a9euUkB4rDTmKcFzVDweJdqNf+/evVvuk+Lzww8/YNu2bXKZvsiK+Py++Ty+XXFaprb/fmBtGQ6dnEv3AtFw7Hr8PKS+HFwsJ9nmcwd9ftwlDHd7NKzoLntuT17pg182+qJV1WKY+mZtlC2ScoRSUHj0Kxtj3/l1F3acuisHiWtVrRgaVnCX1T/s95GaUL8KjVwJ4yYEiCG8i/dckSOkCmmSmR7Y8TI/0GPaNjwJjsSBaa+uitpz/j42+9zF1tP34fckBI0qlRCec1E5YF9xZ1vs9fXHGz9skxkONk/oiBJiHjl76wk6CgGyMDbAAPFsFS1sne1JRnl/mFeOw6jz+Y8WvzfjnYbo1UB/VY35laQ44M8jU3A8YCOsTQuJa5WE2IQomBvYoo3HYJR0qoAyzsJDFF7S9acXxHQOm6/8wS3FO2Qu/k0UhYsItDL7CNUq1EbR4kWkHcoJ8rX4uLm5Sc+GQsF+OK1atZLf6RH16tVL9u+hMU9NyRXhSW60Dhw48J/nM3XqVGzatEm7RD+kV3yU42MD+bfLfPDrFl90qF4C3w2sg9JuLw+qpsuzsGhU+WQlhrb2woQ+tbVzs5fZW30xYakPjn/fHSXdXvYYaDgmLT+FUmLZVHEOjZMNycDIszXHbmL64IbaOS/y2YLDWHbwGsyF4eOgaBzxNDJGf/nu+CYYG2k8ob/3Xsbdx+Hifhhj/3dd4Wqf+3280sOYRUew+tgdnPyxOwpZPRdyVs+uP3EbW888wOW7j1DTqwjaVXVHl7olUxyM7aN5+3HoymMcndpNvGMvFt7YHrRk/xU4WJni/faVxXNqoEk2ql2ub/h6srAxb/sFPHwWieqlXbHmy3bapa83tNfx4cCvh0bhYshBWJvYy35Z7BAcI0QoPiFO3Bu+IxxcUdgWMZkZW8p1EpISZDtRbePeqOvZFsVLFZH2KKfIF+JDI8zf5HHR02EQAcWhUqVK8mLxODmYXP369eV8GvLmzZtLIaIhZ1aD5ALDffGcFAPPCDfC9fft2/efiM2dOxeHDx+Wy/TFq8RHGVLh9sMQfLXkBNYfu41hbStgYr9asJHL0ksSKn+4TKbO+fOjFtp52cNoYZDWn7gDnx97wMYy7WNce/QGxi4+IftpTBHn1EfbwH8rIBi1v1iLBR80Qec6JeU8hb+FN/Ll4qMwM0rCG03KC/G1EyXhOFawadfQD3wZGKDAIRwW7r6Ee0/DhSdQSAhQN80K+YDVh2/IPG0fdqiIHecDsO/sHVT0dEWbqm7oUtsTtcq6addMGbZ3fbbgIH55N/V3vNlXa2XSU2dbcwxtU0m8T8IIUoD0rEDcH7MrLN53BTcfhMDK0gInZvSUQ6KraGCtTXRIPHZfWo3N9/8nHuBEUYAyFxZEW3si3xFNswL/E9YdcUkxsE4qjMaWb6FMsQpwL+4i7apiD3OCfCE+FA8aZwpLhQoVZBVbaGgo3nnnnRdCqikWCkofHnnBxaR8J7zAFJdz587JeTw/hl0TCsCOHTvk9+wiJfGhl2VnbQFjM0scOH8XX/17Glf9g/Blz2oyA25WaPfNRll3v/2b7Al17jF1G56ERuGAKCVnhONXA/DFouO4eP8Zvu5bQxrG9t9sQkhULPZO6opSwrMh7BjaVBi7RPFctq/hidplXRCRDcKjwKfEWDwvieLbXOHNPQ2LQT8hkN+/lbJHlhe4/yQMm31uY/Npf5y+HoCSLna4Joz1kFZemDKwgXat9KG8L6+i1shlCIqIhqONBd5pWQGGwmtkgs/0bPsqeAzGHHfGxBD/7r2Kmw+DRWneCFsn5p9q0JyE9i4mMg6BT4Jw7O5WXHi2H0HxDxCVFIokA0oOYA4rMdnAxaQMPEyroIxjdTi42cKxsIO0Qfq4bxkhX4gPvQGKAo+FHk6zZs1kxNrbb78t2304n3nbXFxc/mu70SU1Nb906ZLcN7efPHmyPE/eBGayZrBCdqErPnZ2tnCy1wz5sPTgDXy76pzsQDqlfx30aKi/kN/3/7cPh648xOmfesr96wt21izlaicbpDMLPZ6JK07hyKUHsDAxEM9eIiyFh3diRi8ZKt1n+jYpVF5FC6F/Iy8hPPqraksNvhUcrtlPeD6L915BfJIBtkzomO2ZvtML28e2nLyNjaf9sPfcfXFPjdC2enF0rVUcLaqVkJ4BBanRl+swsnNlfNwp60NNM7XOvgt+2H3OD8euPkKkKCRwmAWGX5ubGGNA07IoUtgGkdFxQig0XktG4XXndjx+/h6vPc+V13/VF+2E15b9mTHyM7TbFKGIMGGzwzi+WQzi4+Klx0NxMTYxgpm5CSxFgcHKxlIW2lNrE89u8pT4KGPtUEDo7VAYKAIUG0ap8TtHJmX0Go+F+dc4n8dJ0aAx1xUf7ovLHj9+LAWI3y9cuCCX8byOHz8uRY3nunXrVrktf9PX11cuV0oCyS5RlqH4uDg7wc1JlOBMzLB4/y38tv06Kns6Y8qb9dCwsrajpvIm6olpq0/hlw2+OPtzbzgnG7Ato3DY56ojV6F3fU9MHZT1ob45gF6bietlr30KDodprl/RHR928EavaduEMTLAsLaV5aByOdm5keMYrT9+Ez43n6BOWTes+KKtdknOEiMMyK4zd7H+xD1sP3sfUTFxaFG1BDpUL4L2NT1l/reUiBYeYp3P16CelwvmDM/4O3v44gP8uvUizt9+hMDQaHn9mceTo5x2rVcaM99piLqfr0RAoLhv4lGtVdYZrauXkP3NGOquvI5pPcbK+8V2CFMh+Lz/B8TvMiUSl5mamWHTuPavbOdUeQ5tGe04p/+ur7YQTvvNKac9neTkKfGh50Ljz98tU6aMFBR6ON98840UGv4+RYkik5xkpyHhxeU2p0+flurO77NmzZL7Z7XboUOHtGu+jO6NSWnfWWHrhrWINzbHksP3sd7nAdrVKYOJ/erD26sIEuPF9RelPOXh0PcDsvzgdZmX7cj0HvD2yFzmg+v+z1B/7Hp817+WrO/PKkw2+vav+2QHQhPj51WlDJu2tTCRjad1RIm3pTC2DAvOSdj+EyWM6LxtvoiIScTmrzuiUjZmjNBl7/n72ORzT0ak3X8SgqbexdC+WlF0qOUhI9IyArNMMPJw9+Su2jnp59ztJ5i77QIOCkGAuBfioRTXJBGrx7RDlZKaYJ6P5x3A8kM3YGkKIU5GqO3lKu+ZrZWZDAWPE8+15r6KXYj15VMt/qHgGBkZim1Y4IiX/YkoeOyPFSO2qV/BTXg8FHz9vgcquU+eEh+lwYuqXbJkSVkVxWGwJ0yYgNq1a8tjYBg123k0D/LzuunUjDTP5cyZM/+Jz7x586TwcFKi2Litsj8F3f3pztcHdfqNhW9ADHo3qYCRPerC070wEg1NYGCoGXmVx5pd4kNYvdV20hYsG9VSlJozllGXQ/52/m4bVo9ug1bVimvnZh4O77BVGNgijpayqoWJM81F0ZqZih8+i8Cgn3eLexiPYe28xXIKkX7vRXqwNDOWPepPCe+nT8Oy+OHt7Gn78bnxCBtlRFoAfG8/FAa8CDrWKIIO4h7po7rvw7kHsNvXHz4/9oSlecZzFXaatBGX7gfCRLyjJV0LYctETeYQhdM3H8vfuPkwRPbBorC4Cg/bq6g9ihe2Fd6Zmby/FBu+4wzRZj4+Zk648SAI955EyJD5uEQDFLY1x/TB9dFGeFEqBZNcER+GR/M3WOVVpUoVGUhAWKVGuKxUqVKyPpKZCHr27ImqVatKwaAgMXQ6uVDw2HicFC/u786dO9KIc97Zs2flMfOcKDjcD3+DnUn5EigGPvk+FZJdoiwzdOwPeLNNTRR2KARjMwuYmWuyZyvRbtktPuT2o2DU+XwdvulbXYbLpoeFuy5j5IJDOPp9T5Qrpsn3lZ3MEaXtKcuOS8Pbt1EZRMflfNYB3np6Yw8CI/D3nstwtrfG/u+6y7xxWeWaXxDWH78lw5+PX/VD+eLOaFvNHV3reKJmmexJmPnrxrOYvOocjkzt8l9Ax6t4HByJWp+twscdK8uw3R/WnsPs95ugR/2UBxk8JAo3M9afw7HLD2AsnmMhNbLNgSHZxgaGopClua4J4p+EBE29XBKYyidBpkZilJ6+Mj6r5F1yRXxYdcb9s72GedMCAgKkwaUQUTz4+6n1zaFYEF2jzO+3bt2SE4XtwYMHMnqN1XiMiuPIpGnxKgOvb/FZu3oV7MQ1sLbOfIYDfRAZEwvvj1aiex0PUZpPOyJq/L/H8c++6zg1o2eq7Qv6psfULbJHe7e6nqjiUVh2LszGy5Eq/Eneh/lCDB+HR2PjuI7/DbyXEe49CcW203exwccPB87fg7ujLdpWL4LOtTzQvAo7C+fMye08cxc9pu/A2i/aoEXVtL1XJm1t+tV6/E+ITf/GZbH73H0M+XUvbsztL5/RtGA1H893j68fLtwNht/TUMSIeewTxDx8FHBXB2shuvZoUsFVtl3pO+OzSt4lV8SH1WvcP0Vo8eLFMiCABpdh1IrRZdUaDXJyw8+/FYOsa5j9/Pxw+/ZtKT4PHz7Ejz/+KMWNx81+O8q6PJeU0N1XcpIfQ1ZJbydTHlNax6Uv6o1eheKFbbB8dBvtnBcZ8NNOGbZ7/Mcewjzq93h2COPEBurksP6/yZerEczkoa0rwc7KLFeq3BRYFbj68HWcvf0M3/Svi3davTqvGDv6bj11G5tP+WPXuXuyo2R7ca4dahVDa2H0LZgNNZe4/iBI3Pc1mNS/Nt5v562d+yIrD13Hu7MPYsfX7VGrrMYTe/AsQnpPUwdlLHxbRSU52dajiB4MjSgnGlQKDfvhcGJUGyd2GKVhV6IwuJ6u0aWXo3g6Cvyb23Bi9BuzGFBQWNVGQePE/Sjb829+UlA5pWbMlX2mNBV0jk7vKUujjca+nMOu0ZjVsvH3xI899S485GFINEq/9w82HL+lnaOBVT3h0QmwNjeFtYVJrt4HzU8nyWEjWHV07UGwnJ8c9nHZKM7j3d/3w2Po3/AaLs7rxH10qFEEV37vB78FgzBvRFN0qVMqV4WHlHG3x+35A/DzBl+M/OOgdu5zJq84iZF/HcWlX3v/JzyEbTgUXxWVrJJtno+joyPKlSsn98MqtLFjx8q2FgpBy5Yt5b45scSfEjwO5dB0BYPbKFkMZs+eLdt22A60d+9eHDz48kuUF1m3ZhWcxTWxtbWBrY2tOBcLeQ70fAyFcMIgd+Luv/73ONYeuw2fGT1lB7/qI1eifc0S+O7N7DU2rSeslxFVRRxtMKFvTXStWwoX7j5Fx282oqijFQa1LC+HcM4t+Biyz8+le8+w6sgNNPUuikUjNf2aDlzwk5kdtpz2w4OnIWhQsSg6VhdT7ZIo7pRzqUqyQvPx62ElPLuN4zvKvwcKT/fC/SCcmtELBgz3U1HJBrJNfOjpUHy4D1YxDR8+XIoGxYcZp/kbNLbMz5aSyKTmofB4FNFauHAh7t+/L78zbHrjxo2y2o37o9ApcF/JTjNXeXPUNNjY2cNcHLeZuRVMzMxhKjxBIyN2pmW1GyPfDMVxi2PX8TbY/8HIiOeinaEDc5Klcsnkdim5uNyNqbH4Hf4nti1sZ4nfN5/DDY4SKWaUc7fDiPbeCAyPTnb9DOTvpQT3ZSL2+TKa6lKOO6L5ZQ3sR8M2gb93X5YN+yGR8SgmjHaLykWw7MA18d0aA5qWQyw7luQSPHVTcWw3H4Vi5cEbwgOykNfq7M3HKO/pilaVnNGuhicqlsi/g5oNn70PV/2DYWVuLDOE/zsq852GVVTSQ4bFhw34FJ8mTZpot0gZej7sq0PBoRCNGDFC7ov7ZnocfnI/Stg0oTARzieKAOkeIufxuFi1xvYiRXzo+WzevFmKD/eTl8Wny/BvYWZtBxNTIToWQnxMzWAsvrOKMkl4PYnCgBsaiGvA09deA/7LMFTm0HoJsZB9YsT/KcJTZ7xRcrjPOF5y7SIHW3NcuvMYVx+EypllXG3hVdxZhsMq14/b8FuKw93IheL5efmn5DJ2EUl+jMbCqMfExOGW/1Nx3w2lyIRGxcPF3grR4tkp4mAtx9vJzfF1eMimwgO4/TgMqw5fE+digGcR8ehZvySGtKyAGmXyf697BgeU/2CJeLcSce6XPjk+HpTK60e6xUdpX0mv+FSrVg3du3eX21GIhg0bJvdHYVCq2pR2IcLfvHfvnlzO+ceOHZO/ReFQRIme0sWLF7Fz505ZTcXAAoob16c4Kuvzb+5PES+Sl8Rn47o1MsOBEnDAc2HVG88PwuuR+c9zgV3n7uOtn3dj35SuQlwS0ebbzVjwQVNtJFb2MXrhYSwXXg5Hzaxeygkz32kgk1S2mbABni7WGNi8fO57PiaGMjR6xeHrclyb+R+2wL/7rmCdjFy7ixKu9rIDaOc6HmhUsah2y/zBuVtP0Gz8esz/oBlsLY3Rc/oubB3XDvUruGvXUFHRP2kGHNB4607KPCVAIC24HqPaaFwZWEADy2ADdhKld8KJ3ouyLlFEjkLy9OlTObGTKT85Cim/3717F1euXJFDXVOsOFIpQ7UpPArJhSevwf4qbMQPj46TE8eQkSNtRjHzgqYtjIKbk4I5ddUpDJq1G6d+6o1SboXgVdQBx77vjjd/3oPvV5/SrqV/Lt4LxNztl1GhhKNMGrlpQieU0Y73ww6JzC5AIcxt2PQRLu5ZUqIB7G0sZNXUu+0qY8v49ghf+T6Wj2qJQtZm+PKfU7DuPQcNx67FlBUncP72U+0e8ibrjt5Ek3EbsXFcB/SoXwqtqpbAwe+6oP2kzTKTuIpKdpGqiiQ33oroKNOroHekRLUpno4C96VM3Bc/KUQUJnpJbCOicFGwOCnixU/ui+vyU/GadFEMNj91p7wEz5fXR/c6cFLI6eMd+utemdT0zh9vvpDzzdXeCnfnv4m/916TbQLZAdP9bJ/YAVu/7vxC3xknO0tYCQPPoa+ZI0zn8uQK7K3PgdoSDZLg6fZyaptKHoXxVe9aODi1C8JXDMPUAbUREhmHN37aDds+c4Qx34LZW87LUV7zCtNEgeOD+Ydx4ZeeaFD++TALlcW53Jg7AF8v88H4f45p52rgsOQcUE5FJaukWO3GKjeWvJXGfXokrN6id8F2Hxr/unXTjoCix8NOntwXvRx3d/f/jGpKxpXGl16P8p1eDrfld2V9ChV/n14QjTc9HKVKLj+xZdMG2BVygIUQUEVQKdK8rqx647npilN20mrCBhk8sPXrtIdbaDZuHWzMTbBBlJD1BW9rWqfXbOxq3H4cigFNvVDCyUYOb51bGsTcYwt3X5apY/7+tDVavqJzpi4xwtPdefouNp66h+2n78vOvcxT17lmMbSr6SH7MOU0b/+yG6dvBsLnpx4yC0HKJKHBmHUoYm/xX0LVaw+C8MHsvdg56dWjpepy+1EI7jwKxeOQKMTFs2rdAE625vBwsZVh3yqvHymKDw06DT8nChAb73WDDmggmVlaJXN8NnUO+reuDhtrKxiZmMPUTOMh8rpSgCg8ikeYXeLDqqwqHy9DQ1HinftBM+3ctBk8axd87wfB54ceMhovuxnz9xH8u+8q6pdzRZvqxaUHlBvQ62GJf/52XxibmGLv5K4obGehXZpxAkOZz+421vv4YfeZO7CzsUS76sXQtY4HWlQpLjNCZydNv1oHO0tTrP+qvXZO2vSfsUN2Mj45oxfWHLmJ4fMO4dj0bvBII7kpPdaFey5hi899XLjzBPHCylBwhMERVkezDosS/NOQwS1F7NGmajEMalEObg75Y9RYlayRqvjQq6DXw4niw0kJOmBJvXLl9OUDU3mZmgO+wbUnsXinTWV83K02XBztEJckxMbQKEfE5+GzcNT4bA0+6lARX/SooZ2bPiYuPYEFu6/i9IweMtw4qzDjcWol78v3A9Hhm02wtzbBu2285bP5wsOaA/DtsDAzwtErD4XXck+OCrtqrP68P8IRa7f43MEGYagPXbiP0kUd0a5qEXStWxJ1y6U96mhG4Lg4tcV971qnBH54K2MZCr5ddhwbTt5DWTcbmd36nVYVMbFfHe3S59x4ECz7i+0+7wczhtwnJcpQf0tzY9hbmcNKeM/GYn6iKPywvTM0Ihah0YyCpSgZyBRKNUo7Y+IbtVBbp3OrSsEj1Wg3flJ46P1QeFjtRvHhxISf5cuX126hklFOHzuIwBhD/G/bNWw9F4ABzSri6wF1UdS1sIxFZqRXdonPmZuP0Gz8Jsz7oDF6NyijnZsx2BD98R+HcfT7biiXxVElGXzRe+pmHL/xBG72ljAX4mtuZizHjbEwMZQCFB+fgG71SqFcUXvExDMQPWdhh9s/hNfj9ywSv7zbDD3qvzjEt745e+sxNhy/jU2nH+DSnYeoUbYIOjG7dS3PTI/iyU67jceuw4y36uOtdKQGSonBM3fi4KUH4h4ZintkimM/9PqvTxftxbu/78WGE7dhKZbzHnm42KBqKSeUdLaDraUZtUVTeOA/4rvmPiYJEYrH3cehOHv7Ca77h4hXIBHRwlWqVcYViz5poeZ7K6CkKD6cKEC6VW+K+LD6je05HEFUJXMwE4OTowMcC1kjPA74dctlzNlxFW1qeGCqECGvEs5yPd4HfYrP+mM30X/mbuyZ1DnLpcq95+6hy7QdWDumDVroIRR79tYL+GndKZhoq5xYLWhhZoa2NYpjxaFrcClkIXO85WTINd8MC1MjnLv9VA4o52RvhWPTe8mCQU6y35dZFO5ii/C8HjwNQ9PKxYUYucssCumpotoohGzArF3Y+FV7NK5URDs3ffjeeYpJK0/LNqtCVsawFgUDPpOhUXGY/lZD9G5YBsevPkT/GTvFPYuXA8pxnKgWVYvBXggOCxfxMnJT8zwnR1PAYkdoAzkaamRMnBxIjvtkn7BY4RH9PLSxjMRTKVikKj5Kuw9FiOKjCBDFhyHTyvAHKhmHI6jyGrKNx9rKEg62Vkg0MMTvmy9iyuozsv77h8H1UL98xgxFWszacA5TVvrg9MzeKFZYP2lfrvk9Q72x6/HDwDp4O5OlaQWWzJktOTQiSlbTBEXGY8UXbVC/nBtqjFyBwNBwtBPizAHKOMqpHjU5VZTfmLPlPJ6ExWDKgPoY3DJ3PX4aZ2aK3nzKDzvO3JWN922rl0D7GkXl9eE4SLr8sOYUftrgK7zU7rJxP6NEx8Xjqn+QHOBt74UA+Fx/JLzPBHGPgGolndG/SVmM/PMQLIyBwraW6N24LJxtLRAhjpMdn3kR03uraHfYvmYhBI7brzp8A3cehggvCDKR6yRRMFMpOLwkPhQdZZau98MqOIoPJ4Y4f/nllzKKjcuUNiJ+Ktsr+9D91HcVUl4h+bkpJWOl7YYTrxk/ef3GjBkjQ8cpPkp/J1ZjmJkz6skQaw5fw5dLTspMB9/1q4WeonSZFT6adxA7z/oJ4emp94SWwRHRqPbJKrzZtDS+zUTCyRUHr2GcOFcLcxN82L4Cftvki8ehkRjfpw7eb6cZJZVGaOSfB2V1ztC2lWAnDGxORL5ZCSO48sgNUfoPRFl3B+yY1EW7JO/ABKybT97GRh8/4Y3ehUMhK3SqWRwDGpfBkv3XZIDIrm/1e9yX7z/DMeGZ/L7pHJ6GRcs+UNVLOaNL3ZKIihH2QnitWXnX+T7RE2Lqpf0X/bHzzH0ZsNBHvAcz3smegfzyO4qdzZKNZaUCJ82uxM60nzRn/J6FXadEip4PUYQkuQApXhANJ9uC+F0JTOA6yUWIJPuJAgnPkeKiqUbQ9OPhRNHhRIFROtfyWilh1fzUDTLguvxOjl0NwJhFx+XokV/1qo6PO1eT8zNCp8mbESmKjrsnZ6/hrPHpSlQqbo9Fn7TUzkmbGetOY+qqs6hS0hHTBtSRmZMfBIahxqhVcvye/w17MXdg/xnbceiSP5xtLKQA8ZHKziEWmOPs8KUAYfjuSa9069cdUb5Y3s/dxraTNYev49uVZ8RDmYhqpV3RpIILOgivqKbwGtNDTGwC7j0NTTMEeufZ+xg+e68MHGCi1eZViiA0Mk67VH+wAMCOyBzeITbRAB+098bYXmqk7aPg+zh0a5Mw4IYwMTRFa68BMDHX2JCMkCRu2f6b63Hk9iY8jriH4BhNHy7aM2uTQihk7owyDtVRu0hblHOrApgkwjDF3I0Z5yXxIZzFKbkA0WjyuyI4/FTmK+vpCg8/lf0VdJQShyI+ihAp4qM76YqOIjyK+CgPj7I9uScMyui/j8nG3BHCG5jYrzYs0+HBVPt4GSp7OgpBaKWdk71IoYtJwO5JLw6vrBAUHoOJS4/jz11XZKP9FHEeRZ2eVwWdvvkEHwov7fD3L/chYVQcx58JDAmXgQlvt6woSsNsm6TXqV1JT1B4Tt14Ioe0jhVF7qkD6+HN5uW0S/M20bFxaDh2PVpVcRfHXR+nbzzG2mM3seXMA1y+8wh1KxZDp+pF0amOJ0q7pT6SaadJm6TnmdIw64xoYzoeU4NENKzkLn6ruMzOkV1weHXfu0+FqN5AXJIBFnzUHK2rvd7Da6/0+R2br/4JM2MLmMICY2ovgVMRe2lb0svJW3sw9/hX0nM1NbIQ3qaRcG4UuyPst9SBRMQnxiE6PgIu5h4YWm06irgUg6mFpu0vK6QqPopwKGKiCBC/KyLEvzkposNPZVt+cuIB8u+CjnIjlE9FPHQ9Gk78W/d7cuFRtuO143ddIqNjMX7pSczZehHdhPH4bmAdFNcx3gpBYdGo8slKYaDLYuIbL4fDZicfzjuA3b7+OPVDT1mVRq4Iz23sPyew57w/PurojXG9a8DM5OXsFBxWwcnWAu6OKTeiPwgMR/Px6xAbEw8nOwu81bKcEG8jUVLP+gin4nKL6w1Yi2M+cOkBdguPhxFX77XxxoQ3amnXytuwOqzRl+ukqL+nrbJ8AXGSe87dx4aTd7Hp9D0EBkWgiRCOLjWLokOtki9kt/h10zmMW3ICs95u8FJ0XLOv1uHOwyDhCdrjjcZeMmQ6u6EHxNyDDPO2tDDD2Z/7woQNT68po9Z0QlxilMbGJJhiqNfP8ChbREYipwWfc74r687Mx5oLv8He0kWIDwc6F/Y8KVYIjrDnSQnUHjFf2CkDExgLz4qvF0UoKjYSQyvOgHepGrDMYhRiiuJDsVAMICf+rUwUGN2J8yhAynrKNpyI8vm6oIgPPzlRQHTFRVdsKEDKfE7K+rxmyvap8dP6M/hu1Rl4F3fED4PqoKY2eu3yvUDUFyXfWW/Xw6AWudM4Pm/7RWG8zmPygNqYucFXlJRDMKFvDbzbJgWDmEHuPQlD24kbEBUTC3NjI/RowBBsB0REc3jmjLc1KNfaXIgYQ9w5Wuk1/2BECeF5v20lITy1tWvmbdhPqO+MnVg/tg2aVU5f9oXwqFhsO3UX633uyWg2ZhVvV6MEetX3FIbdGO/8shNC1zFUiI/Sp2futgv4RnivTjbm+KBjZW3pWC7Kdhh+z46+/oER6FK3FH55N+3kxgWVXRdXY7nvD7A2LSSufyIME40xpPQslCxX7JXiQy77n8G0PW9J4eHrEpcUA5NEK1Q0bglni+Ioau2FJKNEPIi5iiuhR3At6iisjG3FukKkhDBFx0Xhs6qLUNyjqLadOnOkKD5Emc1PTor48LsiOsrfuqLD78p2up+vC8nFg5MiLJxS8nKUT2V7ovz9KpYfvIav/jmJwramGNjUCz9tOI9Vo1ujailNuHZuwJBuRkDdD4zE9IG1MbJrxjqyvgpmG2AV33W/ZxD6g7JF7NGueglxDSwQGUsRel74EVdS+V/Tjqr9R153MZNDW7Pn/clrD7FblKxjhOhw+n5wPTmOUH5g1sazmLbqLI5M64aSbnbauRnnvhD27afvYMvZB7gqCjGGojTM6xQUEYd2NUtg3vDmqPrxMoRFRqFb/dKoUMxBDsWQ3mc1K/C2MQz/aWg0/th+gdE82DulW74ZsE9f7Lq4CkvP/wAbITy87hrxMcHQ0jPhmU7x+WJ9N0TGhQqPxhhxiIVrfHk0sR8E9xLOsC1kA3PhWUo7lGCA2KgEXLjngyW3xovCnqX4TUPEJETC26oletX4EI7OmuPIDKmKD6GQcMdchVNykVG+pzS97ig3hJ/KpIhM8u+cSEaFR5eR8/fjj11XUNTRGmN7VpfDEOQkfAmmrjyNH9efRT3hhf3ybgPZe73dpC2YP7wJOtfRf8fMqat88OtGX5gZa8SltLsd6ni5wdPFVnZ+jBciwuPi4yieSrEOrzvES8e67SQEhsfi3O3H8Ln+GOHRsVJ0yrgVwj+jWqFYCtWZeZFh/9uLw5cf48SP3fUaydhp0gbc8A8Rz2IS4hISERaTKMTdHLGxcVLk321TUWYcz2kYhr1SFLh87waiV6OymPF2I+2Sgsez0KfwD7qNwIgHuPHsHM482Iu4xGhYmtAL0diIjIrPJT8f/HhgGOzMC8uqNqN4M3SzHwfP8sXg7Oz0UpsRbXlCtPCsff/BljtzYWFsLb0f40QLDK/0G4qXdpPt1pnhleJDeKK6Ho0yKX/ripSC7vfXEeXhSOlTd1LIivCMWXQE607cxbmZvfAgKAKjFhyR9eMfd/LGhD61hSHOvvGBGOo7bslxLNl3Hf2blsHk/rXhXMhKu1SUph+HotboNRjbrSo+7lJVO1d/PAqKxOcLD2Pn2XuyDUA8qbKzoou9hRyIjsMfMGSXXg4HpAuJjJHbPHgWIQfJY1cU9lt1tDHHuN610LtR1sLac5LWEzfKvGjbJqYc4JFZWozfgFPXH8HWwkgIur0cY6lpJXf8JAoWDH7pWMsD3h5OiInLGa9HgRaF3s8j8cz9ufMirC3NcHpm32x9vnOL/Vc3YPbRz2FjZi9sg5Gm7cXIVLbP6JJR8Vly/EccurtBBirEJ0WjimEXNPHqjBKlislI3NSIDovDR5ubCOETnqa45dFx4Rju+QdKVSwuu41khjTFRyG5uPBT97tC8l3x75x8OPMCyc85+fnzb2VSUL4nXzc99J6+TRjSKBya1k07RwPzeH295AT+3HUZfRqVxtQ36wiDrL+EjeeFxzB28QkcufIIo7pWwVe9aqR6/FExcag2cjXaVnfHrCGNtXP1S2BYFOZsuYhVR28gQAgLU+LQuxEPuDRaPLL/PsULzFRi7I3fSBjVt1uUz1CW6twmTAho7c/XoKW3O34dpt92j4W7LslqzdbVi78Qav1QFGrqjFoBW0sTvN/OWxhE2gPtwhyGXu38bRfwMDgGf37ULF/du/Ry8MpmLD47BVamaXvgGRIfcb8mbO6HoOhHMGKVm/CiWlmNQL1qTeDs4pS2/YkDPlrfSq7DKSo+DEPc/gevKiXl8DeZIV3iQ7iarmFVNkvn5ioC3ZvL78q1U25oRqn92Up4Otti+eg22jkpM231KXy/5izqlnHB94PqoLLOuDkZZdupOxjz93EER8bhm77VMahF+jMbNBqzGs52Flg9Nn3ZlDPLk5BIHLkcgAt3A3FfCHNwOD2cJJkqx8nOHF5uhWSfl2olM38dcgsOadBgzFpM7FMLH3Tw1s7NfhaIQsyEf46iYjF79GtaVobU5xYMNNl1/h4OXGRexAqYOrDgZT7YdWEV/jz9FazNCmlKTDqYGJrBzFATmZhu8aGpER7+h2uaI14oCT2o6MQIvOf6B0pXKi7HUksTcbuHr2oKU2NTGixExocI8ZkNr8olYWeXuXbGdIuPLmltoorRi+iKCq+N8ndmxEaBIdeVPlqB3vVLYtrg+tq5r+bvPZcw/l8fWcX03Zu1hSfych+O1Ji//QImLjuFIo5WmDawDppXzlw+t34/7sDtx+E4Op2eWuavwevI9jN30WvaNqwa0zbH+7mwQ+nmE7eFR1QC9cq55ligQUpw/KnbD8OwZP8VGem4/duu2iX5g1uPQnHN/1ma719cdAKePQrB00Am1hXXWjvfyMAEl4IPYW/IAilA6RUf2p6kBAOsOPELQsPCNYkCjMzQuHgPFC9Z9KUBP5PzMNAPX27vBjtzR/GbCTBMMMGbxaehbKWSckyyzJAp8VHJPW4FBKPW52sxZUBNDGubuZLvzjP0Xk4gUHgEE3pXx9utKmqXvEiMMDCTV57CzxvPo3mVonJ0Tn308h+76AhWHr2NUzN6wM5KzVicHn7bfB6TV5zGge+6yOi+nIadTi/eeSy8Hg7sZ5urA/sx/1uYKIBxZFgbCzP4zOwrq1nzE/VGr4almRFmvt0QlT0La+c+h00djCqm8OjCbAYHr23CskvTZftLRqrduM/4mCSEhYaJ/Qrvx9AQppbGUjwYhZsWP+4cgTvBF2EiBCs2KQolURcdyw2FZ5niGerYqkv+umOvOQd8/VBl5Cos/axFpoWHtKrmgVMze2PTuHZYffQOCr0xH1OWn/jPa2VnzkE/74bjgAUydxuH0l43tp3e0stMHVQfo7tVQen3l+JGQJB2rkpqjJizH//begk35vbLFeFJEAYuKDJGGihrc1Nh8HLXZ+VzamlqDDNjI4gyOGLjcq8KMLMsGdkCvneeoM3X69H26w04K77rQmFgFBnFRHcyFoIlo8sy4TPIfZobwsHZDs7uheHk5iirzNISnojwSPy8ZxSuBZ6WwkOvh9V3Ve3awM7RRvZVzCyq55NP+HvvFYyYdxAnpvdEuWL6NUCR0XH4dvlJ/LPvCkq5O+Deo1B83bcmBrfMWqbqV7H11B30nr4TW75uj0YV9JfBuyDR7puNopSaiJ3ZnNQ04Fk4Rv91BKXcbFHS1RZFC9vAxc4CRcSnrbkJ6n2xGiHCEHFQP6YfogDlForwzd3mi5iEJNkJ1s7STIhk/jBlPH4bS1P8uvG8KNxFyUSsIZHxqFjCEeP71ESTSkU1K6bCwcub8c+5KUKAbTPk+byKiw9O4srDUzCCMZ5FPsLd4MvwC70GcxNLmBqZC6GPQ5K48a0tPka50pVQrEQROQJzZlHFJx/wNUcP3XkZ53/uA3sb/VdTMSvytLVnkSReghaVi+DfA9dRT4jBuJ5VRUk7a4PFvQrm7Gr61Qb8MqQ++ueTTp05QUR0LOqMXoOGXq6Y88GLSVazC46o2nzcesQlxMsGaRqGuHimzEqEg5UZDEUB+e1WleSYPnlCfLYL8YlNQp1yLrKzcH4yZVbCgzx6+YG8zzzs0Oh4mAgvYnj7ShjVNe0EwtklPstO/oxt1/6GhbYzKSPijAw0OdzYJ8gq1glNzIeiZNkScC3mJMd1ywqq+ORxBs7chYv3g+Azo6feG3h/3XgOU1adlh0rGUTQoIK7dgnwx46LQvR8ZIDBdLGsaSYDDNLDk+BI1PhsNd5rVQ5f9ckfedSykxsBwag/Zp0U/4866b9vVFokJCagxifLZSJXtq0wb1ujikXhHxiO+09CZftgISFE2ZlR/FXwLaDZYjuYobEJTv7YA+am+utgmxNw6Ilyw/+R58F+aGN71Uh3x/DsEp+lJ2Zi181/hadjJQsfBjAU/xn9Z3cSwOwh8WhbZChaVewLU2tNZ/nMorb55GEaj1mD0KhYnPqpl96Eh4N0jV54FNZ95uLwlUc4Or07Dk7r9oLwkCGtK8L/r0H4pm9NfPTHEZR89x8s3X9Vu1S/OBWyxK25/WQQwtDf9mjnvp7sPn8f1YTxX/Rh0xwVnit+gRg+Zz/cBy2CraWpsO4a4alaygWLRraCuTCQrB5iHyA9l4EyDH8/Oi5RtvUYsA1CGMr8xuCf90gBZ868y7MH5HhGkpQoW7gG6jl1QyWLFihmXAVWiQ6ITgiXE71fVseZGJhi3d2ZWH5yFiJDYmRQRGZRxScPEh+fgLLDlqCKZ2Gs+1I/fWI4ImTfH3fAdeBf4kFKwMOFb2HZ563h6ZJ2jH67mh44/0sfrBzdCn/tuQbHAX9i+ppT2qX6w9jICGdn9cbdx2Fo/+0m7VwNB3z9cfzaQ+1fBZc5W33R94edOPFDT3ndsxtWqTF7ddn3/0WbiZtRorA1Hi1+C593ryEHiSvpZo812j5ZLrZmMvHqk7AoGeqcW44Pf5YeWXB4tEz7w24DTAqbn7jzKBQ1Sjrg/oK38HY2t6umF3pgVYs1RJ8aH6N71fcxoNoYvF9tFj4uuxDNHd9BdHw0EpIYXm8IGxNHHHiyDGeuH0d0VIx2DxlHrXbLBAxZzIq7mRb+T8NQ7dPV+LJHFXzSJeODxyXn8CV/jFl8EtceBOOrntVEabqKdknmYCTc2MXHsfrITbzTujwmvVEHtlaZC7VMjaG/7oHPrUCcmN4NJibGmLrqNO4/DX1pgLnU8H8ajqNXA3D+9lP4P4tCSGSsbIzmGEiOVsYoU6QQapdxkXng8gqf/HEAW0/54+SM7sLzyHym4PSw++w9zNzoi72+fuhRrzRGdfFGlZLPE9FO/Ffc32N3RGGgFzikOflNiNT3q0+hqocjejYsK9sq9F0NnF7MhNhwaIXd5+6hewMvzBryeo1uml3VbrpSwO+cGOodH5OIJw+f4Mczg2HETPxCgOKT4lAI7ni/xo9wKVb4laHaKZGvxOfevXu4dOmSfOiVi5OTUHQY3dGkSRN5DJz0KUInhMFs8bV4sD5tji61s5aIc9mBqxi3xEe+qJMH1ES3uqW1S/QD83p9s9QHv245h3bVPWQfoFJpjHyZUaau9MGcHZdx+de+GDRzJy76BcPnp16pDqL3KCgC/9t6AWuEKD4JjfovzxsfEcVGyseF9018JCSJf8WMeuXdMKRVebStkf2eRmp0EJ4eR5vd+132dZb0E+LN/loLdl1FaSG+IztWQt/GXtqlL/LRvP0Y07Mm3B2e5+xiIs92E9bLDBHD2nvLqKfcMhym4pn+a9dF3HsSLodV6Fq3lHbJ60FmxUexl5kpNHDE070X1mP5te9lYlPuKzo+HB+VWQTP8q8eRygl8pX4fP/99xgzZoz2r9zBxcUFV65c+W9IbH2Jz6pD1zH4l704PK3rC6XQjPLDmlOYtvosqpd0wtSBdVBTlPCzm/9tOY9vl5/SBC4Mqo0G4mHUB1tP38XI+QeFgBrgWWgMvn+rAfo1edFg+geGyUSq+0Qp3sxECI54nM1NjeBmbwU3RysUtrGQmZCNRWktWpTiQoUX9JCJRYUHF8TEosKIxiVCNqKP7VkDA5rlXMQdRx2tPXot6pZxwrwPmmnn6pdFuy5h5iZfPHwWgXfbVsSHHbyFgKTem53mgKHdHKTvRZLQcMwaPBAi1qdhGVHQKIRYceEyYceyBKvcQqNiMHuLL8xMTXDsh16wE/fudSJLng/zQ2ubaWRoulFiur0WmVx0UxPxu5rkojEJ4ejo+Dka1WgBW7uMR77lqzafzPak1SfsDfzs2TNER0dLT0gffL/mNIbPPYjb8/tnSniYu+wjYaStes3FxfvBOP9zb+yc1DlHhIcMb18ZDxe9hVFdvTHkt/0oN/xfOShbVmC2bI7MyXxsCQmJcoTRf/a9GPDwzbLjqPnpShy/8kCUxgxRrog9BreogC961JRRWRzeubJHYZR2s4OHq41MxVK3nCt6CuP5SddqGNmlKlpWKQZHG1PhecTgi0VH0OCLVbj1MET7C9nH7Uch8Hh3Cd5sUkrvwnPi2kO88eNOWPeeh42n7uP3oQ3x8O+38W2/OmkKD2Gp+GXhIQboXMsD7M95TOxfepY5LDzEVNznE9ceyTGbGCTzuglPVmBS0f7/VMLgFdXxxr/lsOXsEsRkYPhzBp1YmFiJYojWg2LdQoIovMVlbiTbfCU++jL2WYHHEB4eLi+4PpzGYb/vxd97r+LBwkHCMGQsNflVv2foPm0bSgz5G7YWxgj6dwgWftxCdgzMDbrWLY3Lv/fDwo+a4ufNF+Ey8C/8svGcdmn6mbH2NLw/XIaJ/55AkBDWOFESZ+Hs4t1AKQys8ms8di3+2H4R5sZA+aL2GCnEZEBTL7gLbydaWMiwqFhExcbLRul48YJopkQ55HaEWBYuXjqm4q8vDNiortXRpU5JFBLXMOBpuCzh/yU8huziwAV/VPl4Oea93xifd9PPQHvMYj5p2QkUeWsR3vplH5p7uyJs+btY9UUbNKioH0+UEZAcTfT+k3B5HyhAOVVvwp8xEmoXEh6Ls7eegMMMjEhpqHCVVKnkUh+25g6wt3CGg5ULHj97iJCgkPTbVaqFzv3m1yThSmWmGo/kK/HJCzWEvFG64YVZOabWX2/EbfEiX/z1DRntlV72nLuH2p+vQosJG9G6ahGELBuKyQPqybrwvEDdcu448F1XHPuhuxxywabPfJnPjUMrpIdR3arj0eK3cXV2f1Far42aZd1kaC2rx8YvOYZGQhz8ngTDRijPoObl8YYQHVNjQyk4LBETpU0uOZylzOeti45NQGRMvMz0/an43fLF7YWgJeHLxcfkb+kb9p/qNm07Dn/fXS8D7K05ch0Nx66TofDM1cdq24u/9cXQNt7yXPWJg405+jctixhRGGCSUw67re/fSA3+jJnwgreeviMKFEmoX94tV0frzY/YmRaGTI8jYOfRe+G+iIrIQLi0uAnRCZHS4yH0gOyNXUVBIHMPgSo+GSQyUlx8nTcuc6qfhIoj/oWHkxW2T+yknfdqFu25hOLCy/n0r6P4pk9N+C0YlKUcb9kNw7gZzv1g4UDECK/D6c2/8ObMnbKzYkqcvfUUNwOCtX8Bbg7WGNiiApaMao0b8wbh70+a45gQs2ehEXC2s8SHnauimJMNwiLjxEuVuXuhbMIszfSw3mhcFq2recDSxEAOWDb+n+OaFfTAqAWH8P2ac7g++w14l3g5mWR6uXQvEEN/2wub3vMwd8dVjO9ZRXq9s4Y0gscrQuezytieNWFvbYFHwVHYKQSI1aHZ/VbytWf166kbj3HNL0i2s854u4F2qUp6Ke1YDbEcllTAzqOBSX6IioxCQnz6xOfMvYNSvPiesd+PVVJhWFvawtgkc/nd8pX4MJ0D21wKFy4MR0dHOQZFahOX29vby6lQoUIygR4HPeLEfXBiGnGOwsdGOk6MZOPE/afG6NGjZWI/NtJlxtgFhkbCddAi9G9cBvNGNNfOTR12RJuy4qRM/rni0C1sHtcOZ2f1yZF+IPqCmYd/ershwle8i2olC6PayJVoPn49fK6/2HeHiYl7fb9d+9eLsE/KuCUnYSAe+iKONni3bSXx8BogRk+N3vKFEp9hUXGoX84V3eqWgoXwJBfsuog/tme9Cq7L5M3wufEE1+f0Ex5ExiODWIU4c/0ZlHpvCTpO2Yryxezw+J+3ReGlI9rU8NSulf0wevJ/w5ogNi4Jx68+xOlbT2BlaiwFIjtggdPc1BB+T8Ox2ec24sVd/6p3TbjaZ270zNeZkk5eKGxeTGYp4EuTaBAHn8fbZCBBeqrelpz9XrwTHD4hSdyHWJQ0qQUbO6s0R0BNi3wT7caLQwMRFRWFx48fy3YXHnpah59cHNJzqq6urmjbti3OnDmjnfOcsWPHonv37lLMGPVG8cpIfPu520/Q8MsN+HN441cO18yUM1/9ewL/7L2KN5t5YVI/Dk+ddmNxfmL5wWv46p8Tsg1h6pu10Kl2KXHOEaj26Sq0rOyOhZ+00q6poc/0bTh2NQAutuYYKrw9RqllV4oX7tbawlh6WRw8j6OpbBrfUQYvZBT2wq8zerXsH/PXxy20c9PPjtN38NPGCzh86QH6imfmk87eqFg8816Tvvhx7Wn8tPaMHBagZ8PSqFDMAeHRz8ed0QviRpibGcthsxfsuCQLGq1rlMD8dBTaCjKZjnYTz/W+Cxux+MK3sDVzlPaQ1WjdinyOpt4dYWYlSn8pmLNYcV+n7RmCh+G35fDb9H7ihYD1cZiM8pXLwskpc4My5ivxYd0kxYeRZuz8xEN/1eFrXMTU11GWcT1exGHDhmHhwoVyni4Unc8++0x6ThQoemH0gJILXGpsOnELfWbsxp5vO6GOl6t27stweOoxi0/g8OUAjO5aFV/25vDU+cpBzRD7L/iJ8z2OB4GR+LBDBSzZd00aG7b7KAkWlx64htELD8PKxBDvtvOGjblJjownw+zNaw7fwPk7gfBwLYQ9U14cqvxV3HsSivpfrMUH7SvK6qr0wu3YJ2fh7isoV8wRIztVQs8GaRdWcgP2B1olrg+rxNpWLyE9RnqOmipQ7UqZgK8kt7cU1/+6fwiWi/sfK979yh5O2Dgh/dXUBZWshFonRAGTdw3Go2ghJEYW4lonIjI+DKVtaqJRia7wcqkmPHMHRMfF4k7wJVwIOIwdN/+FiZGpHHyOAQZRCWFoafYRqnrVRnGPogXf8yEUIE48ZMUTSi+vOk1ewMWLF2PgwIHaOc/x9vbGnDlzZBUdhYdVeFw/vb/PFCYT/vWB7y+9Zar6lNjqcxtj/zmJ4IgYmU9tUIvcz/WUkzwMipDeDUOsTYwM8CwiDks/a4NGFd1R/ZNlCAqLRPuaHqhV2gWRzOml3S474e1l4+rsrefxJDQa3/SvhyGt0pcO5ZDwVNp9uwmLPmqO7vXT18GXbUw/Cy+HqW3ea10OIzpWhmMmquhyErZjLdl3BZYmRkIoHdC9XinZAB0j7hHfuYy+o1yfwSOsUdh+6i6OXnmABPHqMhvFqjHttGu+3rwkPgnGGFJmFkqmQ3zYOfjpk0B8d2AgYhAuBEWsL64vMxawPSg+gVG8CeLBN4SxgTGMheiYGZnL+8L0Ohx6u4nJe6jqWVeOgJqVzNb5SnyI8oDq67CVl4MeVWpDyW7YsAHu7u5SeNiepAiPsm1afPLHQWz2uQffn3vLOPnkcHhqClMxJ2tMG1gbzSsX1y55vfhuxUn8ueOS7FDKO8uwaDPhWbapVhxrjt2AWyErvNOmguzYmFPwEbMwNYSv8HzWHrsFR1tLHP+xl4zySouFuy7j07+OYO+kTq/st8W0+kx1s+XUHXSs5Sm8HO88lfYnPfy54yLG/XsCFkaQwtG8SjHUKesi1ZvRhKweTet95XvEzqMa0THAhTvPZFQbU/iwG8q74r5/06+udm2VfZc2YOHZr2Flaic9EaMEUwz3mg0Pr6KvFB/CvjmPHj7C4rPf4WrYUZgbW8noN+awfl7Lorln3D+zWccmxcAxsTgaWQ+EZ/HScC/mKmuB0mMDUyPfiU92QXEJCAjQ/vWcX375BXXq1JFVcpwoUOnNatB58mbhycTiwNQXq2ti4+LxrTC2s9b7onX14pg2oDbKFs3ecXPyKpExseg2ZSsu+QcJgbEUxt5EZiSwEEJtbmKIszcfIy4+TnoPXkXs9RZgkBFMhFH8QxQS7gdGYObQJujdIHVPZszCI1hx9BZOTO+BwnYpG4KnoVHCGz6PudsvwdXeEh939MZbeSTBZGa5+ygEA2ftwvWAYFFSNpBDHDC4pKqnE1zEORoJb4h9rWhuWHzgLeR9NBbvEk3c05AoIfLPcPrWI5mFIl6sxMCM+SOaoXbZ1KupX0duPLiI/Vc2IFYoM4fAMDU2R+sy/eFe3DXdHfHjhQ2KDosXQu8Dn4fbcS/yIiITQhCNUClAvCcWsIGFQSG4G3vBw6IaSjpWhL2LLRwc7aUdzIrwEFV8BF988QWmT5+u/es5HTt2xJdffim9HWdnZ+liUnjSIz5VP16Oyh4O+Hvk84Zzjony5eLjWHnoBoYwKWf/Oq99D22WilnqTYmLd5+i46TNcLQykW09DDLI6YeVb4eFmZGM7Np66h5qlHbGmi87aJe+SPepW/AkJEYOUZESKw5ek17ONf9gvNOyPD4SXk5q1bD5FbaRTV55CgFB4UKE+J4kwcrcBM5CiJ3ExEHUmBWb9z1CGE8K8SMhPOEMlxf/xScayPBttvcxolHlZRKFMkeGxyAyMkI2P7CK0tzaVDYLZCTdF01/XEy82Je4/qGRiIyIQlxsnCgkaMZyMhD3ydjYCKbifliJgoCVjaWMBs7K0Nm6vPbi4+vri8qVK2v/eg5DtFndRsFxc3OT7TwsVbxK7ZkzjJ1HBzUvK1PTk5PXHspG9TO3n2Jcz+r49BUjFapoGC28CCZIbVDeFa2rFUd0DOuitQtzEPahi4iOl1WkRiYm2Du5qzSkChwCo+7oNShftBAWf/pilJ7v7SeYucEXK49eR9OKxfBxp0poWbXgV60evRyARXuvYPe5+zIIwVgrRIZJieJf3kRhdmQJ20B2DDYX3mWDCkXwZrMyaFM9/3QjyC1SMtuZ9US4LyWgS2lTJxQy7pPipnzXJ6+9+LC0wI6jyVmwYIEMNFDaeaj4vPgp3YAnIZEYNnu/DIflcnsrU/z2XhOxJAkfzDssI7O+61cDvRulnEX4dYWPXloPdNMvV+Puo1AMaFoOxZ2scyTCLTXYHrFw92XcDAiRg6u1qlZCzmdi0zqfr8WwtuUxrrdmFNbImDiZ+PK3LZdgYmyADztUwnttKuWZDBQ5DTsVnxUFr2t+wTJwI1bcRwaV2FuaoIx7IZldgp8qrxevtfiMGDECv//+u/av57Rr1w4TJkyQHVWV/jypuZrX/J+h1YSNMBN2hdmUCa9oqCjtmZqaYPlnrVC9dM4k+MyPjFl0BM0rF5WejS5sA2gxYT1iY2IxrF0lmGVjR8ZXwVeEbVCMSDx67RE+6lhNeLXVZOm+83fbsOyzlmhRpRi2n76DGet9ZRXdG03K4JNOlWUyUxUVlZdJfwVhAYPVbSkJD2F/HkaNsDMpPZ60OpL2mr5DpmJhu4DiGTHU1E6U6mJi42THO5XUGdq6Avr+uFN4OWtw5PID7VzgsfAmmQDUxtJUdkTN3SKSJp1IYVtLGCYZiNJ7BLaduotBP+/GghGNcfjyIxR6Yx6mrDqL4e0qyFx7c95vqgqPikoavLbi07hxY+23F5kyZYoMIaTwsEouLeHZcPyWHM6X0VA0ULpQhCxNDfHT+rPaOSopUcqtED7qUBF3HoWg57StaPbVGvjceCSDC5gdgB0YNe0FuYs4HJnI1FQUNLacvIO3f90lj3H038fF8SXh3h+DZDLV121gMxWVzPJaVrtNmzZNpspJTo0aNfDrr79K4WHoNfO/pSU+k5Yex197LsPGzJhqo537HF5aZmNONDRGAnvKpQBFirY1tbvA3abZr0RsZ2QsvC5+SQkxm55YahFl3MpILDJgq3pKiBXkMbwiikZmONZ+TwmeQkrHILdLTEDA01Dx3UAm9wyKioeDtRk7JMDdwRpvNPFCbDqTH2YHvEam4vrcfhyGlYeuyUSKzbyLSa+tasnMpRZRUXndee3Eh6l5UuuItWrVKnh6ekrhYbTbq6LbFu66hG+WnZAl4pTWYzJMN0c7rPuqnTSqL11qsYnMUcZidSpwCTtcporYRwL3rf0zJRhNlFoeNB41d5/AjBGaWS/xymMQxMsoGe0fyeB+48UxpPSoWVuYYOPx2/hTXEsTYeCDI+NlnrCm3u7y+rLzLQMOYtnxI5fgYZsaG+Dmo1As238dNUo7YdXYlMOtVVRU0sdrJz5NmzbF/v37tX89h316xo8fLzNas0+P0okqLfHh+DHsz2MhHJ/k3gkva2B4LMb3qYVh7fLusAd5gSZjVuOyXzDKFLXDpDfqyB7yF+4EouOkDSjqYIVBLcvLDoq5Bd8QDtF98e4zrD56Ew0rumHJqLbapSoqKpkh7bqUAsa5c+dSFB7ChKIMLmB7T3rT59hYmOL7QfXwJCwOHOqZgqNMIVFxqFbSSRWeV/Db5vNSpJd+1gqHp/WUwkNsLI1haW6G8Jg46TWmfSeyH9Y6Mu8eJbBYYVvNTBUVlUzzWolPr169tN9epGfPnjKkmsLDKjm287xKeBR6NiiNRZ80R2RcojCicQiKTEBAcDQ61PLEJjUDb5pQpGuVdsaF395Ai2QdL50LWcHKzFj2gg+Pjkv3/cgOND9tgIchmh7lZYuofVJUVLLKa1PttmXLFnTokHI9/fbt22UWA7b1MJNBRsRHF2YyYG/ummWcYWv5eqfN0Qe9vt+M41cfo1sdT1TxLCyDN3JDg/iT/N252y/iWVgMNo7vAG8PNdBARSUrvDaez1tvvaX99iIcQoEZDCg69HqykkaiVllXWW2kCo9+aFapOBITEnHFL0jek9wQHhbNGIUX8CwSIeHRcLO3gpfaf0dFJcu8FuLDHG0c/TQlBg8eLNt6mMON0W0ZScynkr10qFUC1pbmuPM4FEERMamGi2cn/En24zp7+4lM79O4UlGYGqcefq+iopI+XgtLO2TIEO23F+ndu7ds56HwvCqTgUrOU8LZFlU8OapiInyuP4KZiVGaIeX6hr9lJNQnKCwGV/3pfRnKhLEqKipZp8CLz44dO/DkyRPtXy/CKjdGtrEzaUaGxFbJOT7pVFWIgAFO33yMoPBoGIt7lFMCxKfBzNQI+y/4Iyo2AfW9XFGhuKNmoYqKSpYo8OLDsXpSokmTJnJwOAqPEuGmkveoV94NDSq4Se9n66m7UgxyoojAth5msr4VEALfu4Gy/m1839rapSoqKlmlQIvPzZs3cfZsyrnVBgwYIKvamL+NXo9K3mXG2w1k4eB6QBCOXgmApal+BrNKDXpWxoYGMqvC+uO35Oip/Zt4Ca9HDTRQUdEXBVp8mLEgJZjBoHz58jKLQUb79ajkPMzv9t2b9eQolzvP3JPtL0w4mh1o2nmE+AivZ8m+qwiJjIVXMUdMEb+voqKiPwq0+CxdulT77UV69OghPR7F61GFJ+/Tp1EZ9GvshdiEJKw4dF0ORW3JhK56hF3emF+OWbQX7b6MgGcRMDM1wdJRL45OqqKiknUKrPj89ttv2m8vwzxuDKum56O29eQfvh9cH+1reiI6PhHLDlzDoUsPYGNuKkOws9JXWtnU0swEkbHx+N/W87j/NBwc5nn9uA5wLmSpWUFFRUVvFNgMB0yXk1LfnipVqmD+/Pmy6o0T231Uzyd/MXbhYSzcdw0WRkko7myLnvVLy469kbFx2gzh6euQykef9579eMyMjXD08kPsOndXele2lubYNKEjijvZaNdWUVHRJwVSfC5duoSKFStq/3qRiRMnolu3bnB1dZXDJnB4bFV88h8rD13HqAWHYWSQJMcKqlbKBY0rFoG9tSli4hLkEBBShwS6jzjvNe82xzhivyFy8V4g9pz1w7PwKETFJ6FBOTcs/6Kd2K/6XKioZBcFUnxGjx6NH374QfvXi+zZs0fmcGMuN7b5ZCWdjkruEhwRjWH/24d9vg/ksBa8j8UKW8PbszA8XQvB3spUtt9oMiNoPCKOOxQdE48HzyJx2e8pLt0NRkRMLBLEMktTE0wZWE94UupopCoq2U2BFB/23YmIiND+9RyOVDp79mxZJcc+PmqVW8Hgwt2nmLzCB/t9/WUVmgE4BIPGs7E0N5ZVavRiGDIdExsv23Xk4Hji3scmAIVtzTG8XSW8376ydo8qKirZTYETn7Sq3EaNGoVBgwbJKjcOla1WuRUswqNjsfLgdWw6fR8Xbj+RnpGRobEci0d5yDliKyvbSgjPqElFd/SqXxLVS7toFqqoqOQYBU58vv32W3z99dfav15k/fr1KFu2rKxyo3ekVrkVbChG95+EIyQiVoqOhZkxXAtZwt3RWruGiopKblHgxKdUqVK4deuW9q/nMIEox/QpUqSIjHJj51JVeFRUVFRyhwLVzyckJCRF4SGVK1f+L4Eoq9tUVFRUVHKPAiU+u3bt0n57mZo1a0rRYZCBOmaPioqKSu5SoKwwh09IjXr16slsBkqQgVrlpqKiopJ7FAjxUZqttm/fLj+Tw6o2tvVw7B5+Vz0fFRUVldylQFhhxYu5e/eu/ExOhQoVZHUb87mpudxUVFRUcp8C4wKcOXNG++1lypUrp4qPioqKSh6iwIjP7t27td9eRgk2UIdPUFFRUckbFJh+PuvWrcPmzZsRFxeHmJgY2Q7EKTo6Wg6lzY6lTKujRrupqKio5D4FQnwSExOl0DCfW1BQkBQcZZ4SYMB0OjY2Nqr3o6KiopIHKDCeT3x8vPR46PkowkMoNBQctvcowqOKj4qKikruUqDS61B0SEqnpFS1qcKjoqKikvsUuNxuKioqKip5H7XlXUVFRUUlx1HFR0VFRUUlx1HFR0VFRUUlx1HFR0VFRUUlx1HFR0VFRUUlx1HFR0VFRUUlx1HFR0VFRUUlx1HFR0VFRUUlx1HFR0VFRUUlx1HFR0VFRUUlx1HFR0VFRUUlhwH+D/3WQ7Nh+UBzAAAAAElFTkSuQmCC)"
      ]
    },
    {
      "cell_type": "markdown",
      "metadata": {
        "id": "3CIBOQGWliao"
      },
      "source": [
        "## **Import Libraries**"
      ]
    },
    {
      "cell_type": "code",
      "metadata": {
        "id": "yb8TptKRj0X1"
      },
      "source": [
        "# Importing required modules ( torch, optimizer and nn module)\n",
        "import torch\n",
        "import torchvision\n",
        "import torch.nn as nn\n",
        "import torchvision.transforms as transforms\n",
        "from torch.utils.data import Dataset, TensorDataset\n",
        "from torch.utils.data import DataLoader\n",
        "\n",
        "import torch.nn.functional as F\n",
        "import torch.optim as optim\n",
        "\n",
        "\n",
        "import matplotlib.pyplot as plt\n",
        "import numpy as np\n",
        "import random"
      ],
      "execution_count": 1,
      "outputs": []
    },
    {
      "cell_type": "markdown",
      "metadata": {
        "id": "vJ43woM9mv5h"
      },
      "source": [
        "# RUN on CUDA ( GPU ) if available\n"
      ]
    },
    {
      "cell_type": "code",
      "metadata": {
        "colab": {
          "base_uri": "https://localhost:8080/"
        },
        "id": "cwTcW8gLmz1z",
        "outputId": "672ea03f-9dd0-48fc-c8ae-6d70ad111635"
      },
      "source": [
        "use_cuda = torch.cuda.is_available()\n",
        "device = torch.device(\"cuda\" if use_cuda else \"cpu\")\n",
        "print(device)"
      ],
      "execution_count": 2,
      "outputs": [
        {
          "output_type": "stream",
          "name": "stdout",
          "text": [
            "cuda\n"
          ]
        }
      ]
    },
    {
      "cell_type": "markdown",
      "metadata": {
        "id": "Xgx7_qV1m4Y-"
      },
      "source": [
        "# Download MNIST Train and Test Dataset"
      ]
    },
    {
      "cell_type": "markdown",
      "metadata": {
        "id": "O5AKdaX3o6c8"
      },
      "source": [
        "MNIST Dataset contains 70,000 images of handwritten digits: 60,000 for training and 10,000 for testing. The images are grayscale, 28x28 pixels\n",
        "We transform images to Tensors since pytorch deals with Tensor data\n"
      ]
    },
    {
      "cell_type": "code",
      "metadata": {
        "colab": {
          "base_uri": "https://localhost:8080/",
          "height": 512,
          "referenced_widgets": [
            "356c2be33b974e78956c433e0fc9ab8f",
            "c44befc271774bdaa5549866fa8fd1e0",
            "59661b604cfa4ae49c7c67b456467462",
            "17418fd278a5487eaa2ce56220de58bb",
            "af9ded5760a14a0c89383f37064f70bf",
            "87e2f6d9ba1243fc85ee3115da21ca04",
            "9bc745bc58664e7db596fe40a6248c73",
            "e210cb9885494114b30ae505e6539a45",
            "2da28bd2bf7842a497aa96535c1a78d6",
            "376fa5c3a7484f278b213d56b01766e9",
            "bd37550c2790484cb3ec62d69fd660ab",
            "9449f54f7b97461094b46e1bb124b41b",
            "322d18c0d51a40fd9ae0f966d4b84c5b",
            "8934b45a124a482c93e43e3672f0938c",
            "a3aa6bbb20a949b18371bd6b729c3dc9",
            "1ce8ab8974b14b529a8b1dd171184811",
            "e8ee68e91af44a208e4b31124f909d70",
            "9c4dea35e66f402296438f99c65d5563",
            "165058afa62042e1a7f11ec82937693f",
            "8f628cfcc9a244a8848bb9267bfdc849",
            "7cd247d6f43f4cac8a4813b0994d6bfe",
            "215b946a50a948d2a81e3101f22ba962",
            "a06969a575494de891d2015a822bf2c4",
            "878c79df07c24002b4ceb57a499a35e7",
            "f9ec26a545a945da90a1dc8fc0d86e1b",
            "f2571aff9f684cfbac39185f00a08578",
            "938bf4194d6d44fcb0e4ff1781a99693",
            "c4f24d2375064b8e90ebabe6488f9f6b",
            "6ddb67a3f7b242198b65cff45c76f705",
            "f81e37f147964c8183e70ec3ecbb3ced",
            "ad8873e7ed0c4fbcb9b10273e40c38fd",
            "776a5f79b7394632841d347bd960c172",
            "4c79cfd927ca439ebbe49621e2324c67",
            "61ccb0bcee1449b4bf9fe85f4de6faf2",
            "b47a014d228844588692bafea047d326",
            "94b07a4f3c0249ecb7948c6e0f285a15",
            "d67dd10df8d04eb2a8e4778ad5f6f378",
            "d92f31bc31584d4188a13265699a9d87",
            "f8e6a63d8d994c139e0f1083bd54d14e",
            "ba08a5489b6e480588ccbfeb3fd46522",
            "9b59fa8966c44f9488457720931e6dc2",
            "78b95e920a8a4a318434a04aa0c1acdc",
            "78ba821c8a3c4fb48458af022fb27b08",
            "97ee5119e025473aa3789e53f1d3a6ab"
          ]
        },
        "id": "GM7ZkpqYm9gK",
        "outputId": "0e34be92-6544-40f0-e670-f8b83cfb21fd"
      },
      "source": [
        "# Train set\n",
        "mnist_train_set = torchvision.datasets.MNIST(\n",
        "    root='./data'\n",
        "    ,train=True\n",
        "    ,download=True\n",
        "    ,transform=transforms.Compose([\n",
        "        transforms.ToTensor(),\n",
        "        transforms.Normalize((0.1307,), (0.3081,)) # The mean and std have to be sequences\n",
        "    ])\n",
        ")\n",
        "\n",
        "print(\"Training set size\",len(mnist_train_set))\n",
        "\n",
        "mnist_test_set = torchvision.datasets.MNIST(\n",
        "    root='./data'\n",
        "    ,train=False\n",
        "    ,download=True\n",
        "    ,transform=transforms.Compose([\n",
        "        transforms.ToTensor(),\n",
        "        transforms.Normalize((0.1307,), (0.3081,)) # The mean and std have to be sequences\n",
        "    ])\n",
        ")\n",
        "\n",
        "print(\"Testing set size\",len(mnist_test_set))"
      ],
      "execution_count": 3,
      "outputs": [
        {
          "output_type": "stream",
          "name": "stdout",
          "text": [
            "Downloading http://yann.lecun.com/exdb/mnist/train-images-idx3-ubyte.gz\n",
            "Downloading http://yann.lecun.com/exdb/mnist/train-images-idx3-ubyte.gz to ./data/MNIST/raw/train-images-idx3-ubyte.gz\n"
          ]
        },
        {
          "output_type": "display_data",
          "data": {
            "application/vnd.jupyter.widget-view+json": {
              "model_id": "356c2be33b974e78956c433e0fc9ab8f",
              "version_minor": 0,
              "version_major": 2
            },
            "text/plain": [
              "  0%|          | 0/9912422 [00:00<?, ?it/s]"
            ]
          },
          "metadata": {}
        },
        {
          "output_type": "stream",
          "name": "stdout",
          "text": [
            "Extracting ./data/MNIST/raw/train-images-idx3-ubyte.gz to ./data/MNIST/raw\n",
            "\n",
            "Downloading http://yann.lecun.com/exdb/mnist/train-labels-idx1-ubyte.gz\n",
            "Downloading http://yann.lecun.com/exdb/mnist/train-labels-idx1-ubyte.gz to ./data/MNIST/raw/train-labels-idx1-ubyte.gz\n"
          ]
        },
        {
          "output_type": "display_data",
          "data": {
            "application/vnd.jupyter.widget-view+json": {
              "model_id": "9449f54f7b97461094b46e1bb124b41b",
              "version_minor": 0,
              "version_major": 2
            },
            "text/plain": [
              "  0%|          | 0/28881 [00:00<?, ?it/s]"
            ]
          },
          "metadata": {}
        },
        {
          "output_type": "stream",
          "name": "stdout",
          "text": [
            "Extracting ./data/MNIST/raw/train-labels-idx1-ubyte.gz to ./data/MNIST/raw\n",
            "\n",
            "Downloading http://yann.lecun.com/exdb/mnist/t10k-images-idx3-ubyte.gz\n",
            "Downloading http://yann.lecun.com/exdb/mnist/t10k-images-idx3-ubyte.gz to ./data/MNIST/raw/t10k-images-idx3-ubyte.gz\n"
          ]
        },
        {
          "output_type": "display_data",
          "data": {
            "application/vnd.jupyter.widget-view+json": {
              "model_id": "a06969a575494de891d2015a822bf2c4",
              "version_minor": 0,
              "version_major": 2
            },
            "text/plain": [
              "  0%|          | 0/1648877 [00:00<?, ?it/s]"
            ]
          },
          "metadata": {}
        },
        {
          "output_type": "stream",
          "name": "stdout",
          "text": [
            "Extracting ./data/MNIST/raw/t10k-images-idx3-ubyte.gz to ./data/MNIST/raw\n",
            "\n",
            "Downloading http://yann.lecun.com/exdb/mnist/t10k-labels-idx1-ubyte.gz\n",
            "Downloading http://yann.lecun.com/exdb/mnist/t10k-labels-idx1-ubyte.gz to ./data/MNIST/raw/t10k-labels-idx1-ubyte.gz\n"
          ]
        },
        {
          "output_type": "display_data",
          "data": {
            "application/vnd.jupyter.widget-view+json": {
              "model_id": "61ccb0bcee1449b4bf9fe85f4de6faf2",
              "version_minor": 0,
              "version_major": 2
            },
            "text/plain": [
              "  0%|          | 0/4542 [00:00<?, ?it/s]"
            ]
          },
          "metadata": {}
        },
        {
          "output_type": "stream",
          "name": "stdout",
          "text": [
            "Extracting ./data/MNIST/raw/t10k-labels-idx1-ubyte.gz to ./data/MNIST/raw\n",
            "\n",
            "Training set size 60000\n",
            "Testing set size 10000\n"
          ]
        },
        {
          "output_type": "stream",
          "name": "stderr",
          "text": [
            "/usr/local/lib/python3.7/dist-packages/torchvision/datasets/mnist.py:498: UserWarning: The given NumPy array is not writeable, and PyTorch does not support non-writeable tensors. This means you can write to the underlying (supposedly non-writeable) NumPy array using the tensor. You may want to copy the array to protect its data or make it writeable before converting it to a tensor. This type of warning will be suppressed for the rest of this program. (Triggered internally at  /pytorch/torch/csrc/utils/tensor_numpy.cpp:180.)\n",
            "  return torch.from_numpy(parsed.astype(m[2], copy=False)).view(*s)\n"
          ]
        }
      ]
    },
    {
      "cell_type": "markdown",
      "metadata": {
        "id": "p2Gky-aNp6tk"
      },
      "source": [
        "Creating Custom Dataset to read both MNSIT and random numbers"
      ]
    },
    {
      "cell_type": "code",
      "metadata": {
        "id": "_JAMFnc9omWy"
      },
      "source": [
        "class MNISTRandomDataset(Dataset):\n",
        "  def __init__(self, MNIST_dataset):\n",
        "    self.MNIST_dataset = MNIST_dataset\n",
        "\n",
        "  def __getitem__(self, index):\n",
        "    image, label = self.MNIST_dataset[index]\n",
        "    randNum = random.randint(0,9)\n",
        "\n",
        "    #Creating one hot encoding for random number \n",
        "    one_hot_randNumber = F.one_hot(torch.arange(0, 10)) # used from https://stackoverflow.com/questions/62456558/is-one-hot-encoding-required-for-using-pytorchs-cross-entropy-loss-function\n",
        "\n",
        "    #add actual label and random number\n",
        "    sum_label = label + randNum\n",
        "    return image, label, one_hot_randNumber[randNum], sum_label\n",
        "\n",
        "  def __len__(self):\n",
        "    return len(self.MNIST_dataset)"
      ],
      "execution_count": 4,
      "outputs": []
    },
    {
      "cell_type": "markdown",
      "metadata": {
        "id": "qI65CvlVt7hK"
      },
      "source": [
        "# Training Set and Testing Set"
      ]
    },
    {
      "cell_type": "code",
      "metadata": {
        "id": "juC5WP33t-xV"
      },
      "source": [
        "train_data_set = MNISTRandomDataset(mnist_train_set)\n",
        "test_data_set = MNISTRandomDataset(mnist_test_set)"
      ],
      "execution_count": 5,
      "outputs": []
    },
    {
      "cell_type": "code",
      "metadata": {
        "colab": {
          "base_uri": "https://localhost:8080/"
        },
        "id": "AMuIxFAvquhv",
        "outputId": "92e31dac-5d80-4487-9e0b-7b6001275de9"
      },
      "source": [
        "dataset  = MNISTRandomDataset(mnist_train_set)\n",
        "next(iter(dataset))"
      ],
      "execution_count": 6,
      "outputs": [
        {
          "output_type": "execute_result",
          "data": {
            "text/plain": [
              "(tensor([[[-0.4242, -0.4242, -0.4242, -0.4242, -0.4242, -0.4242, -0.4242,\n",
              "           -0.4242, -0.4242, -0.4242, -0.4242, -0.4242, -0.4242, -0.4242,\n",
              "           -0.4242, -0.4242, -0.4242, -0.4242, -0.4242, -0.4242, -0.4242,\n",
              "           -0.4242, -0.4242, -0.4242, -0.4242, -0.4242, -0.4242, -0.4242],\n",
              "          [-0.4242, -0.4242, -0.4242, -0.4242, -0.4242, -0.4242, -0.4242,\n",
              "           -0.4242, -0.4242, -0.4242, -0.4242, -0.4242, -0.4242, -0.4242,\n",
              "           -0.4242, -0.4242, -0.4242, -0.4242, -0.4242, -0.4242, -0.4242,\n",
              "           -0.4242, -0.4242, -0.4242, -0.4242, -0.4242, -0.4242, -0.4242],\n",
              "          [-0.4242, -0.4242, -0.4242, -0.4242, -0.4242, -0.4242, -0.4242,\n",
              "           -0.4242, -0.4242, -0.4242, -0.4242, -0.4242, -0.4242, -0.4242,\n",
              "           -0.4242, -0.4242, -0.4242, -0.4242, -0.4242, -0.4242, -0.4242,\n",
              "           -0.4242, -0.4242, -0.4242, -0.4242, -0.4242, -0.4242, -0.4242],\n",
              "          [-0.4242, -0.4242, -0.4242, -0.4242, -0.4242, -0.4242, -0.4242,\n",
              "           -0.4242, -0.4242, -0.4242, -0.4242, -0.4242, -0.4242, -0.4242,\n",
              "           -0.4242, -0.4242, -0.4242, -0.4242, -0.4242, -0.4242, -0.4242,\n",
              "           -0.4242, -0.4242, -0.4242, -0.4242, -0.4242, -0.4242, -0.4242],\n",
              "          [-0.4242, -0.4242, -0.4242, -0.4242, -0.4242, -0.4242, -0.4242,\n",
              "           -0.4242, -0.4242, -0.4242, -0.4242, -0.4242, -0.4242, -0.4242,\n",
              "           -0.4242, -0.4242, -0.4242, -0.4242, -0.4242, -0.4242, -0.4242,\n",
              "           -0.4242, -0.4242, -0.4242, -0.4242, -0.4242, -0.4242, -0.4242],\n",
              "          [-0.4242, -0.4242, -0.4242, -0.4242, -0.4242, -0.4242, -0.4242,\n",
              "           -0.4242, -0.4242, -0.4242, -0.4242, -0.4242, -0.3860, -0.1951,\n",
              "           -0.1951, -0.1951,  1.1795,  1.3068,  1.8032, -0.0933,  1.6887,\n",
              "            2.8215,  2.7197,  1.1923, -0.4242, -0.4242, -0.4242, -0.4242],\n",
              "          [-0.4242, -0.4242, -0.4242, -0.4242, -0.4242, -0.4242, -0.4242,\n",
              "           -0.4242, -0.0424,  0.0340,  0.7722,  1.5359,  1.7396,  2.7960,\n",
              "            2.7960,  2.7960,  2.7960,  2.7960,  2.4396,  1.7650,  2.7960,\n",
              "            2.6560,  2.0578,  0.3904, -0.4242, -0.4242, -0.4242, -0.4242],\n",
              "          [-0.4242, -0.4242, -0.4242, -0.4242, -0.4242, -0.4242, -0.4242,\n",
              "            0.1995,  2.6051,  2.7960,  2.7960,  2.7960,  2.7960,  2.7960,\n",
              "            2.7960,  2.7960,  2.7960,  2.7706,  0.7595,  0.6195,  0.6195,\n",
              "            0.2886,  0.0722, -0.4242, -0.4242, -0.4242, -0.4242, -0.4242],\n",
              "          [-0.4242, -0.4242, -0.4242, -0.4242, -0.4242, -0.4242, -0.4242,\n",
              "           -0.1951,  2.3633,  2.7960,  2.7960,  2.7960,  2.7960,  2.7960,\n",
              "            2.0960,  1.8923,  2.7197,  2.6433, -0.4242, -0.4242, -0.4242,\n",
              "           -0.4242, -0.4242, -0.4242, -0.4242, -0.4242, -0.4242, -0.4242],\n",
              "          [-0.4242, -0.4242, -0.4242, -0.4242, -0.4242, -0.4242, -0.4242,\n",
              "           -0.4242,  0.5940,  1.5614,  0.9377,  2.7960,  2.7960,  2.1851,\n",
              "           -0.2842, -0.4242,  0.1231,  1.5359, -0.4242, -0.4242, -0.4242,\n",
              "           -0.4242, -0.4242, -0.4242, -0.4242, -0.4242, -0.4242, -0.4242],\n",
              "          [-0.4242, -0.4242, -0.4242, -0.4242, -0.4242, -0.4242, -0.4242,\n",
              "           -0.4242, -0.4242, -0.2460, -0.4115,  1.5359,  2.7960,  0.7213,\n",
              "           -0.4242, -0.4242, -0.4242, -0.4242, -0.4242, -0.4242, -0.4242,\n",
              "           -0.4242, -0.4242, -0.4242, -0.4242, -0.4242, -0.4242, -0.4242],\n",
              "          [-0.4242, -0.4242, -0.4242, -0.4242, -0.4242, -0.4242, -0.4242,\n",
              "           -0.4242, -0.4242, -0.4242, -0.4242,  1.3450,  2.7960,  1.9942,\n",
              "           -0.3988, -0.4242, -0.4242, -0.4242, -0.4242, -0.4242, -0.4242,\n",
              "           -0.4242, -0.4242, -0.4242, -0.4242, -0.4242, -0.4242, -0.4242],\n",
              "          [-0.4242, -0.4242, -0.4242, -0.4242, -0.4242, -0.4242, -0.4242,\n",
              "           -0.4242, -0.4242, -0.4242, -0.4242, -0.2842,  1.9942,  2.7960,\n",
              "            0.4668, -0.4242, -0.4242, -0.4242, -0.4242, -0.4242, -0.4242,\n",
              "           -0.4242, -0.4242, -0.4242, -0.4242, -0.4242, -0.4242, -0.4242],\n",
              "          [-0.4242, -0.4242, -0.4242, -0.4242, -0.4242, -0.4242, -0.4242,\n",
              "           -0.4242, -0.4242, -0.4242, -0.4242, -0.4242,  0.0213,  2.6433,\n",
              "            2.4396,  1.6123,  0.9504, -0.4115, -0.4242, -0.4242, -0.4242,\n",
              "           -0.4242, -0.4242, -0.4242, -0.4242, -0.4242, -0.4242, -0.4242],\n",
              "          [-0.4242, -0.4242, -0.4242, -0.4242, -0.4242, -0.4242, -0.4242,\n",
              "           -0.4242, -0.4242, -0.4242, -0.4242, -0.4242, -0.4242,  0.6068,\n",
              "            2.6306,  2.7960,  2.7960,  1.0904, -0.1060, -0.4242, -0.4242,\n",
              "           -0.4242, -0.4242, -0.4242, -0.4242, -0.4242, -0.4242, -0.4242],\n",
              "          [-0.4242, -0.4242, -0.4242, -0.4242, -0.4242, -0.4242, -0.4242,\n",
              "           -0.4242, -0.4242, -0.4242, -0.4242, -0.4242, -0.4242, -0.4242,\n",
              "            0.1486,  1.9432,  2.7960,  2.7960,  1.4850, -0.0806, -0.4242,\n",
              "           -0.4242, -0.4242, -0.4242, -0.4242, -0.4242, -0.4242, -0.4242],\n",
              "          [-0.4242, -0.4242, -0.4242, -0.4242, -0.4242, -0.4242, -0.4242,\n",
              "           -0.4242, -0.4242, -0.4242, -0.4242, -0.4242, -0.4242, -0.4242,\n",
              "           -0.4242, -0.2206,  0.7595,  2.7833,  2.7960,  1.9560, -0.4242,\n",
              "           -0.4242, -0.4242, -0.4242, -0.4242, -0.4242, -0.4242, -0.4242],\n",
              "          [-0.4242, -0.4242, -0.4242, -0.4242, -0.4242, -0.4242, -0.4242,\n",
              "           -0.4242, -0.4242, -0.4242, -0.4242, -0.4242, -0.4242, -0.4242,\n",
              "           -0.4242, -0.4242, -0.4242,  2.7451,  2.7960,  2.7451,  0.3904,\n",
              "           -0.4242, -0.4242, -0.4242, -0.4242, -0.4242, -0.4242, -0.4242],\n",
              "          [-0.4242, -0.4242, -0.4242, -0.4242, -0.4242, -0.4242, -0.4242,\n",
              "           -0.4242, -0.4242, -0.4242, -0.4242, -0.4242, -0.4242, -0.4242,\n",
              "            0.1613,  1.2305,  1.9051,  2.7960,  2.7960,  2.2105, -0.3988,\n",
              "           -0.4242, -0.4242, -0.4242, -0.4242, -0.4242, -0.4242, -0.4242],\n",
              "          [-0.4242, -0.4242, -0.4242, -0.4242, -0.4242, -0.4242, -0.4242,\n",
              "           -0.4242, -0.4242, -0.4242, -0.4242, -0.4242,  0.0722,  1.4596,\n",
              "            2.4906,  2.7960,  2.7960,  2.7960,  2.7578,  1.8923, -0.4242,\n",
              "           -0.4242, -0.4242, -0.4242, -0.4242, -0.4242, -0.4242, -0.4242],\n",
              "          [-0.4242, -0.4242, -0.4242, -0.4242, -0.4242, -0.4242, -0.4242,\n",
              "           -0.4242, -0.4242, -0.4242, -0.1187,  1.0268,  2.3887,  2.7960,\n",
              "            2.7960,  2.7960,  2.7960,  2.1342,  0.5686, -0.4242, -0.4242,\n",
              "           -0.4242, -0.4242, -0.4242, -0.4242, -0.4242, -0.4242, -0.4242],\n",
              "          [-0.4242, -0.4242, -0.4242, -0.4242, -0.4242, -0.4242, -0.4242,\n",
              "           -0.4242, -0.1315,  0.4159,  2.2869,  2.7960,  2.7960,  2.7960,\n",
              "            2.7960,  2.0960,  0.6068, -0.3988, -0.4242, -0.4242, -0.4242,\n",
              "           -0.4242, -0.4242, -0.4242, -0.4242, -0.4242, -0.4242, -0.4242],\n",
              "          [-0.4242, -0.4242, -0.4242, -0.4242, -0.4242, -0.4242, -0.1951,\n",
              "            1.7523,  2.3633,  2.7960,  2.7960,  2.7960,  2.7960,  2.0578,\n",
              "            0.5940, -0.3097, -0.4242, -0.4242, -0.4242, -0.4242, -0.4242,\n",
              "           -0.4242, -0.4242, -0.4242, -0.4242, -0.4242, -0.4242, -0.4242],\n",
              "          [-0.4242, -0.4242, -0.4242, -0.4242,  0.2758,  1.7650,  2.4524,\n",
              "            2.7960,  2.7960,  2.7960,  2.7960,  2.6815,  1.2686, -0.2842,\n",
              "           -0.4242, -0.4242, -0.4242, -0.4242, -0.4242, -0.4242, -0.4242,\n",
              "           -0.4242, -0.4242, -0.4242, -0.4242, -0.4242, -0.4242, -0.4242],\n",
              "          [-0.4242, -0.4242, -0.4242, -0.4242,  1.3068,  2.7960,  2.7960,\n",
              "            2.7960,  2.2742,  1.2941,  1.2559, -0.2206, -0.4242, -0.4242,\n",
              "           -0.4242, -0.4242, -0.4242, -0.4242, -0.4242, -0.4242, -0.4242,\n",
              "           -0.4242, -0.4242, -0.4242, -0.4242, -0.4242, -0.4242, -0.4242],\n",
              "          [-0.4242, -0.4242, -0.4242, -0.4242, -0.4242, -0.4242, -0.4242,\n",
              "           -0.4242, -0.4242, -0.4242, -0.4242, -0.4242, -0.4242, -0.4242,\n",
              "           -0.4242, -0.4242, -0.4242, -0.4242, -0.4242, -0.4242, -0.4242,\n",
              "           -0.4242, -0.4242, -0.4242, -0.4242, -0.4242, -0.4242, -0.4242],\n",
              "          [-0.4242, -0.4242, -0.4242, -0.4242, -0.4242, -0.4242, -0.4242,\n",
              "           -0.4242, -0.4242, -0.4242, -0.4242, -0.4242, -0.4242, -0.4242,\n",
              "           -0.4242, -0.4242, -0.4242, -0.4242, -0.4242, -0.4242, -0.4242,\n",
              "           -0.4242, -0.4242, -0.4242, -0.4242, -0.4242, -0.4242, -0.4242],\n",
              "          [-0.4242, -0.4242, -0.4242, -0.4242, -0.4242, -0.4242, -0.4242,\n",
              "           -0.4242, -0.4242, -0.4242, -0.4242, -0.4242, -0.4242, -0.4242,\n",
              "           -0.4242, -0.4242, -0.4242, -0.4242, -0.4242, -0.4242, -0.4242,\n",
              "           -0.4242, -0.4242, -0.4242, -0.4242, -0.4242, -0.4242, -0.4242]]]),\n",
              " 5,\n",
              " tensor([0, 0, 1, 0, 0, 0, 0, 0, 0, 0]),\n",
              " 7)"
            ]
          },
          "metadata": {},
          "execution_count": 6
        }
      ]
    },
    {
      "cell_type": "markdown",
      "metadata": {
        "id": "ti8gBrZ2rB90"
      },
      "source": [
        "# DataLoader for batch training and testing\n"
      ]
    },
    {
      "cell_type": "code",
      "metadata": {
        "id": "soGAvlYPueZr"
      },
      "source": [
        "train_Dataloader = DataLoader(train_data_set,batch_size=256,shuffle=True)\n",
        "test_Dataloader = DataLoader(test_data_set,batch_size=256)"
      ],
      "execution_count": 7,
      "outputs": []
    },
    {
      "cell_type": "code",
      "metadata": {
        "colab": {
          "base_uri": "https://localhost:8080/"
        },
        "id": "jxsJQSu2u_LB",
        "outputId": "2db81ffc-df59-44fa-d4ef-0d1b158066ad"
      },
      "source": [
        "# Checking the dataset\n",
        "batch = next(iter(train_Dataloader))\n",
        "image, label, random_num, sum_label = batch\n",
        "print(image.shape,label,random_num, sum_label)"
      ],
      "execution_count": 8,
      "outputs": [
        {
          "output_type": "stream",
          "name": "stdout",
          "text": [
            "torch.Size([256, 1, 28, 28]) tensor([2, 3, 1, 5, 8, 7, 6, 9, 9, 5, 9, 3, 7, 5, 6, 8, 2, 6, 6, 6, 5, 9, 4, 8,\n",
            "        7, 0, 4, 5, 8, 4, 4, 5, 6, 0, 9, 2, 3, 1, 8, 5, 4, 4, 5, 0, 1, 0, 9, 0,\n",
            "        1, 1, 7, 1, 0, 1, 2, 9, 5, 9, 3, 5, 7, 1, 1, 8, 1, 4, 3, 6, 8, 3, 1, 1,\n",
            "        9, 3, 9, 3, 8, 8, 3, 9, 1, 9, 9, 6, 4, 2, 6, 1, 1, 1, 7, 9, 5, 1, 9, 6,\n",
            "        9, 1, 1, 7, 0, 2, 2, 6, 1, 6, 0, 6, 4, 2, 5, 0, 9, 4, 5, 9, 8, 7, 5, 5,\n",
            "        4, 2, 3, 5, 3, 2, 3, 5, 9, 7, 3, 3, 1, 8, 0, 8, 2, 2, 2, 8, 1, 6, 8, 3,\n",
            "        6, 8, 0, 3, 6, 6, 0, 7, 9, 4, 7, 8, 8, 5, 4, 8, 5, 7, 6, 8, 4, 7, 7, 1,\n",
            "        6, 1, 0, 1, 5, 5, 0, 4, 9, 2, 4, 6, 3, 2, 9, 5, 5, 4, 1, 4, 4, 7, 5, 7,\n",
            "        2, 8, 6, 6, 7, 1, 3, 1, 1, 9, 1, 4, 8, 9, 8, 6, 7, 8, 8, 4, 9, 2, 6, 2,\n",
            "        8, 8, 1, 3, 1, 8, 3, 6, 1, 7, 7, 6, 8, 9, 3, 6, 7, 8, 1, 3, 8, 3, 4, 4,\n",
            "        0, 4, 9, 8, 3, 5, 6, 7, 6, 2, 7, 7, 4, 2, 5, 4]) tensor([[0, 0, 1,  ..., 0, 0, 0],\n",
            "        [0, 0, 0,  ..., 0, 0, 0],\n",
            "        [0, 0, 0,  ..., 0, 0, 0],\n",
            "        ...,\n",
            "        [0, 0, 0,  ..., 0, 0, 0],\n",
            "        [1, 0, 0,  ..., 0, 0, 0],\n",
            "        [0, 0, 0,  ..., 1, 0, 0]]) tensor([ 4,  7,  6, 12,  8,  8, 13, 16, 14,  5, 10, 10, 16, 13, 14, 10, 10, 10,\n",
            "         7,  7,  7, 18,  5, 15, 16,  2, 12,  9, 17,  7,  8, 11,  9,  1, 12,  4,\n",
            "        12,  1, 13, 14,  5,  9,  9,  9,  9,  6, 12,  2, 10,  8, 16,  1,  6,  6,\n",
            "         3, 18,  8, 14,  4,  9, 10,  9,  8, 14,  1,  7, 11, 11, 15,  5,  3,  8,\n",
            "        16,  5,  9, 12, 11, 12,  9,  9,  9,  9, 18, 15,  6,  7, 15,  4,  9,  1,\n",
            "        12, 12, 12,  5, 17,  6, 10,  5,  2, 14,  0,  7,  6,  6, 10, 11,  0, 12,\n",
            "         8,  4,  8,  0, 17, 12,  9, 13, 10,  8,  8, 14,  5, 11, 10,  8, 11,  3,\n",
            "         9,  5, 14,  8, 10, 11,  5, 10,  0, 11,  9,  7,  9,  8,  6, 12,  8,  8,\n",
            "        12,  9,  9,  8, 12, 15,  3, 11, 12,  6,  8, 11, 14,  9,  8, 13,  6, 14,\n",
            "        11, 14,  5, 11, 11,  9, 13, 10,  5,  5,  9, 14,  4, 13, 13, 11,  8, 15,\n",
            "        11,  5, 13,  8, 13, 13,  5,  7,  5, 15,  9, 15,  6, 13, 13,  8, 15,  8,\n",
            "         6,  4,  6, 12,  9,  4, 12, 13, 17, 15, 10, 10, 16,  9, 10, 11,  7,  6,\n",
            "        12, 16,  7, 10,  5, 11,  5, 11,  9,  7, 15, 12, 16, 13,  6,  8, 11, 16,\n",
            "         5,  4, 14,  4,  5,  6,  0, 10, 17, 11,  8,  9, 10,  7,  8,  8, 11, 11,\n",
            "         7,  7,  5, 11])\n"
          ]
        }
      ]
    },
    {
      "cell_type": "markdown",
      "metadata": {
        "id": "o7SPjWDrvlR7"
      },
      "source": [
        "MNIST and RANDOM NN Model"
      ]
    },
    {
      "cell_type": "code",
      "metadata": {
        "id": "G_gdOEmK0IhG"
      },
      "source": [
        "class Network(nn.Module):\n",
        "    def __init__(self):\n",
        "        super(Network, self).__init__()\n",
        "        self.conv1 = nn.Conv2d(in_channels=1,   out_channels=32,  kernel_size=3, padding=1)      #Input: 28*28*1    Output:28 * 28 * 32    RF:3 * 3   (Receptive Field)\n",
        "        self.conv2 = nn.Conv2d(in_channels=32,  out_channels=64,  kernel_size=3, padding=1)      #Input: 28*28*32   Output:28 * 28 * 64    RF:5 * 5\n",
        "        self.max_pool1 = nn.MaxPool2d(2, 2)                                                      #Input: 28*28*64   Output:14 * 14 * 64    RF:10* 10 \n",
        "        self.conv3 = nn.Conv2d(in_channels=64,  out_channels=64, kernel_size=3, padding=1)       #Input: 14*14*64   Output:14 * 14 * 64   RF:12*12\n",
        "        self.conv4 = nn.Conv2d(in_channels=64, out_channels=64, kernel_size=3, padding=1)        #Input: 14*14*64   Output:14 * 14 * 64   RF:14*14\n",
        "        self.max_pool2 = nn.MaxPool2d(2, 2)                                                      #Input: 14*14*64   Output: 7 * 7 * 64    RF:28*28\n",
        "        self.conv5 = nn.Conv2d(in_channels=64, out_channels=64, kernel_size=3)                   #Input: 7*7*64     Output: 5 * 5 * 64    RF:30*30\n",
        "        self.conv6 = nn.Conv2d(in_channels=64, out_channels=128, kernel_size=3)                  #Input: 5*5*64     Output: 3 * 3 * 128    RF:32*32\n",
        "        self.conv7 = nn.Conv2d(in_channels=128, out_channels=10,  kernel_size=3)                 #Input: 3*3*128    Output: 1 * 1 * 10     RF:34*34\n",
        "\n",
        "        self.fc1 = nn.Linear(in_features=20,  out_features=128)    # here we concatinate MNIST output and Random number input layer            \n",
        "        self.fc2 = nn.Linear(in_features=128, out_features=19)     # we have total of 19 outputs for MNIST + Random output layer i.e (0 - 18)\n",
        "\n",
        "    def forward(self, x, rand_num):\n",
        "        # First conv1 layer till max_pool-1\n",
        "        x = self.conv1(x)\n",
        "        x = F.relu(x)\n",
        "        x = self.conv2(x)\n",
        "        x = F.relu(x)\n",
        "        x = self.max_pool1(x)\n",
        "\n",
        "        # Second conv layer till max_pool\n",
        "        x = self.conv3(x)\n",
        "        x = F.relu(x)\n",
        "        x = self.conv4(x)\n",
        "        x = F.relu(x)\n",
        "        x = self.max_pool2(x)\n",
        "\n",
        "        # Third conv layer\n",
        "        x = self.conv5(x)\n",
        "        x = F.relu(x)\n",
        "        x = self.conv6(x)\n",
        "        x = F.relu(x)\n",
        "        x = self.conv7(x)\n",
        "\n",
        "        # The Output of 7th layer is 1x1x10 and it is concatinated with random_number layer for output\n",
        "        # Flatten the x layer\n",
        "        x = torch.flatten(x,1)\n",
        "        new_x = torch.cat((x, rand_num), dim=1)\n",
        "\n",
        "        # Now connect with forward connecting layers to get two outputs\n",
        "        new_x = F.relu(self.fc1(new_x)) \n",
        "        new_x = self.fc2(new_x)\n",
        "\n",
        "        # We use softmax fucntion to get output probs in range of 0 -1 \n",
        "        return F.log_softmax(x, dim = 1), F.log_softmax(new_x, dim = 1)"
      ],
      "execution_count": 9,
      "outputs": []
    },
    {
      "cell_type": "markdown",
      "metadata": {
        "id": "5oP_Sd328dQx"
      },
      "source": [
        "Testing Network\n"
      ]
    },
    {
      "cell_type": "code",
      "metadata": {
        "colab": {
          "base_uri": "https://localhost:8080/"
        },
        "id": "JgVh6l8S8fsR",
        "outputId": "f33c29d2-6b4d-4404-f945-4f660971e1f6"
      },
      "source": [
        "model = Network()\n",
        "# Run model on GPU\n",
        "model.to(device)\n",
        "def count_parameters(model):\n",
        "    return sum(p.numel() for p in model.parameters() if p.requires_grad)\n",
        "\n",
        "print(f'The model has {count_parameters(model):,} trainable parameters')"
      ],
      "execution_count": 10,
      "outputs": [
        {
          "output_type": "stream",
          "name": "stdout",
          "text": [
            "The model has 220,125 trainable parameters\n"
          ]
        }
      ]
    },
    {
      "cell_type": "markdown",
      "metadata": {
        "id": "E2QHzSPk9OYh"
      },
      "source": [
        "Testing Parameters\n",
        "1. Accuracy"
      ]
    },
    {
      "cell_type": "code",
      "metadata": {
        "id": "ND8t-tMb9RGi"
      },
      "source": [
        "def accuracy(outputs, labels):\n",
        "    \"\"\"\n",
        "    Calculates the accuracy.\n",
        "    \"\"\"\n",
        "    _, preds = torch.max(outputs, dim=1)\n",
        "    return torch.tensor(torch.sum(preds == labels).item() / len(preds))"
      ],
      "execution_count": 11,
      "outputs": []
    },
    {
      "cell_type": "markdown",
      "metadata": {
        "id": "m4-AVeEV9nsV"
      },
      "source": [
        "#Training and Testing"
      ]
    },
    {
      "cell_type": "code",
      "metadata": {
        "id": "366VeP7dGoKk"
      },
      "source": [
        "def train(model, device, train_loader, optimizer, epoch):\n",
        "\n",
        "    epoch_loss = 0\n",
        "\n",
        "    # run for all the data in train_Dataloader\n",
        "    for batch_index, (image, label, random_number, label_sum) in enumerate(train_loader):\n",
        "\n",
        "        image, label, random_number, label_sum = image.to(device), label.to(device),random_number.to(device), label_sum.to(device)\n",
        "\n",
        "        optimizer.zero_grad()\n",
        "\n",
        "        mnist_output, sum_output = model(image,random_number)\n",
        "\n",
        "        mnist_loss = F.cross_entropy(mnist_output, label)\n",
        "        sum_loss = F.cross_entropy(sum_output, label_sum)\n",
        "        loss= (mnist_loss + sum_loss)/2\n",
        "\n",
        "        epoch_loss += loss.item()\n",
        "\n",
        "        loss.backward()\n",
        "\n",
        "        optimizer.step()\n",
        "    print('Train set: Average loss: {:.4f}'.format(loss.item()))\n",
        "\n",
        "    train_loss = epoch_loss / len(train_loader)\n",
        "    return train_loss"
      ],
      "execution_count": 14,
      "outputs": []
    },
    {
      "cell_type": "code",
      "metadata": {
        "id": "9TxSuHClHPfg"
      },
      "source": [
        "def test(model, device, test_loader,test_type='Test'):\n",
        "\n",
        "    test_loss = 0\n",
        "    \n",
        "    correct_mnist = 0\n",
        "    correct_addition = 0\n",
        "\n",
        "    # turn off gradients during the testing\n",
        "    with torch.no_grad():\n",
        "        for (image, label, random_number, label_sum) in test_loader:\n",
        "\n",
        "            image, label,random_number, label_sum = image.to(device), label.to(device), random_number.to(device),label_sum.to(device)\n",
        "\n",
        "            mnist_output, sum_output = model(image,random_number)\n",
        "\n",
        "            test_loss += (F.cross_entropy(mnist_output, label) + F.cross_entropy(sum_output, label_sum))/2\n",
        "\n",
        "            mnist_pred = mnist_output.argmax(dim=1, keepdim=True)\n",
        "            addition_pred = sum_output.argmax(dim=1, keepdim=True)\n",
        "\n",
        "            # increment the correct prediction count if pred is correct\n",
        "            correct_mnist += mnist_pred.eq(label.view_as(mnist_pred)).sum().item()\n",
        "            correct_addition += addition_pred.eq(label_sum.view_as(addition_pred)).sum().item()\n",
        "\n",
        "\n",
        "    # test loss divided by the total number of items in test dataset\n",
        "    test_loss /= len(test_loader.dataset)\n",
        "    print(f'{test_type} set: Average loss: {test_loss:.3f}, MNIST Accuracy:{100. * correct_mnist/len(test_loader.dataset)}, Addition_Accuracy:{100. * correct_addition/len(test_loader.dataset)}')\n",
        "\n",
        "    return test_loss"
      ],
      "execution_count": 15,
      "outputs": []
    },
    {
      "cell_type": "code",
      "metadata": {
        "id": "NcXqgDTjIHQn"
      },
      "source": [
        "# move the model to the specified device\n",
        "model = Network().to(device)\n",
        "\n",
        "# use Stochastic Gradient Descent as the optimizer\n",
        "optimizer = optim.Adam(model.parameters(), lr=0.001)\n",
        "\n",
        "# set the number of epochs to train for\n",
        "num_epoch = 25\n",
        "\n",
        "train_loss_values = []\n",
        "test_loss_values = []\n",
        "\n",
        "# run it for epoch number of times\n",
        "for epoch in range(1, num_epoch+1):\n",
        "    print('\\nEpoch {} : '.format(epoch))\n",
        "    # train the model\n",
        "    train_loss = train(model, device, train_Dataloader, optimizer, epoch)\n",
        "    test_loss  = test(model, device, test_Dataloader)\n",
        "    # test the model\n",
        "\n",
        "    train_loss_values.append(train_loss)\n",
        "    test_loss_values.append(valid_loss)"
      ],
      "execution_count": null,
      "outputs": []
    },
    {
      "cell_type": "code",
      "metadata": {
        "id": "l0uWvuB1N20y"
      },
      "source": [
        "import matplotlib.pyplot as plt\n",
        "% matplotlib inline\n",
        "plt.figure(figsize=(12, 8))\n",
        "plt.plot(train_loss_values, '-x')\n",
        "plt.plot(test_loss_values, '-x')\n",
        "plt.xlabel('epoch')\n",
        "plt.ylabel('loss')\n",
        "plt.legend(['train_loss', 'test_loss'])\n",
        "plt.title('Loss_values vs. No. of epochs')\n",
        "plt.savefig('Loss_values.png');"
      ],
      "execution_count": null,
      "outputs": []
    }
  ]
}