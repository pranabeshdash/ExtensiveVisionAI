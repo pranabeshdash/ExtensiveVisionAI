{
  "nbformat": 4,
  "nbformat_minor": 0,
  "metadata": {
    "colab": {
      "name": "S7_Advanced_concepts-ver3.ipynb",
      "provenance": [],
      "collapsed_sections": []
    },
    "kernelspec": {
      "name": "python3",
      "display_name": "Python 3"
    },
    "language_info": {
      "name": "python"
    },
    "accelerator": "GPU"
  },
  "cells": [
    {
      "cell_type": "code",
      "metadata": {
        "id": "XMQiodzXwQz0"
      },
      "source": [
        "# from google.colab import drive\n",
        "# drive.mount('/content/drive')"
      ],
      "execution_count": 1,
      "outputs": []
    },
    {
      "cell_type": "code",
      "metadata": {
        "colab": {
          "base_uri": "https://localhost:8080/"
        },
        "id": "83xYpt6HxfWT",
        "outputId": "fb33962f-bbc8-4d57-a153-54a579ee088a"
      },
      "source": [
        "!pip install --upgrade albumentations"
      ],
      "execution_count": 2,
      "outputs": [
        {
          "output_type": "stream",
          "name": "stdout",
          "text": [
            "Requirement already satisfied: albumentations in /usr/local/lib/python3.7/dist-packages (1.1.0)\n",
            "Requirement already satisfied: scikit-image>=0.16.1 in /usr/local/lib/python3.7/dist-packages (from albumentations) (0.16.2)\n",
            "Requirement already satisfied: PyYAML in /usr/local/lib/python3.7/dist-packages (from albumentations) (3.13)\n",
            "Requirement already satisfied: opencv-python-headless>=4.1.1 in /usr/local/lib/python3.7/dist-packages (from albumentations) (4.5.4.58)\n",
            "Requirement already satisfied: scipy in /usr/local/lib/python3.7/dist-packages (from albumentations) (1.4.1)\n",
            "Requirement already satisfied: qudida>=0.0.4 in /usr/local/lib/python3.7/dist-packages (from albumentations) (0.0.4)\n",
            "Requirement already satisfied: numpy>=1.11.1 in /usr/local/lib/python3.7/dist-packages (from albumentations) (1.19.5)\n",
            "Requirement already satisfied: typing-extensions in /usr/local/lib/python3.7/dist-packages (from qudida>=0.0.4->albumentations) (3.10.0.2)\n",
            "Requirement already satisfied: scikit-learn>=0.19.1 in /usr/local/lib/python3.7/dist-packages (from qudida>=0.0.4->albumentations) (0.22.2.post1)\n",
            "Requirement already satisfied: imageio>=2.3.0 in /usr/local/lib/python3.7/dist-packages (from scikit-image>=0.16.1->albumentations) (2.4.1)\n",
            "Requirement already satisfied: matplotlib!=3.0.0,>=2.0.0 in /usr/local/lib/python3.7/dist-packages (from scikit-image>=0.16.1->albumentations) (3.2.2)\n",
            "Requirement already satisfied: networkx>=2.0 in /usr/local/lib/python3.7/dist-packages (from scikit-image>=0.16.1->albumentations) (2.6.3)\n",
            "Requirement already satisfied: PyWavelets>=0.4.0 in /usr/local/lib/python3.7/dist-packages (from scikit-image>=0.16.1->albumentations) (1.2.0)\n",
            "Requirement already satisfied: pillow>=4.3.0 in /usr/local/lib/python3.7/dist-packages (from scikit-image>=0.16.1->albumentations) (7.1.2)\n",
            "Requirement already satisfied: kiwisolver>=1.0.1 in /usr/local/lib/python3.7/dist-packages (from matplotlib!=3.0.0,>=2.0.0->scikit-image>=0.16.1->albumentations) (1.3.2)\n",
            "Requirement already satisfied: cycler>=0.10 in /usr/local/lib/python3.7/dist-packages (from matplotlib!=3.0.0,>=2.0.0->scikit-image>=0.16.1->albumentations) (0.11.0)\n",
            "Requirement already satisfied: python-dateutil>=2.1 in /usr/local/lib/python3.7/dist-packages (from matplotlib!=3.0.0,>=2.0.0->scikit-image>=0.16.1->albumentations) (2.8.2)\n",
            "Requirement already satisfied: pyparsing!=2.0.4,!=2.1.2,!=2.1.6,>=2.0.1 in /usr/local/lib/python3.7/dist-packages (from matplotlib!=3.0.0,>=2.0.0->scikit-image>=0.16.1->albumentations) (2.4.7)\n",
            "Requirement already satisfied: six>=1.5 in /usr/local/lib/python3.7/dist-packages (from python-dateutil>=2.1->matplotlib!=3.0.0,>=2.0.0->scikit-image>=0.16.1->albumentations) (1.15.0)\n",
            "Requirement already satisfied: joblib>=0.11 in /usr/local/lib/python3.7/dist-packages (from scikit-learn>=0.19.1->qudida>=0.0.4->albumentations) (1.1.0)\n"
          ]
        }
      ]
    },
    {
      "cell_type": "code",
      "metadata": {
        "colab": {
          "base_uri": "https://localhost:8080/"
        },
        "id": "OU20_85FyHHk",
        "outputId": "22d3db7d-0373-4e9e-ad61-7bfa629cb8b4"
      },
      "source": [
        "%cd /content/drive/MyDrive/EVA7/S7"
      ],
      "execution_count": 3,
      "outputs": [
        {
          "output_type": "stream",
          "name": "stdout",
          "text": [
            "/content/drive/MyDrive/EVA7/S7\n"
          ]
        }
      ]
    },
    {
      "cell_type": "markdown",
      "metadata": {
        "id": "aJgDu5k8y683"
      },
      "source": [
        "## Importing the python Modules"
      ]
    },
    {
      "cell_type": "code",
      "metadata": {
        "id": "sxhXZu7ixi6M"
      },
      "source": [
        "import torch\n",
        "from torchsummary import summary\n",
        "from torch.utils.data import Dataset, DataLoader\n",
        "import torch.optim as optim\n",
        "\n",
        "import torchvision\n",
        "from torchvision import datasets, transforms\n",
        "from tqdm import tqdm\n",
        "\n",
        "from model import model\n",
        "from utils.test import test\n",
        "from utils.train import train\n",
        "from utils.plot_images import *\n",
        "from utils.fitmodel import fit_model\n",
        "\n",
        "\n",
        "from utils.AlbumentationImageDataset import AlbumentationImageDataset\n",
        "\n",
        "import matplotlib.pyplot as plt\n",
        "import numpy as np\n",
        "\n",
        "\n"
      ],
      "execution_count": 4,
      "outputs": []
    },
    {
      "cell_type": "markdown",
      "metadata": {
        "id": "rM-UoTcFzBmV"
      },
      "source": [
        "## Loading the dataset"
      ]
    },
    {
      "cell_type": "code",
      "metadata": {
        "colab": {
          "base_uri": "https://localhost:8080/"
        },
        "id": "4jIzCRH4zEAF",
        "outputId": "5ab040c2-3267-4523-bb25-57399da48147"
      },
      "source": [
        "# loading the dataset\n",
        "cifar_10_database = datasets.CIFAR10('./data', train=True, download=True)\n",
        "cifar_10_data = cifar_10_database.data\n",
        "\n",
        "# Calculate the mean and std for normalization\n",
        "print('[Train]')\n",
        "print(' - Shape:', cifar_10_data.shape)\n",
        "print(' - mean:', np.mean(cifar_10_data, axis=(0,1,2)) / 255.)\n",
        "print(' - std:', np.std(cifar_10_data, axis=(0,1,2)) / 255.)\n",
        "\n",
        "train_mean  = list(np.mean(cifar_10_data, axis=(0,1,2)) / 255.)\n",
        "train_std = list(np.std(cifar_10_data, axis=(0,1,2)) / 255.)\n"
      ],
      "execution_count": 5,
      "outputs": [
        {
          "output_type": "stream",
          "name": "stdout",
          "text": [
            "Files already downloaded and verified\n",
            "[Train]\n",
            " - Shape: (50000, 32, 32, 3)\n",
            " - mean: [0.49139968 0.48215841 0.44653091]\n",
            " - std: [0.24703223 0.24348513 0.26158784]\n"
          ]
        }
      ]
    },
    {
      "cell_type": "markdown",
      "metadata": {
        "id": "rXBGRD0Rz5P1"
      },
      "source": [
        "## Plotting few images in dataset\n"
      ]
    },
    {
      "cell_type": "code",
      "metadata": {
        "id": "fnF32csaz_ck"
      },
      "source": [
        "def plot_data(data = None,cols=8, rows=4):\n",
        "  figure = plt.figure(figsize=(14, 10))\n",
        "  for i in range(1, cols * rows + 1):\n",
        "    img, label = data[i]\n",
        "\n",
        "    figure.add_subplot(rows, cols, i)\n",
        "    plt.title(data.classes[label])\n",
        "    plt.axis(\"off\")\n",
        "    plt.imshow(img, cmap=\"gray\")\n",
        "\n",
        "  plt.tight_layout()\n",
        "  plt.show()"
      ],
      "execution_count": 6,
      "outputs": []
    },
    {
      "cell_type": "code",
      "metadata": {
        "id": "l8y-5JSL0IOj"
      },
      "source": [
        "# plot_data(cifar_10_database)"
      ],
      "execution_count": 7,
      "outputs": []
    },
    {
      "cell_type": "markdown",
      "metadata": {
        "id": "1PLxd1CH4DPm"
      },
      "source": [
        "## Run in CUDA\n"
      ]
    },
    {
      "cell_type": "code",
      "metadata": {
        "colab": {
          "base_uri": "https://localhost:8080/"
        },
        "id": "WTLD-aZT4Gk3",
        "outputId": "91faf077-5fe5-4e8a-cc58-73de7f987fac"
      },
      "source": [
        "SEED = 1\n",
        "\n",
        "# CUDA?\n",
        "cuda = torch.cuda.is_available()\n",
        "print(\"CUDA Available:\", cuda)\n",
        "\n",
        "# For reproducibility\n",
        "torch.manual_seed(SEED)\n",
        "\n",
        "if cuda:\n",
        "    torch.cuda.manual_seed(SEED)\n",
        "    BATCH_SIZE=256\n",
        "else:\n",
        "    BATCH_SIZE=256"
      ],
      "execution_count": 8,
      "outputs": [
        {
          "output_type": "stream",
          "name": "stdout",
          "text": [
            "CUDA Available: True\n"
          ]
        }
      ]
    },
    {
      "cell_type": "markdown",
      "metadata": {
        "id": "0OmE4qwU0suA"
      },
      "source": [
        "## Data Agumentation using albumentations"
      ]
    },
    {
      "cell_type": "code",
      "metadata": {
        "colab": {
          "base_uri": "https://localhost:8080/"
        },
        "id": "6LTjeZkW0r0c",
        "outputId": "f7b1a660-b22f-4a12-c6eb-58291ed9bd14"
      },
      "source": [
        "trainset = torchvision.datasets.CIFAR10(root='./data', train=True,\n",
        "                                        download=True )\n",
        "testset = torchvision.datasets.CIFAR10(root='./data', train=False,\n",
        "                                       download=True)\n",
        "\n",
        "\n",
        "train_loader = DataLoader(AlbumentationImageDataset(trainset, train=True), batch_size=BATCH_SIZE,\n",
        "                                          shuffle=True, num_workers=2)\n",
        "test_loader = DataLoader(AlbumentationImageDataset(testset, train=False), batch_size=BATCH_SIZE,\n",
        "                                          shuffle=False, num_workers=1)"
      ],
      "execution_count": 9,
      "outputs": [
        {
          "output_type": "stream",
          "name": "stdout",
          "text": [
            "Files already downloaded and verified\n",
            "Files already downloaded and verified\n"
          ]
        }
      ]
    },
    {
      "cell_type": "markdown",
      "metadata": {
        "id": "IfnMWSXS4382"
      },
      "source": [
        "## Running Model\n"
      ]
    },
    {
      "cell_type": "code",
      "metadata": {
        "colab": {
          "base_uri": "https://localhost:8080/"
        },
        "id": "o6fBXM46464V",
        "outputId": "7bef023f-3ac2-442b-fb15-6f2402e1d0ab"
      },
      "source": [
        "use_cuda = torch.cuda.is_available()\n",
        "device = torch.device(\"cuda\" if use_cuda else \"cpu\")\n",
        "print(device)\n",
        "net = model.Net(dropout=0.025).to(device)\n",
        "summary(net, input_size=(3, 32, 32))"
      ],
      "execution_count": 11,
      "outputs": [
        {
          "output_type": "stream",
          "name": "stdout",
          "text": [
            "cuda\n",
            "----------------------------------------------------------------\n",
            "        Layer (type)               Output Shape         Param #\n",
            "================================================================\n",
            "            Conv2d-1           [-1, 32, 32, 32]             864\n",
            "       BatchNorm2d-2           [-1, 32, 32, 32]              64\n",
            "              ReLU-3           [-1, 32, 32, 32]               0\n",
            "           Dropout-4           [-1, 32, 32, 32]               0\n",
            "            Conv2d-5           [-1, 32, 32, 32]           9,216\n",
            "       BatchNorm2d-6           [-1, 32, 32, 32]              64\n",
            "              ReLU-7           [-1, 32, 32, 32]               0\n",
            "           Dropout-8           [-1, 32, 32, 32]               0\n",
            "            Conv2d-9           [-1, 32, 16, 16]           9,216\n",
            "      BatchNorm2d-10           [-1, 32, 16, 16]              64\n",
            "             ReLU-11           [-1, 32, 16, 16]               0\n",
            "          Dropout-12           [-1, 32, 16, 16]               0\n",
            "           Conv2d-13           [-1, 64, 16, 16]          18,432\n",
            "      BatchNorm2d-14           [-1, 64, 16, 16]             128\n",
            "             ReLU-15           [-1, 64, 16, 16]               0\n",
            "          Dropout-16           [-1, 64, 16, 16]               0\n",
            "           Conv2d-17             [-1, 64, 8, 8]             576\n",
            "           Conv2d-18             [-1, 64, 8, 8]           4,160\n",
            "      BatchNorm2d-19             [-1, 64, 8, 8]             128\n",
            "             ReLU-20             [-1, 64, 8, 8]               0\n",
            "          Dropout-21             [-1, 64, 8, 8]               0\n",
            "           Conv2d-22            [-1, 128, 8, 8]           1,152\n",
            "           Conv2d-23            [-1, 128, 8, 8]          16,512\n",
            "      BatchNorm2d-24            [-1, 128, 8, 8]             256\n",
            "             ReLU-25            [-1, 128, 8, 8]               0\n",
            "          Dropout-26            [-1, 128, 8, 8]               0\n",
            "           Conv2d-27             [-1, 32, 8, 8]           4,096\n",
            "      BatchNorm2d-28             [-1, 32, 8, 8]              64\n",
            "             ReLU-29             [-1, 32, 8, 8]               0\n",
            "          Dropout-30             [-1, 32, 8, 8]               0\n",
            "           Conv2d-31             [-1, 32, 6, 6]           9,216\n",
            "           Conv2d-32             [-1, 32, 4, 4]           9,216\n",
            "      BatchNorm2d-33             [-1, 32, 4, 4]              64\n",
            "             ReLU-34             [-1, 32, 4, 4]               0\n",
            "          Dropout-35             [-1, 32, 4, 4]               0\n",
            "           Conv2d-36             [-1, 32, 4, 4]           9,216\n",
            "             ReLU-37             [-1, 32, 4, 4]               0\n",
            "           Conv2d-38             [-1, 10, 4, 4]           2,880\n",
            "        AvgPool2d-39             [-1, 10, 1, 1]               0\n",
            "================================================================\n",
            "Total params: 95,584\n",
            "Trainable params: 95,584\n",
            "Non-trainable params: 0\n",
            "----------------------------------------------------------------\n",
            "Input size (MB): 0.01\n",
            "Forward/backward pass size (MB): 3.31\n",
            "Params size (MB): 0.36\n",
            "Estimated Total Size (MB): 3.69\n",
            "----------------------------------------------------------------\n"
          ]
        }
      ]
    },
    {
      "cell_type": "markdown",
      "metadata": {
        "id": "z2kUie6M6Iql"
      },
      "source": [
        "## Training"
      ]
    },
    {
      "cell_type": "code",
      "metadata": {
        "colab": {
          "base_uri": "https://localhost:8080/"
        },
        "id": "8l8YTYnDDxmd",
        "outputId": "c8655817-c7e5-4721-eac9-e66894d87b10"
      },
      "source": [
        "training_output_data = fit_model(net,hardware=device, epochs=2,train_loader=train_loader, test_loader=test_loader)"
      ],
      "execution_count": 12,
      "outputs": [
        {
          "output_type": "stream",
          "name": "stdout",
          "text": [
            "epoch: 1\n"
          ]
        },
        {
          "output_type": "stream",
          "name": "stderr",
          "text": [
            "Batch_id=195 Loss=2.07534 Accuracy=20.47: 100%|██████████| 196/196 [00:23<00:00,  8.17it/s]\n"
          ]
        },
        {
          "output_type": "stream",
          "name": "stdout",
          "text": [
            "\n",
            "Test set: Average loss: 1.7407, Accuracy: 3443/10000 (34.43%)\n",
            "\n",
            "epoch: 2\n"
          ]
        },
        {
          "output_type": "stream",
          "name": "stderr",
          "text": [
            "Batch_id=195 Loss=1.65695 Accuracy=38.39: 100%|██████████| 196/196 [00:24<00:00,  8.13it/s]\n"
          ]
        },
        {
          "output_type": "stream",
          "name": "stdout",
          "text": [
            "\n",
            "Test set: Average loss: 1.3381, Accuracy: 5054/10000 (50.54%)\n",
            "\n"
          ]
        }
      ]
    },
    {
      "cell_type": "code",
      "metadata": {
        "colab": {
          "base_uri": "https://localhost:8080/",
          "height": 451
        },
        "id": "qvIIDij7p8tb",
        "outputId": "87cd17f0-ec4f-4ca7-805f-7243e74d2963"
      },
      "source": [
        "print(training_output_data)\n",
        "train_accuracy = training_output_data[\"train_Acc\"]\n",
        "train_loss = training_output_data[\"train_Loss\"]\n",
        "\n",
        "test_accuracy = training_output_data[\"test_Acc\"]\n",
        "test_loss = training_output_data[\"test_Loss\"]\n",
        "\n",
        "plot_axis(train_loss=train_loss, test_loss=test_loss, train_accur = train_accuracy, test_accur=test_accuracy)"
      ],
      "execution_count": 13,
      "outputs": [
        {
          "output_type": "stream",
          "name": "stdout",
          "text": [
            "{'train_Acc': [20.468, 38.388], 'train_Loss': [2.075335297657519, 1.6569524687163684], 'test_Acc': [34.43, 50.54], 'test_Loss': [1.7406849533081055, 1.338054371070862]}\n"
          ]
        },
        {
          "output_type": "display_data",
          "data": {
            "image/png": "[encoded data removed]",
            "text/plain": [
              "<Figure size 1296x576 with 2 Axes>"
            ]
          },
          "metadata": {
            "needs_background": "light"
          }
        }
      ]
    }
  ]
}