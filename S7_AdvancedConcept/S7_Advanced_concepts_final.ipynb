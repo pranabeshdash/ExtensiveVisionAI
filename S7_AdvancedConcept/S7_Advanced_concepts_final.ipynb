{
  "nbformat": 4,
  "nbformat_minor": 0,
  "metadata": {
    "accelerator": "GPU",
    "colab": {
      "name": "S7_Advanced_concepts_ver3.ipynb",
      "provenance": [],
      "collapsed_sections": []
    },
    "kernelspec": {
      "display_name": "Python 3 (ipykernel)",
      "language": "python",
      "name": "python3"
    },
    "language_info": {
      "codemirror_mode": {
        "name": "ipython",
        "version": 3
      },
      "file_extension": ".py",
      "mimetype": "text/x-python",
      "name": "python",
      "nbconvert_exporter": "python",
      "pygments_lexer": "ipython3",
      "version": "3.7.10"
    }
  },
  "cells": [
    {
      "cell_type": "code",
      "metadata": {
        "id": "XMQiodzXwQz0"
      },
      "source": [
        "# from google.colab import drive\n",
        "# drive.mount('/content/drive')"
      ],
      "execution_count": null,
      "outputs": []
    },
    {
      "cell_type": "code",
      "metadata": {
        "colab": {
          "base_uri": "https://localhost:8080/"
        },
        "id": "83xYpt6HxfWT",
        "outputId": "fb33962f-bbc8-4d57-a153-54a579ee088a"
      },
      "source": [
        "!pip install --upgrade albumentations"
      ],
      "execution_count": null,
      "outputs": [
        {
          "name": "stdout",
          "output_type": "stream",
          "text": [
            "Requirement already satisfied: albumentations in /home/dash/anaconda3/envs/pytorch/lib/python3.7/site-packages (1.1.0)\n",
            "Requirement already satisfied: opencv-python-headless>=4.1.1 in /home/dash/anaconda3/envs/pytorch/lib/python3.7/site-packages (from albumentations) (4.5.4.58)\n",
            "Requirement already satisfied: scikit-image>=0.16.1 in /home/dash/anaconda3/envs/pytorch/lib/python3.7/site-packages (from albumentations) (0.18.1)\n",
            "Requirement already satisfied: PyYAML in /home/dash/.local/lib/python3.7/site-packages (from albumentations) (5.4.1)\n",
            "Requirement already satisfied: scipy in /home/dash/anaconda3/envs/pytorch/lib/python3.7/site-packages (from albumentations) (1.4.1)\n",
            "Requirement already satisfied: numpy>=1.11.1 in /home/dash/anaconda3/envs/pytorch/lib/python3.7/site-packages (from albumentations) (1.21.2)\n",
            "Requirement already satisfied: qudida>=0.0.4 in /home/dash/anaconda3/envs/pytorch/lib/python3.7/site-packages (from albumentations) (0.0.4)\n",
            "Requirement already satisfied: typing-extensions in /home/dash/anaconda3/envs/pytorch/lib/python3.7/site-packages (from qudida>=0.0.4->albumentations) (3.10.0.2)\n",
            "Requirement already satisfied: scikit-learn>=0.19.1 in /home/dash/anaconda3/envs/pytorch/lib/python3.7/site-packages (from qudida>=0.0.4->albumentations) (1.0.1)\n",
            "Requirement already satisfied: tifffile>=2019.7.26 in /home/dash/anaconda3/envs/pytorch/lib/python3.7/site-packages (from scikit-image>=0.16.1->albumentations) (2021.6.6)\n",
            "Requirement already satisfied: pillow!=7.1.0,!=7.1.1,>=4.3.0 in /home/dash/.local/lib/python3.7/site-packages (from scikit-image>=0.16.1->albumentations) (8.4.0)\n",
            "Requirement already satisfied: PyWavelets>=1.1.1 in /home/dash/anaconda3/envs/pytorch/lib/python3.7/site-packages (from scikit-image>=0.16.1->albumentations) (1.1.1)\n",
            "Requirement already satisfied: imageio>=2.3.0 in /home/dash/anaconda3/envs/pytorch/lib/python3.7/site-packages (from scikit-image>=0.16.1->albumentations) (2.9.0)\n",
            "Requirement already satisfied: matplotlib!=3.0.0,>=2.0.0 in /home/dash/anaconda3/envs/pytorch/lib/python3.7/site-packages (from scikit-image>=0.16.1->albumentations) (3.4.2)\n",
            "Requirement already satisfied: networkx>=2.0 in /home/dash/anaconda3/envs/pytorch/lib/python3.7/site-packages (from scikit-image>=0.16.1->albumentations) (2.5.1)\n",
            "Requirement already satisfied: python-dateutil>=2.7 in /home/dash/anaconda3/envs/pytorch/lib/python3.7/site-packages (from matplotlib!=3.0.0,>=2.0.0->scikit-image>=0.16.1->albumentations) (2.8.2)\n",
            "Requirement already satisfied: cycler>=0.10 in /home/dash/anaconda3/envs/pytorch/lib/python3.7/site-packages (from matplotlib!=3.0.0,>=2.0.0->scikit-image>=0.16.1->albumentations) (0.10.0)\n",
            "Requirement already satisfied: pyparsing>=2.2.1 in /home/dash/anaconda3/envs/pytorch/lib/python3.7/site-packages (from matplotlib!=3.0.0,>=2.0.0->scikit-image>=0.16.1->albumentations) (3.0.4)\n",
            "Requirement already satisfied: kiwisolver>=1.0.1 in /home/dash/anaconda3/envs/pytorch/lib/python3.7/site-packages (from matplotlib!=3.0.0,>=2.0.0->scikit-image>=0.16.1->albumentations) (1.3.1)\n",
            "Requirement already satisfied: six in /home/dash/.local/lib/python3.7/site-packages (from cycler>=0.10->matplotlib!=3.0.0,>=2.0.0->scikit-image>=0.16.1->albumentations) (1.16.0)\n",
            "Requirement already satisfied: decorator<5,>=4.3 in /home/dash/anaconda3/envs/pytorch/lib/python3.7/site-packages (from networkx>=2.0->scikit-image>=0.16.1->albumentations) (4.4.2)\n",
            "Requirement already satisfied: joblib>=0.11 in /home/dash/anaconda3/envs/pytorch/lib/python3.7/site-packages (from scikit-learn>=0.19.1->qudida>=0.0.4->albumentations) (1.1.0)\n",
            "Requirement already satisfied: threadpoolctl>=2.0.0 in /home/dash/anaconda3/envs/pytorch/lib/python3.7/site-packages (from scikit-learn>=0.19.1->qudida>=0.0.4->albumentations) (3.0.0)\n"
          ]
        }
      ]
    },
    {
      "cell_type": "code",
      "metadata": {
        "id": "dVmeUOIfYfuA",
        "outputId": "7b9219c6-f74e-4388-ab42-3afa28e5057c"
      },
      "source": [
        "!pip install torchsummary\n",
        "!pip install tqdm\n",
        "!pip install seaborn"
      ],
      "execution_count": null,
      "outputs": [
        {
          "name": "stdout",
          "output_type": "stream",
          "text": [
            "Requirement already satisfied: torchsummary in /home/dash/anaconda3/envs/pytorch/lib/python3.7/site-packages (1.5.1)\n",
            "Requirement already satisfied: tqdm in /home/dash/anaconda3/envs/pytorch/lib/python3.7/site-packages (4.62.3)\n",
            "Requirement already satisfied: seaborn in /home/dash/anaconda3/envs/pytorch/lib/python3.7/site-packages (0.11.2)\n",
            "Requirement already satisfied: pandas>=0.23 in /home/dash/anaconda3/envs/pytorch/lib/python3.7/site-packages (from seaborn) (1.3.4)\n",
            "Requirement already satisfied: scipy>=1.0 in /home/dash/anaconda3/envs/pytorch/lib/python3.7/site-packages (from seaborn) (1.4.1)\n",
            "Requirement already satisfied: matplotlib>=2.2 in /home/dash/anaconda3/envs/pytorch/lib/python3.7/site-packages (from seaborn) (3.4.2)\n",
            "Requirement already satisfied: numpy>=1.15 in /home/dash/anaconda3/envs/pytorch/lib/python3.7/site-packages (from seaborn) (1.21.2)\n",
            "Requirement already satisfied: pyparsing>=2.2.1 in /home/dash/anaconda3/envs/pytorch/lib/python3.7/site-packages (from matplotlib>=2.2->seaborn) (3.0.4)\n",
            "Requirement already satisfied: pillow>=6.2.0 in /home/dash/.local/lib/python3.7/site-packages (from matplotlib>=2.2->seaborn) (8.4.0)\n",
            "Requirement already satisfied: kiwisolver>=1.0.1 in /home/dash/anaconda3/envs/pytorch/lib/python3.7/site-packages (from matplotlib>=2.2->seaborn) (1.3.1)\n",
            "Requirement already satisfied: python-dateutil>=2.7 in /home/dash/anaconda3/envs/pytorch/lib/python3.7/site-packages (from matplotlib>=2.2->seaborn) (2.8.2)\n",
            "Requirement already satisfied: cycler>=0.10 in /home/dash/anaconda3/envs/pytorch/lib/python3.7/site-packages (from matplotlib>=2.2->seaborn) (0.10.0)\n",
            "Requirement already satisfied: six in /home/dash/.local/lib/python3.7/site-packages (from cycler>=0.10->matplotlib>=2.2->seaborn) (1.16.0)\n",
            "Requirement already satisfied: pytz>=2017.3 in /home/dash/anaconda3/envs/pytorch/lib/python3.7/site-packages (from pandas>=0.23->seaborn) (2021.3)\n"
          ]
        }
      ]
    },
    {
      "cell_type": "code",
      "metadata": {
        "colab": {
          "base_uri": "https://localhost:8080/"
        },
        "id": "OU20_85FyHHk",
        "outputId": "22d3db7d-0373-4e9e-ad61-7bfa629cb8b4"
      },
      "source": [
        "%cd /content/drive/MyDrive/EVA7/S7"
      ],
      "execution_count": null,
      "outputs": [
        {
          "name": "stdout",
          "output_type": "stream",
          "text": [
            "/content/drive/MyDrive/EVA7/S7\n"
          ]
        }
      ]
    },
    {
      "cell_type": "markdown",
      "metadata": {
        "id": "aJgDu5k8y683"
      },
      "source": [
        "## Importing the python Modules"
      ]
    },
    {
      "cell_type": "code",
      "metadata": {
        "id": "sxhXZu7ixi6M"
      },
      "source": [
        "import torch\n",
        "from torchsummary import summary\n",
        "from torch.utils.data import Dataset, DataLoader\n",
        "import torch.optim as optim\n",
        "\n",
        "import torchvision\n",
        "from torchvision import datasets, transforms\n",
        "from tqdm import tqdm\n",
        "\n",
        "from model import model\n",
        "from utils.test import test\n",
        "from utils.train import train\n",
        "from utils.plot_images import *\n",
        "from utils.fitmodel import fit_model\n",
        "\n",
        "\n",
        "from utils.AlbumentationImageDataset import AlbumentationImageDataset\n",
        "\n",
        "import matplotlib.pyplot as plt\n",
        "import numpy as np\n",
        "\n",
        "\n"
      ],
      "execution_count": null,
      "outputs": []
    },
    {
      "cell_type": "markdown",
      "metadata": {
        "id": "rM-UoTcFzBmV"
      },
      "source": [
        "## Loading the dataset"
      ]
    },
    {
      "cell_type": "code",
      "metadata": {
        "colab": {
          "base_uri": "https://localhost:8080/"
        },
        "id": "4jIzCRH4zEAF",
        "outputId": "5ab040c2-3267-4523-bb25-57399da48147"
      },
      "source": [
        "# loading the dataset\n",
        "cifar_10_database = datasets.CIFAR10('./data', train=True, download=True)\n",
        "cifar_10_data = cifar_10_database.data\n",
        "\n",
        "# Calculate the mean and std for normalization\n",
        "print('[Train]')\n",
        "print(' - Shape:', cifar_10_data.shape)\n",
        "print(' - mean:', np.mean(cifar_10_data, axis=(0,1,2)) / 255.)\n",
        "print(' - std:', np.std(cifar_10_data, axis=(0,1,2)) / 255.)\n",
        "\n",
        "train_mean  = list(np.mean(cifar_10_data, axis=(0,1,2)) / 255.)\n",
        "train_std = list(np.std(cifar_10_data, axis=(0,1,2)) / 255.)\n"
      ],
      "execution_count": null,
      "outputs": [
        {
          "name": "stdout",
          "output_type": "stream",
          "text": [
            "Downloading https://www.cs.toronto.edu/~kriz/cifar-10-python.tar.gz to ./data/cifar-10-python.tar.gz\n"
          ]
        },
        {
          "name": "stderr",
          "output_type": "stream",
          "text": [
            "1.8%IOPub message rate exceeded.\n",
            "The notebook server will temporarily stop sending output\n",
            "to the client in order to avoid crashing it.\n",
            "To change this limit, set the config variable\n",
            "`--NotebookApp.iopub_msg_rate_limit`.\n",
            "\n",
            "Current values:\n",
            "NotebookApp.iopub_msg_rate_limit=1000.0 (msgs/sec)\n",
            "NotebookApp.rate_limit_window=3.0 (secs)\n",
            "\n",
            "5.6%IOPub message rate exceeded.\n",
            "The notebook server will temporarily stop sending output\n",
            "to the client in order to avoid crashing it.\n",
            "To change this limit, set the config variable\n",
            "`--NotebookApp.iopub_msg_rate_limit`.\n",
            "\n",
            "Current values:\n",
            "NotebookApp.iopub_msg_rate_limit=1000.0 (msgs/sec)\n",
            "NotebookApp.rate_limit_window=3.0 (secs)\n",
            "\n",
            "10.8%IOPub message rate exceeded.\n",
            "The notebook server will temporarily stop sending output\n",
            "to the client in order to avoid crashing it.\n",
            "To change this limit, set the config variable\n",
            "`--NotebookApp.iopub_msg_rate_limit`.\n",
            "\n",
            "Current values:\n",
            "NotebookApp.iopub_msg_rate_limit=1000.0 (msgs/sec)\n",
            "NotebookApp.rate_limit_window=3.0 (secs)\n",
            "\n",
            "14.9%IOPub message rate exceeded.\n",
            "The notebook server will temporarily stop sending output\n",
            "to the client in order to avoid crashing it.\n",
            "To change this limit, set the config variable\n",
            "`--NotebookApp.iopub_msg_rate_limit`.\n",
            "\n",
            "Current values:\n",
            "NotebookApp.iopub_msg_rate_limit=1000.0 (msgs/sec)\n",
            "NotebookApp.rate_limit_window=3.0 (secs)\n",
            "\n",
            "18.9%IOPub message rate exceeded.\n",
            "The notebook server will temporarily stop sending output\n",
            "to the client in order to avoid crashing it.\n",
            "To change this limit, set the config variable\n",
            "`--NotebookApp.iopub_msg_rate_limit`.\n",
            "\n",
            "Current values:\n",
            "NotebookApp.iopub_msg_rate_limit=1000.0 (msgs/sec)\n",
            "NotebookApp.rate_limit_window=3.0 (secs)\n",
            "\n",
            "23.0%IOPub message rate exceeded.\n",
            "The notebook server will temporarily stop sending output\n",
            "to the client in order to avoid crashing it.\n",
            "To change this limit, set the config variable\n",
            "`--NotebookApp.iopub_msg_rate_limit`.\n",
            "\n",
            "Current values:\n",
            "NotebookApp.iopub_msg_rate_limit=1000.0 (msgs/sec)\n",
            "NotebookApp.rate_limit_window=3.0 (secs)\n",
            "\n",
            "30.6%IOPub message rate exceeded.\n",
            "The notebook server will temporarily stop sending output\n",
            "to the client in order to avoid crashing it.\n",
            "To change this limit, set the config variable\n",
            "`--NotebookApp.iopub_msg_rate_limit`.\n",
            "\n",
            "Current values:\n",
            "NotebookApp.iopub_msg_rate_limit=1000.0 (msgs/sec)\n",
            "NotebookApp.rate_limit_window=3.0 (secs)\n",
            "\n",
            "38.6%IOPub message rate exceeded.\n",
            "The notebook server will temporarily stop sending output\n",
            "to the client in order to avoid crashing it.\n",
            "To change this limit, set the config variable\n",
            "`--NotebookApp.iopub_msg_rate_limit`.\n",
            "\n",
            "Current values:\n",
            "NotebookApp.iopub_msg_rate_limit=1000.0 (msgs/sec)\n",
            "NotebookApp.rate_limit_window=3.0 (secs)\n",
            "\n",
            "46.3%IOPub message rate exceeded.\n",
            "The notebook server will temporarily stop sending output\n",
            "to the client in order to avoid crashing it.\n",
            "To change this limit, set the config variable\n",
            "`--NotebookApp.iopub_msg_rate_limit`.\n",
            "\n",
            "Current values:\n",
            "NotebookApp.iopub_msg_rate_limit=1000.0 (msgs/sec)\n",
            "NotebookApp.rate_limit_window=3.0 (secs)\n",
            "\n",
            "53.6%IOPub message rate exceeded.\n",
            "The notebook server will temporarily stop sending output\n",
            "to the client in order to avoid crashing it.\n",
            "To change this limit, set the config variable\n",
            "`--NotebookApp.iopub_msg_rate_limit`.\n",
            "\n",
            "Current values:\n",
            "NotebookApp.iopub_msg_rate_limit=1000.0 (msgs/sec)\n",
            "NotebookApp.rate_limit_window=3.0 (secs)\n",
            "\n",
            "63.4%IOPub message rate exceeded.\n",
            "The notebook server will temporarily stop sending output\n",
            "to the client in order to avoid crashing it.\n",
            "To change this limit, set the config variable\n",
            "`--NotebookApp.iopub_msg_rate_limit`.\n",
            "\n",
            "Current values:\n",
            "NotebookApp.iopub_msg_rate_limit=1000.0 (msgs/sec)\n",
            "NotebookApp.rate_limit_window=3.0 (secs)\n",
            "\n",
            "71.1%IOPub message rate exceeded.\n",
            "The notebook server will temporarily stop sending output\n",
            "to the client in order to avoid crashing it.\n",
            "To change this limit, set the config variable\n",
            "`--NotebookApp.iopub_msg_rate_limit`.\n",
            "\n",
            "Current values:\n",
            "NotebookApp.iopub_msg_rate_limit=1000.0 (msgs/sec)\n",
            "NotebookApp.rate_limit_window=3.0 (secs)\n",
            "\n",
            "78.3%IOPub message rate exceeded.\n",
            "The notebook server will temporarily stop sending output\n",
            "to the client in order to avoid crashing it.\n",
            "To change this limit, set the config variable\n",
            "`--NotebookApp.iopub_msg_rate_limit`.\n",
            "\n",
            "Current values:\n",
            "NotebookApp.iopub_msg_rate_limit=1000.0 (msgs/sec)\n",
            "NotebookApp.rate_limit_window=3.0 (secs)\n",
            "\n",
            "84.9%IOPub message rate exceeded.\n",
            "The notebook server will temporarily stop sending output\n",
            "to the client in order to avoid crashing it.\n",
            "To change this limit, set the config variable\n",
            "`--NotebookApp.iopub_msg_rate_limit`.\n",
            "\n",
            "Current values:\n",
            "NotebookApp.iopub_msg_rate_limit=1000.0 (msgs/sec)\n",
            "NotebookApp.rate_limit_window=3.0 (secs)\n",
            "\n",
            "92.2%IOPub message rate exceeded.\n",
            "The notebook server will temporarily stop sending output\n",
            "to the client in order to avoid crashing it.\n",
            "To change this limit, set the config variable\n",
            "`--NotebookApp.iopub_msg_rate_limit`.\n",
            "\n",
            "Current values:\n",
            "NotebookApp.iopub_msg_rate_limit=1000.0 (msgs/sec)\n",
            "NotebookApp.rate_limit_window=3.0 (secs)\n",
            "\n",
            "100.0%\n"
          ]
        },
        {
          "name": "stdout",
          "output_type": "stream",
          "text": [
            "Extracting ./data/cifar-10-python.tar.gz to ./data\n",
            "[Train]\n",
            " - Shape: (50000, 32, 32, 3)\n",
            " - mean: [0.49139968 0.48215841 0.44653091]\n",
            " - std: [0.24703223 0.24348513 0.26158784]\n"
          ]
        }
      ]
    },
    {
      "cell_type": "markdown",
      "metadata": {
        "id": "rXBGRD0Rz5P1"
      },
      "source": [
        "## Plotting few images in dataset\n"
      ]
    },
    {
      "cell_type": "code",
      "metadata": {
        "id": "fnF32csaz_ck"
      },
      "source": [
        "def plot_data(data = None,cols=8, rows=4):\n",
        "  figure = plt.figure(figsize=(14, 10))\n",
        "  for i in range(1, cols * rows + 1):\n",
        "    img, label = data[i]\n",
        "\n",
        "    figure.add_subplot(rows, cols, i)\n",
        "    plt.title(data.classes[label])\n",
        "    plt.axis(\"off\")\n",
        "    plt.imshow(img, cmap=\"gray\")\n",
        "\n",
        "  plt.tight_layout()\n",
        "  plt.show()"
      ],
      "execution_count": null,
      "outputs": []
    },
    {
      "cell_type": "code",
      "metadata": {
        "id": "p8yX1hMRYfuS"
      },
      "source": [
        "#plot_data(cifar_10_database)"
      ],
      "execution_count": null,
      "outputs": []
    },
    {
      "cell_type": "markdown",
      "metadata": {
        "id": "1PLxd1CH4DPm"
      },
      "source": [
        "## Run in CUDA\n"
      ]
    },
    {
      "cell_type": "code",
      "metadata": {
        "colab": {
          "base_uri": "https://localhost:8080/"
        },
        "id": "WTLD-aZT4Gk3",
        "outputId": "91faf077-5fe5-4e8a-cc58-73de7f987fac"
      },
      "source": [
        "SEED = 1\n",
        "\n",
        "# CUDA?\n",
        "cuda = torch.cuda.is_available()\n",
        "print(\"CUDA Available:\", cuda)\n",
        "\n",
        "# For reproducibility\n",
        "torch.manual_seed(SEED)\n",
        "\n",
        "if cuda:\n",
        "    torch.cuda.manual_seed(SEED)\n",
        "    BATCH_SIZE=256\n",
        "else:\n",
        "    BATCH_SIZE=256"
      ],
      "execution_count": null,
      "outputs": [
        {
          "name": "stdout",
          "output_type": "stream",
          "text": [
            "CUDA Available: True\n"
          ]
        }
      ]
    },
    {
      "cell_type": "markdown",
      "metadata": {
        "id": "0OmE4qwU0suA"
      },
      "source": [
        "## Data Agumentation using albumentations"
      ]
    },
    {
      "cell_type": "code",
      "metadata": {
        "colab": {
          "base_uri": "https://localhost:8080/"
        },
        "id": "6LTjeZkW0r0c",
        "outputId": "f7b1a660-b22f-4a12-c6eb-58291ed9bd14"
      },
      "source": [
        "trainset = torchvision.datasets.CIFAR10(root='./data', train=True,\n",
        "                                        download=True )\n",
        "testset = torchvision.datasets.CIFAR10(root='./data', train=False,\n",
        "                                       download=True)\n",
        "\n",
        "\n",
        "train_loader = DataLoader(AlbumentationImageDataset(trainset, train=True), batch_size=BATCH_SIZE,\n",
        "                                          shuffle=True, num_workers=2)\n",
        "test_loader = DataLoader(AlbumentationImageDataset(testset, train=False), batch_size=BATCH_SIZE,\n",
        "                                          shuffle=False, num_workers=1)"
      ],
      "execution_count": null,
      "outputs": [
        {
          "name": "stdout",
          "output_type": "stream",
          "text": [
            "Files already downloaded and verified\n",
            "Files already downloaded and verified\n"
          ]
        }
      ]
    },
    {
      "cell_type": "markdown",
      "metadata": {
        "id": "IfnMWSXS4382"
      },
      "source": [
        "## Running Model\n"
      ]
    },
    {
      "cell_type": "code",
      "metadata": {
        "colab": {
          "base_uri": "https://localhost:8080/"
        },
        "id": "o6fBXM46464V",
        "outputId": "7bef023f-3ac2-442b-fb15-6f2402e1d0ab"
      },
      "source": [
        "use_cuda = torch.cuda.is_available()\n",
        "device = torch.device(\"cuda\" if use_cuda else \"cpu\")\n",
        "print(device)\n",
        "net = model.Net(dropout=0.025).to(device)\n",
        "summary(net, input_size=(3, 32, 32))"
      ],
      "execution_count": null,
      "outputs": [
        {
          "name": "stdout",
          "output_type": "stream",
          "text": [
            "cuda\n",
            "----------------------------------------------------------------\n",
            "        Layer (type)               Output Shape         Param #\n",
            "================================================================\n",
            "            Conv2d-1           [-1, 32, 32, 32]             864\n",
            "       BatchNorm2d-2           [-1, 32, 32, 32]              64\n",
            "              ReLU-3           [-1, 32, 32, 32]               0\n",
            "           Dropout-4           [-1, 32, 32, 32]               0\n",
            "            Conv2d-5           [-1, 32, 32, 32]           9,216\n",
            "       BatchNorm2d-6           [-1, 32, 32, 32]              64\n",
            "              ReLU-7           [-1, 32, 32, 32]               0\n",
            "           Dropout-8           [-1, 32, 32, 32]               0\n",
            "            Conv2d-9           [-1, 32, 16, 16]           9,216\n",
            "      BatchNorm2d-10           [-1, 32, 16, 16]              64\n",
            "             ReLU-11           [-1, 32, 16, 16]               0\n",
            "          Dropout-12           [-1, 32, 16, 16]               0\n",
            "           Conv2d-13           [-1, 64, 16, 16]          18,432\n",
            "      BatchNorm2d-14           [-1, 64, 16, 16]             128\n",
            "             ReLU-15           [-1, 64, 16, 16]               0\n",
            "          Dropout-16           [-1, 64, 16, 16]               0\n",
            "           Conv2d-17             [-1, 64, 8, 8]             576\n",
            "           Conv2d-18             [-1, 64, 8, 8]           4,160\n",
            "      BatchNorm2d-19             [-1, 64, 8, 8]             128\n",
            "             ReLU-20             [-1, 64, 8, 8]               0\n",
            "          Dropout-21             [-1, 64, 8, 8]               0\n",
            "           Conv2d-22            [-1, 128, 8, 8]           1,152\n",
            "           Conv2d-23            [-1, 128, 8, 8]          16,512\n",
            "      BatchNorm2d-24            [-1, 128, 8, 8]             256\n",
            "             ReLU-25            [-1, 128, 8, 8]               0\n",
            "          Dropout-26            [-1, 128, 8, 8]               0\n",
            "           Conv2d-27             [-1, 32, 8, 8]           4,096\n",
            "      BatchNorm2d-28             [-1, 32, 8, 8]              64\n",
            "             ReLU-29             [-1, 32, 8, 8]               0\n",
            "          Dropout-30             [-1, 32, 8, 8]               0\n",
            "           Conv2d-31             [-1, 32, 6, 6]           9,216\n",
            "           Conv2d-32             [-1, 32, 4, 4]           9,216\n",
            "      BatchNorm2d-33             [-1, 32, 4, 4]              64\n",
            "             ReLU-34             [-1, 32, 4, 4]               0\n",
            "          Dropout-35             [-1, 32, 4, 4]               0\n",
            "           Conv2d-36             [-1, 32, 4, 4]           9,216\n",
            "             ReLU-37             [-1, 32, 4, 4]               0\n",
            "           Conv2d-38             [-1, 10, 4, 4]           2,880\n",
            "        AvgPool2d-39             [-1, 10, 1, 1]               0\n",
            "================================================================\n",
            "Total params: 95,584\n",
            "Trainable params: 95,584\n",
            "Non-trainable params: 0\n",
            "----------------------------------------------------------------\n",
            "Input size (MB): 0.01\n",
            "Forward/backward pass size (MB): 3.31\n",
            "Params size (MB): 0.36\n",
            "Estimated Total Size (MB): 3.69\n",
            "----------------------------------------------------------------\n"
          ]
        }
      ]
    },
    {
      "cell_type": "markdown",
      "metadata": {
        "id": "z2kUie6M6Iql"
      },
      "source": [
        "## Training"
      ]
    },
    {
      "cell_type": "code",
      "metadata": {
        "colab": {
          "base_uri": "https://localhost:8080/"
        },
        "id": "8l8YTYnDDxmd",
        "outputId": "c8655817-c7e5-4721-eac9-e66894d87b10"
      },
      "source": [
        "training_output_data = fit_model(net,hardware=device, epochs=80,train_loader=train_loader, test_loader=test_loader)"
      ],
      "execution_count": null,
      "outputs": [
        {
          "name": "stdout",
          "output_type": "stream",
          "text": [
            "epoch: 1\n"
          ]
        },
        {
          "name": "stderr",
          "output_type": "stream",
          "text": [
            "Batch_id=195 Loss=0.70129 Accuracy=75.30: 100%|████████████████████████████████████████████████| 196/196 [00:04<00:00, 42.37it/s]\n"
          ]
        },
        {
          "name": "stdout",
          "output_type": "stream",
          "text": [
            "\n",
            "Test set: Average loss: 0.4484, Accuracy: 8442/10000 (84.42%)\n",
            "\n",
            "epoch: 2\n"
          ]
        },
        {
          "name": "stderr",
          "output_type": "stream",
          "text": [
            "Batch_id=195 Loss=0.69967 Accuracy=75.51: 100%|████████████████████████████████████████████████| 196/196 [00:04<00:00, 42.65it/s]\n"
          ]
        },
        {
          "name": "stdout",
          "output_type": "stream",
          "text": [
            "\n",
            "Test set: Average loss: 0.4534, Accuracy: 8427/10000 (84.27%)\n",
            "\n",
            "epoch: 3\n"
          ]
        },
        {
          "name": "stderr",
          "output_type": "stream",
          "text": [
            "Batch_id=195 Loss=0.70416 Accuracy=75.35: 100%|████████████████████████████████████████████████| 196/196 [00:04<00:00, 42.98it/s]\n"
          ]
        },
        {
          "name": "stdout",
          "output_type": "stream",
          "text": [
            "\n",
            "Test set: Average loss: 0.4506, Accuracy: 8435/10000 (84.35%)\n",
            "\n",
            "epoch: 4\n"
          ]
        },
        {
          "name": "stderr",
          "output_type": "stream",
          "text": [
            "Batch_id=195 Loss=0.71344 Accuracy=75.04: 100%|████████████████████████████████████████████████| 196/196 [00:04<00:00, 43.21it/s]\n"
          ]
        },
        {
          "name": "stdout",
          "output_type": "stream",
          "text": [
            "\n",
            "Test set: Average loss: 0.4667, Accuracy: 8404/10000 (84.04%)\n",
            "\n",
            "epoch: 5\n"
          ]
        },
        {
          "name": "stderr",
          "output_type": "stream",
          "text": [
            "Batch_id=195 Loss=0.71510 Accuracy=74.93: 100%|████████████████████████████████████████████████| 196/196 [00:04<00:00, 43.93it/s]\n"
          ]
        },
        {
          "name": "stdout",
          "output_type": "stream",
          "text": [
            "\n",
            "Test set: Average loss: 0.4722, Accuracy: 8383/10000 (83.83%)\n",
            "\n",
            "epoch: 6\n"
          ]
        },
        {
          "name": "stderr",
          "output_type": "stream",
          "text": [
            "Batch_id=195 Loss=0.71839 Accuracy=74.94: 100%|████████████████████████████████████████████████| 196/196 [00:04<00:00, 43.75it/s]\n"
          ]
        },
        {
          "name": "stdout",
          "output_type": "stream",
          "text": [
            "\n",
            "Test set: Average loss: 0.4641, Accuracy: 8398/10000 (83.98%)\n",
            "\n",
            "epoch: 7\n"
          ]
        },
        {
          "name": "stderr",
          "output_type": "stream",
          "text": [
            "Batch_id=195 Loss=0.72170 Accuracy=74.55: 100%|████████████████████████████████████████████████| 196/196 [00:04<00:00, 44.21it/s]\n"
          ]
        },
        {
          "name": "stdout",
          "output_type": "stream",
          "text": [
            "\n",
            "Test set: Average loss: 0.4856, Accuracy: 8329/10000 (83.29%)\n",
            "\n",
            "epoch: 8\n"
          ]
        },
        {
          "name": "stderr",
          "output_type": "stream",
          "text": [
            "Batch_id=195 Loss=0.73369 Accuracy=74.35: 100%|████████████████████████████████████████████████| 196/196 [00:04<00:00, 43.73it/s]\n"
          ]
        },
        {
          "name": "stdout",
          "output_type": "stream",
          "text": [
            "\n",
            "Test set: Average loss: 0.4906, Accuracy: 8314/10000 (83.14%)\n",
            "\n",
            "epoch: 9\n"
          ]
        },
        {
          "name": "stderr",
          "output_type": "stream",
          "text": [
            "Batch_id=195 Loss=0.73073 Accuracy=74.49: 100%|████████████████████████████████████████████████| 196/196 [00:04<00:00, 42.88it/s]\n"
          ]
        },
        {
          "name": "stdout",
          "output_type": "stream",
          "text": [
            "\n",
            "Test set: Average loss: 0.4775, Accuracy: 8356/10000 (83.56%)\n",
            "\n",
            "epoch: 10\n"
          ]
        },
        {
          "name": "stderr",
          "output_type": "stream",
          "text": [
            "Batch_id=195 Loss=0.73386 Accuracy=74.22: 100%|████████████████████████████████████████████████| 196/196 [00:04<00:00, 43.82it/s]\n"
          ]
        },
        {
          "name": "stdout",
          "output_type": "stream",
          "text": [
            "\n",
            "Test set: Average loss: 0.4992, Accuracy: 8256/10000 (82.56%)\n",
            "\n",
            "epoch: 11\n"
          ]
        },
        {
          "name": "stderr",
          "output_type": "stream",
          "text": [
            "Batch_id=195 Loss=0.74234 Accuracy=74.02: 100%|████████████████████████████████████████████████| 196/196 [00:04<00:00, 43.36it/s]\n"
          ]
        },
        {
          "name": "stdout",
          "output_type": "stream",
          "text": [
            "\n",
            "Test set: Average loss: 0.4994, Accuracy: 8323/10000 (83.23%)\n",
            "\n",
            "epoch: 12\n"
          ]
        },
        {
          "name": "stderr",
          "output_type": "stream",
          "text": [
            "Batch_id=195 Loss=0.73894 Accuracy=74.19: 100%|████████████████████████████████████████████████| 196/196 [00:04<00:00, 43.59it/s]\n"
          ]
        },
        {
          "name": "stdout",
          "output_type": "stream",
          "text": [
            "\n",
            "Test set: Average loss: 0.4987, Accuracy: 8298/10000 (82.98%)\n",
            "\n",
            "epoch: 13\n"
          ]
        },
        {
          "name": "stderr",
          "output_type": "stream",
          "text": [
            "Batch_id=195 Loss=0.73918 Accuracy=73.92: 100%|████████████████████████████████████████████████| 196/196 [00:04<00:00, 43.31it/s]\n"
          ]
        },
        {
          "name": "stdout",
          "output_type": "stream",
          "text": [
            "\n",
            "Test set: Average loss: 0.5025, Accuracy: 8303/10000 (83.03%)\n",
            "\n",
            "epoch: 14\n"
          ]
        },
        {
          "name": "stderr",
          "output_type": "stream",
          "text": [
            "Batch_id=195 Loss=0.74164 Accuracy=73.95: 100%|████████████████████████████████████████████████| 196/196 [00:04<00:00, 43.30it/s]\n"
          ]
        },
        {
          "name": "stdout",
          "output_type": "stream",
          "text": [
            "\n",
            "Test set: Average loss: 0.4998, Accuracy: 8295/10000 (82.95%)\n",
            "\n",
            "epoch: 15\n"
          ]
        },
        {
          "name": "stderr",
          "output_type": "stream",
          "text": [
            "Batch_id=195 Loss=0.73669 Accuracy=74.18: 100%|████████████████████████████████████████████████| 196/196 [00:04<00:00, 43.62it/s]\n"
          ]
        },
        {
          "name": "stdout",
          "output_type": "stream",
          "text": [
            "\n",
            "Test set: Average loss: 0.5579, Accuracy: 8133/10000 (81.33%)\n",
            "\n",
            "epoch: 16\n"
          ]
        },
        {
          "name": "stderr",
          "output_type": "stream",
          "text": [
            "Batch_id=195 Loss=0.75308 Accuracy=73.58: 100%|████████████████████████████████████████████████| 196/196 [00:04<00:00, 43.63it/s]\n"
          ]
        },
        {
          "name": "stdout",
          "output_type": "stream",
          "text": [
            "\n",
            "Test set: Average loss: 0.5051, Accuracy: 8284/10000 (82.84%)\n",
            "\n",
            "epoch: 17\n"
          ]
        },
        {
          "name": "stderr",
          "output_type": "stream",
          "text": [
            "Batch_id=195 Loss=0.75125 Accuracy=73.75: 100%|████████████████████████████████████████████████| 196/196 [00:04<00:00, 43.18it/s]\n"
          ]
        },
        {
          "name": "stdout",
          "output_type": "stream",
          "text": [
            "\n",
            "Test set: Average loss: 0.4992, Accuracy: 8241/10000 (82.41%)\n",
            "\n",
            "epoch: 18\n"
          ]
        },
        {
          "name": "stderr",
          "output_type": "stream",
          "text": [
            "Batch_id=195 Loss=0.73833 Accuracy=74.18: 100%|████████████████████████████████████████████████| 196/196 [00:04<00:00, 42.63it/s]\n"
          ]
        },
        {
          "name": "stdout",
          "output_type": "stream",
          "text": [
            "\n",
            "Test set: Average loss: 0.5280, Accuracy: 8191/10000 (81.91%)\n",
            "\n",
            "epoch: 19\n"
          ]
        },
        {
          "name": "stderr",
          "output_type": "stream",
          "text": [
            "Batch_id=195 Loss=0.73659 Accuracy=74.05: 100%|████████████████████████████████████████████████| 196/196 [00:04<00:00, 41.81it/s]\n"
          ]
        },
        {
          "name": "stdout",
          "output_type": "stream",
          "text": [
            "\n",
            "Test set: Average loss: 0.4936, Accuracy: 8270/10000 (82.70%)\n",
            "\n",
            "epoch: 20\n"
          ]
        },
        {
          "name": "stderr",
          "output_type": "stream",
          "text": [
            "Batch_id=195 Loss=0.73776 Accuracy=74.07: 100%|████████████████████████████████████████████████| 196/196 [00:04<00:00, 43.34it/s]\n"
          ]
        },
        {
          "name": "stdout",
          "output_type": "stream",
          "text": [
            "\n",
            "Test set: Average loss: 0.4813, Accuracy: 8350/10000 (83.50%)\n",
            "\n",
            "epoch: 21\n"
          ]
        },
        {
          "name": "stderr",
          "output_type": "stream",
          "text": [
            "Batch_id=195 Loss=0.73544 Accuracy=74.20: 100%|████████████████████████████████████████████████| 196/196 [00:04<00:00, 43.70it/s]\n"
          ]
        },
        {
          "name": "stdout",
          "output_type": "stream",
          "text": [
            "\n",
            "Test set: Average loss: 0.4853, Accuracy: 8334/10000 (83.34%)\n",
            "\n",
            "epoch: 22\n"
          ]
        },
        {
          "name": "stderr",
          "output_type": "stream",
          "text": [
            "Batch_id=195 Loss=0.73774 Accuracy=74.22: 100%|████████████████████████████████████████████████| 196/196 [00:04<00:00, 43.74it/s]\n"
          ]
        },
        {
          "name": "stdout",
          "output_type": "stream",
          "text": [
            "\n",
            "Test set: Average loss: 0.5016, Accuracy: 8284/10000 (82.84%)\n",
            "\n",
            "epoch: 23\n"
          ]
        },
        {
          "name": "stderr",
          "output_type": "stream",
          "text": [
            "Batch_id=195 Loss=0.73258 Accuracy=74.27: 100%|████████████████████████████████████████████████| 196/196 [00:04<00:00, 43.44it/s]\n"
          ]
        },
        {
          "name": "stdout",
          "output_type": "stream",
          "text": [
            "\n",
            "Test set: Average loss: 0.4905, Accuracy: 8310/10000 (83.10%)\n",
            "\n",
            "epoch: 24\n"
          ]
        },
        {
          "name": "stderr",
          "output_type": "stream",
          "text": [
            "Batch_id=195 Loss=0.73532 Accuracy=74.26: 100%|████████████████████████████████████████████████| 196/196 [00:04<00:00, 44.26it/s]\n"
          ]
        },
        {
          "name": "stdout",
          "output_type": "stream",
          "text": [
            "\n",
            "Test set: Average loss: 0.4789, Accuracy: 8315/10000 (83.15%)\n",
            "\n",
            "epoch: 25\n"
          ]
        },
        {
          "name": "stderr",
          "output_type": "stream",
          "text": [
            "Batch_id=195 Loss=0.72468 Accuracy=74.52: 100%|████████████████████████████████████████████████| 196/196 [00:04<00:00, 43.40it/s]\n"
          ]
        },
        {
          "name": "stdout",
          "output_type": "stream",
          "text": [
            "\n",
            "Test set: Average loss: 0.4908, Accuracy: 8340/10000 (83.40%)\n",
            "\n",
            "epoch: 26\n"
          ]
        },
        {
          "name": "stderr",
          "output_type": "stream",
          "text": [
            "Batch_id=195 Loss=0.71717 Accuracy=75.08: 100%|████████████████████████████████████████████████| 196/196 [00:04<00:00, 44.28it/s]\n"
          ]
        },
        {
          "name": "stdout",
          "output_type": "stream",
          "text": [
            "\n",
            "Test set: Average loss: 0.5061, Accuracy: 8284/10000 (82.84%)\n",
            "\n",
            "epoch: 27\n"
          ]
        },
        {
          "name": "stderr",
          "output_type": "stream",
          "text": [
            "Batch_id=195 Loss=0.72306 Accuracy=74.52: 100%|████████████████████████████████████████████████| 196/196 [00:04<00:00, 43.61it/s]\n"
          ]
        },
        {
          "name": "stdout",
          "output_type": "stream",
          "text": [
            "\n",
            "Test set: Average loss: 0.4724, Accuracy: 8378/10000 (83.78%)\n",
            "\n",
            "epoch: 28\n"
          ]
        },
        {
          "name": "stderr",
          "output_type": "stream",
          "text": [
            "Batch_id=195 Loss=0.71937 Accuracy=74.78: 100%|████████████████████████████████████████████████| 196/196 [00:04<00:00, 43.24it/s]\n"
          ]
        },
        {
          "name": "stdout",
          "output_type": "stream",
          "text": [
            "\n",
            "Test set: Average loss: 0.5084, Accuracy: 8287/10000 (82.87%)\n",
            "\n",
            "epoch: 29\n"
          ]
        },
        {
          "name": "stderr",
          "output_type": "stream",
          "text": [
            "Batch_id=195 Loss=0.71261 Accuracy=75.00: 100%|████████████████████████████████████████████████| 196/196 [00:04<00:00, 43.00it/s]\n"
          ]
        },
        {
          "name": "stdout",
          "output_type": "stream",
          "text": [
            "\n",
            "Test set: Average loss: 0.4762, Accuracy: 8331/10000 (83.31%)\n",
            "\n",
            "epoch: 30\n"
          ]
        },
        {
          "name": "stderr",
          "output_type": "stream",
          "text": [
            "Batch_id=195 Loss=0.71218 Accuracy=75.02: 100%|████████████████████████████████████████████████| 196/196 [00:04<00:00, 43.64it/s]\n"
          ]
        },
        {
          "name": "stdout",
          "output_type": "stream",
          "text": [
            "\n",
            "Test set: Average loss: 0.4808, Accuracy: 8358/10000 (83.58%)\n",
            "\n",
            "epoch: 31\n"
          ]
        },
        {
          "name": "stderr",
          "output_type": "stream",
          "text": [
            "Batch_id=195 Loss=0.71072 Accuracy=75.04: 100%|████████████████████████████████████████████████| 196/196 [00:04<00:00, 44.37it/s]\n"
          ]
        },
        {
          "name": "stdout",
          "output_type": "stream",
          "text": [
            "\n",
            "Test set: Average loss: 0.4681, Accuracy: 8408/10000 (84.08%)\n",
            "\n",
            "epoch: 32\n"
          ]
        },
        {
          "name": "stderr",
          "output_type": "stream",
          "text": [
            "Batch_id=195 Loss=0.70422 Accuracy=75.35: 100%|████████████████████████████████████████████████| 196/196 [00:04<00:00, 43.51it/s]\n"
          ]
        },
        {
          "name": "stdout",
          "output_type": "stream",
          "text": [
            "\n",
            "Test set: Average loss: 0.4933, Accuracy: 8296/10000 (82.96%)\n",
            "\n",
            "epoch: 33\n"
          ]
        },
        {
          "name": "stderr",
          "output_type": "stream",
          "text": [
            "Batch_id=195 Loss=0.70293 Accuracy=75.40: 100%|████████████████████████████████████████████████| 196/196 [00:04<00:00, 43.37it/s]\n"
          ]
        },
        {
          "name": "stdout",
          "output_type": "stream",
          "text": [
            "\n",
            "Test set: Average loss: 0.4615, Accuracy: 8388/10000 (83.88%)\n",
            "\n",
            "epoch: 34\n"
          ]
        },
        {
          "name": "stderr",
          "output_type": "stream",
          "text": [
            "Batch_id=195 Loss=0.70113 Accuracy=75.41: 100%|████████████████████████████████████████████████| 196/196 [00:04<00:00, 43.21it/s]\n"
          ]
        },
        {
          "name": "stdout",
          "output_type": "stream",
          "text": [
            "\n",
            "Test set: Average loss: 0.4887, Accuracy: 8341/10000 (83.41%)\n",
            "\n",
            "epoch: 35\n"
          ]
        },
        {
          "name": "stderr",
          "output_type": "stream",
          "text": [
            "Batch_id=195 Loss=0.70233 Accuracy=75.41: 100%|████████████████████████████████████████████████| 196/196 [00:04<00:00, 43.68it/s]\n"
          ]
        },
        {
          "name": "stdout",
          "output_type": "stream",
          "text": [
            "\n",
            "Test set: Average loss: 0.4641, Accuracy: 8392/10000 (83.92%)\n",
            "\n",
            "epoch: 36\n"
          ]
        },
        {
          "name": "stderr",
          "output_type": "stream",
          "text": [
            "Batch_id=195 Loss=0.69311 Accuracy=75.68: 100%|████████████████████████████████████████████████| 196/196 [00:04<00:00, 43.86it/s]\n"
          ]
        },
        {
          "name": "stdout",
          "output_type": "stream",
          "text": [
            "\n",
            "Test set: Average loss: 0.4672, Accuracy: 8359/10000 (83.59%)\n",
            "\n",
            "epoch: 37\n"
          ]
        },
        {
          "name": "stderr",
          "output_type": "stream",
          "text": [
            "Batch_id=195 Loss=0.69348 Accuracy=75.63: 100%|████████████████████████████████████████████████| 196/196 [00:04<00:00, 43.47it/s]\n"
          ]
        },
        {
          "name": "stdout",
          "output_type": "stream",
          "text": [
            "\n",
            "Test set: Average loss: 0.4644, Accuracy: 8421/10000 (84.21%)\n",
            "\n",
            "epoch: 38\n"
          ]
        },
        {
          "name": "stderr",
          "output_type": "stream",
          "text": [
            "Batch_id=195 Loss=0.69802 Accuracy=75.46: 100%|████████████████████████████████████████████████| 196/196 [00:04<00:00, 43.24it/s]\n"
          ]
        },
        {
          "name": "stdout",
          "output_type": "stream",
          "text": [
            "\n",
            "Test set: Average loss: 0.4496, Accuracy: 8466/10000 (84.66%)\n",
            "\n",
            "epoch: 39\n"
          ]
        },
        {
          "name": "stderr",
          "output_type": "stream",
          "text": [
            "Batch_id=195 Loss=0.69247 Accuracy=75.68: 100%|████████████████████████████████████████████████| 196/196 [00:04<00:00, 43.56it/s]\n"
          ]
        },
        {
          "name": "stdout",
          "output_type": "stream",
          "text": [
            "\n",
            "Test set: Average loss: 0.4552, Accuracy: 8461/10000 (84.61%)\n",
            "\n",
            "epoch: 40\n"
          ]
        },
        {
          "name": "stderr",
          "output_type": "stream",
          "text": [
            "Batch_id=195 Loss=0.67849 Accuracy=76.11: 100%|████████████████████████████████████████████████| 196/196 [00:04<00:00, 43.35it/s]\n"
          ]
        },
        {
          "name": "stdout",
          "output_type": "stream",
          "text": [
            "\n",
            "Test set: Average loss: 0.4873, Accuracy: 8347/10000 (83.47%)\n",
            "\n",
            "epoch: 41\n"
          ]
        },
        {
          "name": "stderr",
          "output_type": "stream",
          "text": [
            "Batch_id=195 Loss=0.67898 Accuracy=76.09: 100%|████████████████████████████████████████████████| 196/196 [00:04<00:00, 42.53it/s]\n"
          ]
        },
        {
          "name": "stdout",
          "output_type": "stream",
          "text": [
            "\n",
            "Test set: Average loss: 0.4774, Accuracy: 8396/10000 (83.96%)\n",
            "\n",
            "epoch: 42\n"
          ]
        },
        {
          "name": "stderr",
          "output_type": "stream",
          "text": [
            "Batch_id=195 Loss=0.68451 Accuracy=76.04: 100%|████████████████████████████████████████████████| 196/196 [00:04<00:00, 42.54it/s]\n"
          ]
        },
        {
          "name": "stdout",
          "output_type": "stream",
          "text": [
            "\n",
            "Test set: Average loss: 0.4573, Accuracy: 8424/10000 (84.24%)\n",
            "\n",
            "epoch: 43\n"
          ]
        },
        {
          "name": "stderr",
          "output_type": "stream",
          "text": [
            "Batch_id=195 Loss=0.68369 Accuracy=75.88: 100%|████████████████████████████████████████████████| 196/196 [00:04<00:00, 42.82it/s]\n"
          ]
        },
        {
          "name": "stdout",
          "output_type": "stream",
          "text": [
            "\n",
            "Test set: Average loss: 0.4398, Accuracy: 8498/10000 (84.98%)\n",
            "\n",
            "epoch: 44\n"
          ]
        },
        {
          "name": "stderr",
          "output_type": "stream",
          "text": [
            "Batch_id=195 Loss=0.68213 Accuracy=76.08: 100%|████████████████████████████████████████████████| 196/196 [00:04<00:00, 43.16it/s]\n"
          ]
        },
        {
          "name": "stdout",
          "output_type": "stream",
          "text": [
            "\n",
            "Test set: Average loss: 0.4620, Accuracy: 8401/10000 (84.01%)\n",
            "\n",
            "epoch: 45\n"
          ]
        },
        {
          "name": "stderr",
          "output_type": "stream",
          "text": [
            "Batch_id=195 Loss=0.66841 Accuracy=76.75: 100%|████████████████████████████████████████████████| 196/196 [00:04<00:00, 43.34it/s]\n"
          ]
        },
        {
          "name": "stdout",
          "output_type": "stream",
          "text": [
            "\n",
            "Test set: Average loss: 0.4586, Accuracy: 8427/10000 (84.27%)\n",
            "\n",
            "epoch: 46\n"
          ]
        },
        {
          "name": "stderr",
          "output_type": "stream",
          "text": [
            "Batch_id=195 Loss=0.67347 Accuracy=76.60: 100%|████████████████████████████████████████████████| 196/196 [00:04<00:00, 43.52it/s]\n"
          ]
        },
        {
          "name": "stdout",
          "output_type": "stream",
          "text": [
            "\n",
            "Test set: Average loss: 0.4404, Accuracy: 8512/10000 (85.12%)\n",
            "\n",
            "epoch: 47\n"
          ]
        },
        {
          "name": "stderr",
          "output_type": "stream",
          "text": [
            "Batch_id=195 Loss=0.66551 Accuracy=76.68: 100%|████████████████████████████████████████████████| 196/196 [00:04<00:00, 43.59it/s]\n"
          ]
        },
        {
          "name": "stdout",
          "output_type": "stream",
          "text": [
            "\n",
            "Test set: Average loss: 0.4205, Accuracy: 8540/10000 (85.40%)\n",
            "\n",
            "epoch: 48\n"
          ]
        },
        {
          "name": "stderr",
          "output_type": "stream",
          "text": [
            "Batch_id=195 Loss=0.66296 Accuracy=76.81: 100%|████████████████████████████████████████████████| 196/196 [00:04<00:00, 42.18it/s]\n"
          ]
        },
        {
          "name": "stdout",
          "output_type": "stream",
          "text": [
            "\n",
            "Test set: Average loss: 0.4350, Accuracy: 8494/10000 (84.94%)\n",
            "\n",
            "epoch: 49\n"
          ]
        },
        {
          "name": "stderr",
          "output_type": "stream",
          "text": [
            "Batch_id=195 Loss=0.66612 Accuracy=76.61: 100%|████████████████████████████████████████████████| 196/196 [00:04<00:00, 43.38it/s]\n"
          ]
        },
        {
          "name": "stdout",
          "output_type": "stream",
          "text": [
            "\n",
            "Test set: Average loss: 0.4383, Accuracy: 8512/10000 (85.12%)\n",
            "\n",
            "epoch: 50\n"
          ]
        },
        {
          "name": "stderr",
          "output_type": "stream",
          "text": [
            "Batch_id=195 Loss=0.65578 Accuracy=76.95: 100%|████████████████████████████████████████████████| 196/196 [00:04<00:00, 43.53it/s]\n"
          ]
        },
        {
          "name": "stdout",
          "output_type": "stream",
          "text": [
            "\n",
            "Test set: Average loss: 0.4373, Accuracy: 8510/10000 (85.10%)\n",
            "\n",
            "epoch: 51\n"
          ]
        },
        {
          "name": "stderr",
          "output_type": "stream",
          "text": [
            "Batch_id=195 Loss=0.65706 Accuracy=77.19: 100%|████████████████████████████████████████████████| 196/196 [00:04<00:00, 43.54it/s]\n"
          ]
        },
        {
          "name": "stdout",
          "output_type": "stream",
          "text": [
            "\n",
            "Test set: Average loss: 0.4423, Accuracy: 8481/10000 (84.81%)\n",
            "\n",
            "epoch: 52\n"
          ]
        },
        {
          "name": "stderr",
          "output_type": "stream",
          "text": [
            "Batch_id=195 Loss=0.65235 Accuracy=76.98: 100%|████████████████████████████████████████████████| 196/196 [00:04<00:00, 43.26it/s]\n"
          ]
        },
        {
          "name": "stdout",
          "output_type": "stream",
          "text": [
            "\n",
            "Test set: Average loss: 0.4126, Accuracy: 8587/10000 (85.87%)\n",
            "\n",
            "epoch: 53\n"
          ]
        },
        {
          "name": "stderr",
          "output_type": "stream",
          "text": [
            "Batch_id=195 Loss=0.65746 Accuracy=77.03: 100%|████████████████████████████████████████████████| 196/196 [00:04<00:00, 43.08it/s]\n"
          ]
        },
        {
          "name": "stdout",
          "output_type": "stream",
          "text": [
            "\n",
            "Test set: Average loss: 0.4318, Accuracy: 8536/10000 (85.36%)\n",
            "\n",
            "epoch: 54\n"
          ]
        },
        {
          "name": "stderr",
          "output_type": "stream",
          "text": [
            "Batch_id=195 Loss=0.65202 Accuracy=77.07: 100%|████████████████████████████████████████████████| 196/196 [00:04<00:00, 43.47it/s]\n"
          ]
        },
        {
          "name": "stdout",
          "output_type": "stream",
          "text": [
            "\n",
            "Test set: Average loss: 0.4169, Accuracy: 8573/10000 (85.73%)\n",
            "\n",
            "epoch: 55\n"
          ]
        },
        {
          "name": "stderr",
          "output_type": "stream",
          "text": [
            "Batch_id=195 Loss=0.64691 Accuracy=77.26: 100%|████████████████████████████████████████████████| 196/196 [00:04<00:00, 43.70it/s]\n"
          ]
        },
        {
          "name": "stdout",
          "output_type": "stream",
          "text": [
            "\n",
            "Test set: Average loss: 0.4248, Accuracy: 8531/10000 (85.31%)\n",
            "\n",
            "epoch: 56\n"
          ]
        },
        {
          "name": "stderr",
          "output_type": "stream",
          "text": [
            "Batch_id=195 Loss=0.63552 Accuracy=77.89: 100%|████████████████████████████████████████████████| 196/196 [00:04<00:00, 43.28it/s]\n"
          ]
        },
        {
          "name": "stdout",
          "output_type": "stream",
          "text": [
            "\n",
            "Test set: Average loss: 0.4210, Accuracy: 8558/10000 (85.58%)\n",
            "\n",
            "epoch: 57\n"
          ]
        },
        {
          "name": "stderr",
          "output_type": "stream",
          "text": [
            "Batch_id=195 Loss=0.64457 Accuracy=77.51: 100%|████████████████████████████████████████████████| 196/196 [00:04<00:00, 43.41it/s]\n"
          ]
        },
        {
          "name": "stdout",
          "output_type": "stream",
          "text": [
            "\n",
            "Test set: Average loss: 0.4106, Accuracy: 8627/10000 (86.27%)\n",
            "\n",
            "epoch: 58\n"
          ]
        },
        {
          "name": "stderr",
          "output_type": "stream",
          "text": [
            "Batch_id=195 Loss=0.64183 Accuracy=77.49: 100%|████████████████████████████████████████████████| 196/196 [00:04<00:00, 43.01it/s]\n"
          ]
        },
        {
          "name": "stdout",
          "output_type": "stream",
          "text": [
            "\n",
            "Test set: Average loss: 0.4078, Accuracy: 8587/10000 (85.87%)\n",
            "\n",
            "epoch: 59\n"
          ]
        },
        {
          "name": "stderr",
          "output_type": "stream",
          "text": [
            "Batch_id=195 Loss=0.63325 Accuracy=77.68: 100%|████████████████████████████████████████████████| 196/196 [00:04<00:00, 43.10it/s]\n"
          ]
        },
        {
          "name": "stdout",
          "output_type": "stream",
          "text": [
            "\n",
            "Test set: Average loss: 0.4031, Accuracy: 8602/10000 (86.02%)\n",
            "\n",
            "epoch: 60\n"
          ]
        },
        {
          "name": "stderr",
          "output_type": "stream",
          "text": [
            "Batch_id=195 Loss=0.63349 Accuracy=77.78: 100%|████████████████████████████████████████████████| 196/196 [00:04<00:00, 43.86it/s]\n"
          ]
        },
        {
          "name": "stdout",
          "output_type": "stream",
          "text": [
            "\n",
            "Test set: Average loss: 0.4119, Accuracy: 8580/10000 (85.80%)\n",
            "\n",
            "epoch: 61\n"
          ]
        },
        {
          "name": "stderr",
          "output_type": "stream",
          "text": [
            "Batch_id=195 Loss=0.63464 Accuracy=77.99: 100%|████████████████████████████████████████████████| 196/196 [00:04<00:00, 43.71it/s]\n"
          ]
        },
        {
          "name": "stdout",
          "output_type": "stream",
          "text": [
            "\n",
            "Test set: Average loss: 0.4062, Accuracy: 8585/10000 (85.85%)\n",
            "\n",
            "epoch: 62\n"
          ]
        },
        {
          "name": "stderr",
          "output_type": "stream",
          "text": [
            "Batch_id=195 Loss=0.62403 Accuracy=78.17: 100%|████████████████████████████████████████████████| 196/196 [00:04<00:00, 42.96it/s]\n"
          ]
        },
        {
          "name": "stdout",
          "output_type": "stream",
          "text": [
            "\n",
            "Test set: Average loss: 0.3936, Accuracy: 8666/10000 (86.66%)\n",
            "\n",
            "epoch: 63\n"
          ]
        },
        {
          "name": "stderr",
          "output_type": "stream",
          "text": [
            "Batch_id=195 Loss=0.61961 Accuracy=78.21: 100%|████████████████████████████████████████████████| 196/196 [00:04<00:00, 42.56it/s]\n"
          ]
        },
        {
          "name": "stdout",
          "output_type": "stream",
          "text": [
            "\n",
            "Test set: Average loss: 0.4012, Accuracy: 8626/10000 (86.26%)\n",
            "\n",
            "epoch: 64\n"
          ]
        },
        {
          "name": "stderr",
          "output_type": "stream",
          "text": [
            "Batch_id=195 Loss=0.62083 Accuracy=78.29: 100%|████████████████████████████████████████████████| 196/196 [00:04<00:00, 43.51it/s]\n"
          ]
        },
        {
          "name": "stdout",
          "output_type": "stream",
          "text": [
            "\n",
            "Test set: Average loss: 0.3932, Accuracy: 8644/10000 (86.44%)\n",
            "\n",
            "epoch: 65\n"
          ]
        },
        {
          "name": "stderr",
          "output_type": "stream",
          "text": [
            "Batch_id=195 Loss=0.61821 Accuracy=78.33: 100%|████████████████████████████████████████████████| 196/196 [00:04<00:00, 43.02it/s]\n"
          ]
        },
        {
          "name": "stdout",
          "output_type": "stream",
          "text": [
            "\n",
            "Test set: Average loss: 0.3904, Accuracy: 8666/10000 (86.66%)\n",
            "\n",
            "epoch: 66\n"
          ]
        },
        {
          "name": "stderr",
          "output_type": "stream",
          "text": [
            "Batch_id=195 Loss=0.61580 Accuracy=78.32: 100%|████████████████████████████████████████████████| 196/196 [00:04<00:00, 43.37it/s]\n"
          ]
        },
        {
          "name": "stdout",
          "output_type": "stream",
          "text": [
            "\n",
            "Test set: Average loss: 0.3895, Accuracy: 8671/10000 (86.71%)\n",
            "\n",
            "epoch: 67\n"
          ]
        },
        {
          "name": "stderr",
          "output_type": "stream",
          "text": [
            "Batch_id=195 Loss=0.60302 Accuracy=78.91: 100%|████████████████████████████████████████████████| 196/196 [00:04<00:00, 43.03it/s]\n"
          ]
        },
        {
          "name": "stdout",
          "output_type": "stream",
          "text": [
            "\n",
            "Test set: Average loss: 0.3913, Accuracy: 8664/10000 (86.64%)\n",
            "\n",
            "epoch: 68\n"
          ]
        },
        {
          "name": "stderr",
          "output_type": "stream",
          "text": [
            "Batch_id=195 Loss=0.60736 Accuracy=78.73: 100%|████████████████████████████████████████████████| 196/196 [00:04<00:00, 43.50it/s]\n"
          ]
        },
        {
          "name": "stdout",
          "output_type": "stream",
          "text": [
            "\n",
            "Test set: Average loss: 0.3814, Accuracy: 8699/10000 (86.99%)\n",
            "\n",
            "epoch: 69\n"
          ]
        },
        {
          "name": "stderr",
          "output_type": "stream",
          "text": [
            "Batch_id=195 Loss=0.60744 Accuracy=78.55: 100%|████████████████████████████████████████████████| 196/196 [00:04<00:00, 43.54it/s]\n"
          ]
        },
        {
          "name": "stdout",
          "output_type": "stream",
          "text": [
            "\n",
            "Test set: Average loss: 0.3835, Accuracy: 8667/10000 (86.67%)\n",
            "\n",
            "epoch: 70\n"
          ]
        },
        {
          "name": "stderr",
          "output_type": "stream",
          "text": [
            "Batch_id=195 Loss=0.60209 Accuracy=78.94: 100%|████████████████████████████████████████████████| 196/196 [00:04<00:00, 43.44it/s]\n"
          ]
        },
        {
          "name": "stdout",
          "output_type": "stream",
          "text": [
            "\n",
            "Test set: Average loss: 0.3867, Accuracy: 8687/10000 (86.87%)\n",
            "\n",
            "epoch: 71\n"
          ]
        },
        {
          "name": "stderr",
          "output_type": "stream",
          "text": [
            "Batch_id=195 Loss=0.59202 Accuracy=79.30: 100%|████████████████████████████████████████████████| 196/196 [00:04<00:00, 44.07it/s]\n"
          ]
        },
        {
          "name": "stdout",
          "output_type": "stream",
          "text": [
            "\n",
            "Test set: Average loss: 0.3832, Accuracy: 8692/10000 (86.92%)\n",
            "\n",
            "epoch: 72\n"
          ]
        },
        {
          "name": "stderr",
          "output_type": "stream",
          "text": [
            "Batch_id=195 Loss=0.59100 Accuracy=79.33: 100%|████████████████████████████████████████████████| 196/196 [00:04<00:00, 43.25it/s]\n"
          ]
        },
        {
          "name": "stdout",
          "output_type": "stream",
          "text": [
            "\n",
            "Test set: Average loss: 0.3792, Accuracy: 8704/10000 (87.04%)\n",
            "\n",
            "epoch: 73\n"
          ]
        },
        {
          "name": "stderr",
          "output_type": "stream",
          "text": [
            "Batch_id=195 Loss=0.59697 Accuracy=79.13: 100%|████████████████████████████████████████████████| 196/196 [00:04<00:00, 42.85it/s]\n"
          ]
        },
        {
          "name": "stdout",
          "output_type": "stream",
          "text": [
            "\n",
            "Test set: Average loss: 0.3768, Accuracy: 8713/10000 (87.13%)\n",
            "\n",
            "epoch: 74\n"
          ]
        },
        {
          "name": "stderr",
          "output_type": "stream",
          "text": [
            "Batch_id=195 Loss=0.59244 Accuracy=79.24: 100%|████████████████████████████████████████████████| 196/196 [00:04<00:00, 43.11it/s]\n"
          ]
        },
        {
          "name": "stdout",
          "output_type": "stream",
          "text": [
            "\n",
            "Test set: Average loss: 0.3755, Accuracy: 8713/10000 (87.13%)\n",
            "\n",
            "epoch: 75\n"
          ]
        },
        {
          "name": "stderr",
          "output_type": "stream",
          "text": [
            "Batch_id=195 Loss=0.59153 Accuracy=79.18: 100%|████████████████████████████████████████████████| 196/196 [00:04<00:00, 43.00it/s]\n"
          ]
        },
        {
          "name": "stdout",
          "output_type": "stream",
          "text": [
            "\n",
            "Test set: Average loss: 0.3758, Accuracy: 8725/10000 (87.25%)\n",
            "\n",
            "epoch: 76\n"
          ]
        },
        {
          "name": "stderr",
          "output_type": "stream",
          "text": [
            "Batch_id=195 Loss=0.58909 Accuracy=79.24: 100%|████████████████████████████████████████████████| 196/196 [00:04<00:00, 43.24it/s]\n"
          ]
        },
        {
          "name": "stdout",
          "output_type": "stream",
          "text": [
            "\n",
            "Test set: Average loss: 0.3763, Accuracy: 8725/10000 (87.25%)\n",
            "\n",
            "epoch: 77\n"
          ]
        },
        {
          "name": "stderr",
          "output_type": "stream",
          "text": [
            "Batch_id=195 Loss=0.58655 Accuracy=79.27: 100%|████████████████████████████████████████████████| 196/196 [00:04<00:00, 43.39it/s]\n"
          ]
        },
        {
          "name": "stdout",
          "output_type": "stream",
          "text": [
            "\n",
            "Test set: Average loss: 0.3749, Accuracy: 8723/10000 (87.23%)\n",
            "\n",
            "epoch: 78\n"
          ]
        },
        {
          "name": "stderr",
          "output_type": "stream",
          "text": [
            "Batch_id=195 Loss=0.58294 Accuracy=79.50: 100%|████████████████████████████████████████████████| 196/196 [00:04<00:00, 43.96it/s]\n"
          ]
        },
        {
          "name": "stdout",
          "output_type": "stream",
          "text": [
            "\n",
            "Test set: Average loss: 0.3764, Accuracy: 8719/10000 (87.19%)\n",
            "\n",
            "epoch: 79\n"
          ]
        },
        {
          "name": "stderr",
          "output_type": "stream",
          "text": [
            "Batch_id=195 Loss=0.58267 Accuracy=79.52: 100%|████████████████████████████████████████████████| 196/196 [00:04<00:00, 43.62it/s]\n"
          ]
        },
        {
          "name": "stdout",
          "output_type": "stream",
          "text": [
            "\n",
            "Test set: Average loss: 0.3744, Accuracy: 8735/10000 (87.35%)\n",
            "\n",
            "epoch: 80\n"
          ]
        },
        {
          "name": "stderr",
          "output_type": "stream",
          "text": [
            "Batch_id=195 Loss=0.58862 Accuracy=79.34: 100%|████████████████████████████████████████████████| 196/196 [00:04<00:00, 43.74it/s]\n"
          ]
        },
        {
          "name": "stdout",
          "output_type": "stream",
          "text": [
            "\n",
            "Test set: Average loss: 0.3756, Accuracy: 8720/10000 (87.20%)\n",
            "\n"
          ]
        }
      ]
    },
    {
      "cell_type": "markdown",
      "metadata": {
        "id": "u8ic-lGkKzSB"
      },
      "source": [
        "## Plotting Graphs"
      ]
    },
    {
      "cell_type": "code",
      "metadata": {
        "colab": {
          "base_uri": "https://localhost:8080/",
          "height": 451
        },
        "id": "qvIIDij7p8tb",
        "outputId": "87cd17f0-ec4f-4ca7-805f-7243e74d2963"
      },
      "source": [
        "print(training_output_data)\n",
        "train_accuracy = training_output_data[\"train_Acc\"]\n",
        "train_loss = training_output_data[\"train_Loss\"]\n",
        "\n",
        "test_accuracy = training_output_data[\"test_Acc\"]\n",
        "test_loss = training_output_data[\"test_Loss\"]\n",
        "\n",
        "plot_axis(train_loss=train_loss, test_loss=test_loss, train_accur = train_accuracy, test_accur=test_accuracy)"
      ],
      "execution_count": null,
      "outputs": [
        {
          "name": "stdout",
          "output_type": "stream",
          "text": [
            "{'train_Acc': [75.304, 75.512, 75.35, 75.038, 74.932, 74.936, 74.546, 74.346, 74.486, 74.222, 74.016, 74.194, 73.92, 73.952, 74.178, 73.576, 73.748, 74.182, 74.046, 74.074, 74.198, 74.218, 74.266, 74.256, 74.516, 75.078, 74.52, 74.78, 75.0, 75.024, 75.04, 75.352, 75.404, 75.406, 75.41, 75.684, 75.634, 75.458, 75.684, 76.11, 76.09, 76.044, 75.876, 76.078, 76.752, 76.6, 76.682, 76.808, 76.606, 76.946, 77.186, 76.984, 77.032, 77.068, 77.264, 77.894, 77.506, 77.492, 77.682, 77.782, 77.992, 78.168, 78.208, 78.286, 78.33, 78.322, 78.912, 78.73, 78.554, 78.936, 79.298, 79.334, 79.128, 79.242, 79.182, 79.244, 79.274, 79.5, 79.522, 79.344], 'train_Loss': [0.7012897422727273, 0.6996661290830496, 0.7041617102768957, 0.7134380124661387, 0.7151028541277866, 0.7183886565724198, 0.7216964224163367, 0.7336945156661832, 0.7307295087648897, 0.733859224891176, 0.7423409594565021, 0.7389396565909289, 0.739178442833375, 0.7416444767494591, 0.7366895131310638, 0.75308395009868, 0.7512516023553147, 0.7383286965136625, 0.7365868541659141, 0.7377570721567893, 0.735435212753257, 0.7377355171709644, 0.7325756610656271, 0.7353211884595909, 0.724682134024951, 0.7171703002282551, 0.7230634488621537, 0.7193704043724098, 0.7126070781021702, 0.7121822526868509, 0.7107184106598095, 0.7042171885164417, 0.7029322808494374, 0.7011278455658835, 0.7023275990267189, 0.6931100819183855, 0.6934818196661618, 0.6980238699791382, 0.6924691844959648, 0.6784931850068423, 0.6789835508988828, 0.6845142147978958, 0.6836869236157865, 0.6821312338721995, 0.6684075563537831, 0.6734666918613472, 0.6655067130923271, 0.6629563040879308, 0.6661182298344008, 0.6557755111431589, 0.6570644130816266, 0.6523462416870254, 0.6574630246174579, 0.652023902961186, 0.6469077545465255, 0.6355232588794767, 0.6445671444644734, 0.6418262382551115, 0.6332532673770067, 0.6334868494649323, 0.6346396949826455, 0.6240323920335088, 0.6196144296198475, 0.6208256458749577, 0.6182050250318586, 0.6158047248514331, 0.6030178152176798, 0.6073580930123523, 0.6074449596356373, 0.6020901075431279, 0.5920193843087371, 0.591004384111385, 0.596966992987662, 0.5924442183910584, 0.5915302518679171, 0.5890919376088648, 0.5865549834407106, 0.5829406877865597, 0.5826745588256388, 0.5886202218885325], 'test_Acc': [84.42, 84.27, 84.35, 84.04, 83.83, 83.98, 83.29, 83.14, 83.56, 82.56, 83.23, 82.98, 83.03, 82.95, 81.33, 82.84, 82.41, 81.91, 82.7, 83.5, 83.34, 82.84, 83.1, 83.15, 83.4, 82.84, 83.78, 82.87, 83.31, 83.58, 84.08, 82.96, 83.88, 83.41, 83.92, 83.59, 84.21, 84.66, 84.61, 83.47, 83.96, 84.24, 84.98, 84.01, 84.27, 85.12, 85.4, 84.94, 85.12, 85.1, 84.81, 85.87, 85.36, 85.73, 85.31, 85.58, 86.27, 85.87, 86.02, 85.8, 85.85, 86.66, 86.26, 86.44, 86.66, 86.71, 86.64, 86.99, 86.67, 86.87, 86.92, 87.04, 87.13, 87.13, 87.25, 87.25, 87.23, 87.19, 87.35, 87.2], 'test_Loss': [0.44838952071666716, 0.45344877858161925, 0.4505577841281891, 0.4666764210700989, 0.4721758407592773, 0.4641134024143219, 0.4855791997909546, 0.4905697781085968, 0.4774515296697617, 0.499183652305603, 0.49937392377853396, 0.49874155039787293, 0.5025365764379501, 0.49984242243766785, 0.5578923722267151, 0.5051172456264496, 0.4991921946287155, 0.5279693599939347, 0.4936294715166092, 0.48133531665802004, 0.4852769481182098, 0.5015527990341186, 0.49048375396728516, 0.47888899085521697, 0.4908322374343872, 0.5060999253034592, 0.4724209336280823, 0.5083522881984711, 0.4762485604763031, 0.48076167550086973, 0.46808031826019286, 0.493333617401123, 0.46154999685287473, 0.48871770796775815, 0.4641077318191528, 0.46716300020217894, 0.4644161787033081, 0.4495534419775009, 0.45516963770389557, 0.48725204863548277, 0.47736494407653807, 0.4572502791404724, 0.4397683325767517, 0.46199145550727844, 0.45856840224266054, 0.44042967257499693, 0.4205392438650131, 0.43504195561409, 0.4383349479675293, 0.4373448143005371, 0.4423178963661194, 0.41262760038375856, 0.43175344910621644, 0.41687786679267885, 0.42479360461235044, 0.4209748638629913, 0.41062572050094603, 0.4078493891000748, 0.40309405083656313, 0.41186050057411194, 0.4061844913482666, 0.39358239259719846, 0.40118189022541045, 0.3932090286016464, 0.3904036183595657, 0.3894946560382843, 0.39132388284206393, 0.38138051755428315, 0.3834663946390152, 0.3866682467699051, 0.38320628325939177, 0.3791709511756897, 0.3768256465435028, 0.3754507192611694, 0.3757571368694305, 0.37631520853042605, 0.3749287581682205, 0.37641531596183775, 0.3744469155788422, 0.3755518868923187]}\n"
          ]
        },
        {
          "data": {
            "image/png": "[encoded data removed]",
            "text/plain": [
              "<Figure size 1296x576 with 2 Axes>"
            ]
          },
          "metadata": {
            "needs_background": "light"
          },
          "output_type": "display_data"
        }
      ]
    }
  ]
}